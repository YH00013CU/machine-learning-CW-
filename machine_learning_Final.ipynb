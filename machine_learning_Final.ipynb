{
  "cells": [
    {
      "cell_type": "code",
      "execution_count": 1,
      "metadata": {
        "id": "fp7FKCVqK7BW"
      },
      "outputs": [],
      "source": [
        "import pandas as pd\n",
        "import matplotlib.pyplot as plt\n",
        "import seaborn as sns\n",
        "from sklearn.model_selection import train_test_split\n",
        "from sklearn.impute import SimpleImputer\n",
        "from sklearn.preprocessing import LabelEncoder\n",
        "from sklearn.ensemble import RandomForestClassifier\n",
        "from sklearn.metrics import accuracy_score, classification_report\n",
        "from sklearn.preprocessing import StandardScaler\n",
        "from sklearn.linear_model import LogisticRegression\n",
        "from sklearn.metrics import accuracy_score, classification_report, confusion_matrix\n",
        "from sklearn.svm import SVC\n",
        "from sklearn.preprocessing import StandardScaler, LabelEncoder\n",
        "from sklearn.metrics import accuracy_score, classification_report, confusion_matrix\n",
        "from tensorflow.keras.models import Sequential\n",
        "from tensorflow.keras.layers import Dense"
      ]
    },
    {
      "cell_type": "code",
      "execution_count": 2,
      "metadata": {
        "id": "TRymQRHkKpJU"
      },
      "outputs": [],
      "source": [
        "ds=pd.read_csv('bank-direct-marketing-campaigns.csv')"
      ]
    },
    {
      "cell_type": "code",
      "execution_count": 3,
      "metadata": {
        "colab": {
          "base_uri": "https://localhost:8080/",
          "height": 444
        },
        "id": "ayzfrN6oG6ku",
        "outputId": "b9d7431e-6e02-42cc-e62a-a0199ea5edfb"
      },
      "outputs": [
        {
          "output_type": "execute_result",
          "data": {
            "text/plain": [
              "       age          job  marital            education  default housing loan  \\\n",
              "0       56    housemaid  married             basic.4y       no      no   no   \n",
              "1       57     services  married          high.school  unknown      no   no   \n",
              "2       37     services  married          high.school       no     yes   no   \n",
              "3       40       admin.  married             basic.6y       no      no   no   \n",
              "4       56     services  married          high.school       no      no  yes   \n",
              "...    ...          ...      ...                  ...      ...     ...  ...   \n",
              "41183   73      retired  married  professional.course       no     yes   no   \n",
              "41184   46  blue-collar  married  professional.course       no      no   no   \n",
              "41185   56      retired  married    university.degree       no     yes   no   \n",
              "41186   44   technician  married  professional.course       no      no   no   \n",
              "41187   74      retired  married  professional.course       no     yes   no   \n",
              "\n",
              "         contact month day_of_week  campaign  pdays  previous     poutcome  \\\n",
              "0      telephone   may         mon         1    999         0  nonexistent   \n",
              "1      telephone   may         mon         1    999         0  nonexistent   \n",
              "2      telephone   may         mon         1    999         0  nonexistent   \n",
              "3      telephone   may         mon         1    999         0  nonexistent   \n",
              "4      telephone   may         mon         1    999         0  nonexistent   \n",
              "...          ...   ...         ...       ...    ...       ...          ...   \n",
              "41183   cellular   nov         fri         1    999         0  nonexistent   \n",
              "41184   cellular   nov         fri         1    999         0  nonexistent   \n",
              "41185   cellular   nov         fri         2    999         0  nonexistent   \n",
              "41186   cellular   nov         fri         1    999         0  nonexistent   \n",
              "41187   cellular   nov         fri         3    999         1      failure   \n",
              "\n",
              "       emp.var.rate  cons.price.idx  cons.conf.idx  euribor3m  nr.employed  \\\n",
              "0               1.1          93.994          -36.4      4.857       5191.0   \n",
              "1               1.1          93.994          -36.4      4.857       5191.0   \n",
              "2               1.1          93.994          -36.4      4.857       5191.0   \n",
              "3               1.1          93.994          -36.4      4.857       5191.0   \n",
              "4               1.1          93.994          -36.4      4.857       5191.0   \n",
              "...             ...             ...            ...        ...          ...   \n",
              "41183          -1.1          94.767          -50.8      1.028       4963.6   \n",
              "41184          -1.1          94.767          -50.8      1.028       4963.6   \n",
              "41185          -1.1          94.767          -50.8      1.028       4963.6   \n",
              "41186          -1.1          94.767          -50.8      1.028       4963.6   \n",
              "41187          -1.1          94.767          -50.8      1.028       4963.6   \n",
              "\n",
              "         y  \n",
              "0       no  \n",
              "1       no  \n",
              "2       no  \n",
              "3       no  \n",
              "4       no  \n",
              "...    ...  \n",
              "41183  yes  \n",
              "41184   no  \n",
              "41185   no  \n",
              "41186  yes  \n",
              "41187   no  \n",
              "\n",
              "[41188 rows x 20 columns]"
            ],
            "text/html": [
              "\n",
              "  <div id=\"df-ca739971-47be-400c-aecc-22c87eca201a\" class=\"colab-df-container\">\n",
              "    <div>\n",
              "<style scoped>\n",
              "    .dataframe tbody tr th:only-of-type {\n",
              "        vertical-align: middle;\n",
              "    }\n",
              "\n",
              "    .dataframe tbody tr th {\n",
              "        vertical-align: top;\n",
              "    }\n",
              "\n",
              "    .dataframe thead th {\n",
              "        text-align: right;\n",
              "    }\n",
              "</style>\n",
              "<table border=\"1\" class=\"dataframe\">\n",
              "  <thead>\n",
              "    <tr style=\"text-align: right;\">\n",
              "      <th></th>\n",
              "      <th>age</th>\n",
              "      <th>job</th>\n",
              "      <th>marital</th>\n",
              "      <th>education</th>\n",
              "      <th>default</th>\n",
              "      <th>housing</th>\n",
              "      <th>loan</th>\n",
              "      <th>contact</th>\n",
              "      <th>month</th>\n",
              "      <th>day_of_week</th>\n",
              "      <th>campaign</th>\n",
              "      <th>pdays</th>\n",
              "      <th>previous</th>\n",
              "      <th>poutcome</th>\n",
              "      <th>emp.var.rate</th>\n",
              "      <th>cons.price.idx</th>\n",
              "      <th>cons.conf.idx</th>\n",
              "      <th>euribor3m</th>\n",
              "      <th>nr.employed</th>\n",
              "      <th>y</th>\n",
              "    </tr>\n",
              "  </thead>\n",
              "  <tbody>\n",
              "    <tr>\n",
              "      <th>0</th>\n",
              "      <td>56</td>\n",
              "      <td>housemaid</td>\n",
              "      <td>married</td>\n",
              "      <td>basic.4y</td>\n",
              "      <td>no</td>\n",
              "      <td>no</td>\n",
              "      <td>no</td>\n",
              "      <td>telephone</td>\n",
              "      <td>may</td>\n",
              "      <td>mon</td>\n",
              "      <td>1</td>\n",
              "      <td>999</td>\n",
              "      <td>0</td>\n",
              "      <td>nonexistent</td>\n",
              "      <td>1.1</td>\n",
              "      <td>93.994</td>\n",
              "      <td>-36.4</td>\n",
              "      <td>4.857</td>\n",
              "      <td>5191.0</td>\n",
              "      <td>no</td>\n",
              "    </tr>\n",
              "    <tr>\n",
              "      <th>1</th>\n",
              "      <td>57</td>\n",
              "      <td>services</td>\n",
              "      <td>married</td>\n",
              "      <td>high.school</td>\n",
              "      <td>unknown</td>\n",
              "      <td>no</td>\n",
              "      <td>no</td>\n",
              "      <td>telephone</td>\n",
              "      <td>may</td>\n",
              "      <td>mon</td>\n",
              "      <td>1</td>\n",
              "      <td>999</td>\n",
              "      <td>0</td>\n",
              "      <td>nonexistent</td>\n",
              "      <td>1.1</td>\n",
              "      <td>93.994</td>\n",
              "      <td>-36.4</td>\n",
              "      <td>4.857</td>\n",
              "      <td>5191.0</td>\n",
              "      <td>no</td>\n",
              "    </tr>\n",
              "    <tr>\n",
              "      <th>2</th>\n",
              "      <td>37</td>\n",
              "      <td>services</td>\n",
              "      <td>married</td>\n",
              "      <td>high.school</td>\n",
              "      <td>no</td>\n",
              "      <td>yes</td>\n",
              "      <td>no</td>\n",
              "      <td>telephone</td>\n",
              "      <td>may</td>\n",
              "      <td>mon</td>\n",
              "      <td>1</td>\n",
              "      <td>999</td>\n",
              "      <td>0</td>\n",
              "      <td>nonexistent</td>\n",
              "      <td>1.1</td>\n",
              "      <td>93.994</td>\n",
              "      <td>-36.4</td>\n",
              "      <td>4.857</td>\n",
              "      <td>5191.0</td>\n",
              "      <td>no</td>\n",
              "    </tr>\n",
              "    <tr>\n",
              "      <th>3</th>\n",
              "      <td>40</td>\n",
              "      <td>admin.</td>\n",
              "      <td>married</td>\n",
              "      <td>basic.6y</td>\n",
              "      <td>no</td>\n",
              "      <td>no</td>\n",
              "      <td>no</td>\n",
              "      <td>telephone</td>\n",
              "      <td>may</td>\n",
              "      <td>mon</td>\n",
              "      <td>1</td>\n",
              "      <td>999</td>\n",
              "      <td>0</td>\n",
              "      <td>nonexistent</td>\n",
              "      <td>1.1</td>\n",
              "      <td>93.994</td>\n",
              "      <td>-36.4</td>\n",
              "      <td>4.857</td>\n",
              "      <td>5191.0</td>\n",
              "      <td>no</td>\n",
              "    </tr>\n",
              "    <tr>\n",
              "      <th>4</th>\n",
              "      <td>56</td>\n",
              "      <td>services</td>\n",
              "      <td>married</td>\n",
              "      <td>high.school</td>\n",
              "      <td>no</td>\n",
              "      <td>no</td>\n",
              "      <td>yes</td>\n",
              "      <td>telephone</td>\n",
              "      <td>may</td>\n",
              "      <td>mon</td>\n",
              "      <td>1</td>\n",
              "      <td>999</td>\n",
              "      <td>0</td>\n",
              "      <td>nonexistent</td>\n",
              "      <td>1.1</td>\n",
              "      <td>93.994</td>\n",
              "      <td>-36.4</td>\n",
              "      <td>4.857</td>\n",
              "      <td>5191.0</td>\n",
              "      <td>no</td>\n",
              "    </tr>\n",
              "    <tr>\n",
              "      <th>...</th>\n",
              "      <td>...</td>\n",
              "      <td>...</td>\n",
              "      <td>...</td>\n",
              "      <td>...</td>\n",
              "      <td>...</td>\n",
              "      <td>...</td>\n",
              "      <td>...</td>\n",
              "      <td>...</td>\n",
              "      <td>...</td>\n",
              "      <td>...</td>\n",
              "      <td>...</td>\n",
              "      <td>...</td>\n",
              "      <td>...</td>\n",
              "      <td>...</td>\n",
              "      <td>...</td>\n",
              "      <td>...</td>\n",
              "      <td>...</td>\n",
              "      <td>...</td>\n",
              "      <td>...</td>\n",
              "      <td>...</td>\n",
              "    </tr>\n",
              "    <tr>\n",
              "      <th>41183</th>\n",
              "      <td>73</td>\n",
              "      <td>retired</td>\n",
              "      <td>married</td>\n",
              "      <td>professional.course</td>\n",
              "      <td>no</td>\n",
              "      <td>yes</td>\n",
              "      <td>no</td>\n",
              "      <td>cellular</td>\n",
              "      <td>nov</td>\n",
              "      <td>fri</td>\n",
              "      <td>1</td>\n",
              "      <td>999</td>\n",
              "      <td>0</td>\n",
              "      <td>nonexistent</td>\n",
              "      <td>-1.1</td>\n",
              "      <td>94.767</td>\n",
              "      <td>-50.8</td>\n",
              "      <td>1.028</td>\n",
              "      <td>4963.6</td>\n",
              "      <td>yes</td>\n",
              "    </tr>\n",
              "    <tr>\n",
              "      <th>41184</th>\n",
              "      <td>46</td>\n",
              "      <td>blue-collar</td>\n",
              "      <td>married</td>\n",
              "      <td>professional.course</td>\n",
              "      <td>no</td>\n",
              "      <td>no</td>\n",
              "      <td>no</td>\n",
              "      <td>cellular</td>\n",
              "      <td>nov</td>\n",
              "      <td>fri</td>\n",
              "      <td>1</td>\n",
              "      <td>999</td>\n",
              "      <td>0</td>\n",
              "      <td>nonexistent</td>\n",
              "      <td>-1.1</td>\n",
              "      <td>94.767</td>\n",
              "      <td>-50.8</td>\n",
              "      <td>1.028</td>\n",
              "      <td>4963.6</td>\n",
              "      <td>no</td>\n",
              "    </tr>\n",
              "    <tr>\n",
              "      <th>41185</th>\n",
              "      <td>56</td>\n",
              "      <td>retired</td>\n",
              "      <td>married</td>\n",
              "      <td>university.degree</td>\n",
              "      <td>no</td>\n",
              "      <td>yes</td>\n",
              "      <td>no</td>\n",
              "      <td>cellular</td>\n",
              "      <td>nov</td>\n",
              "      <td>fri</td>\n",
              "      <td>2</td>\n",
              "      <td>999</td>\n",
              "      <td>0</td>\n",
              "      <td>nonexistent</td>\n",
              "      <td>-1.1</td>\n",
              "      <td>94.767</td>\n",
              "      <td>-50.8</td>\n",
              "      <td>1.028</td>\n",
              "      <td>4963.6</td>\n",
              "      <td>no</td>\n",
              "    </tr>\n",
              "    <tr>\n",
              "      <th>41186</th>\n",
              "      <td>44</td>\n",
              "      <td>technician</td>\n",
              "      <td>married</td>\n",
              "      <td>professional.course</td>\n",
              "      <td>no</td>\n",
              "      <td>no</td>\n",
              "      <td>no</td>\n",
              "      <td>cellular</td>\n",
              "      <td>nov</td>\n",
              "      <td>fri</td>\n",
              "      <td>1</td>\n",
              "      <td>999</td>\n",
              "      <td>0</td>\n",
              "      <td>nonexistent</td>\n",
              "      <td>-1.1</td>\n",
              "      <td>94.767</td>\n",
              "      <td>-50.8</td>\n",
              "      <td>1.028</td>\n",
              "      <td>4963.6</td>\n",
              "      <td>yes</td>\n",
              "    </tr>\n",
              "    <tr>\n",
              "      <th>41187</th>\n",
              "      <td>74</td>\n",
              "      <td>retired</td>\n",
              "      <td>married</td>\n",
              "      <td>professional.course</td>\n",
              "      <td>no</td>\n",
              "      <td>yes</td>\n",
              "      <td>no</td>\n",
              "      <td>cellular</td>\n",
              "      <td>nov</td>\n",
              "      <td>fri</td>\n",
              "      <td>3</td>\n",
              "      <td>999</td>\n",
              "      <td>1</td>\n",
              "      <td>failure</td>\n",
              "      <td>-1.1</td>\n",
              "      <td>94.767</td>\n",
              "      <td>-50.8</td>\n",
              "      <td>1.028</td>\n",
              "      <td>4963.6</td>\n",
              "      <td>no</td>\n",
              "    </tr>\n",
              "  </tbody>\n",
              "</table>\n",
              "<p>41188 rows × 20 columns</p>\n",
              "</div>\n",
              "    <div class=\"colab-df-buttons\">\n",
              "\n",
              "  <div class=\"colab-df-container\">\n",
              "    <button class=\"colab-df-convert\" onclick=\"convertToInteractive('df-ca739971-47be-400c-aecc-22c87eca201a')\"\n",
              "            title=\"Convert this dataframe to an interactive table.\"\n",
              "            style=\"display:none;\">\n",
              "\n",
              "  <svg xmlns=\"http://www.w3.org/2000/svg\" height=\"24px\" viewBox=\"0 -960 960 960\">\n",
              "    <path d=\"M120-120v-720h720v720H120Zm60-500h600v-160H180v160Zm220 220h160v-160H400v160Zm0 220h160v-160H400v160ZM180-400h160v-160H180v160Zm440 0h160v-160H620v160ZM180-180h160v-160H180v160Zm440 0h160v-160H620v160Z\"/>\n",
              "  </svg>\n",
              "    </button>\n",
              "\n",
              "  <style>\n",
              "    .colab-df-container {\n",
              "      display:flex;\n",
              "      gap: 12px;\n",
              "    }\n",
              "\n",
              "    .colab-df-convert {\n",
              "      background-color: #E8F0FE;\n",
              "      border: none;\n",
              "      border-radius: 50%;\n",
              "      cursor: pointer;\n",
              "      display: none;\n",
              "      fill: #1967D2;\n",
              "      height: 32px;\n",
              "      padding: 0 0 0 0;\n",
              "      width: 32px;\n",
              "    }\n",
              "\n",
              "    .colab-df-convert:hover {\n",
              "      background-color: #E2EBFA;\n",
              "      box-shadow: 0px 1px 2px rgba(60, 64, 67, 0.3), 0px 1px 3px 1px rgba(60, 64, 67, 0.15);\n",
              "      fill: #174EA6;\n",
              "    }\n",
              "\n",
              "    .colab-df-buttons div {\n",
              "      margin-bottom: 4px;\n",
              "    }\n",
              "\n",
              "    [theme=dark] .colab-df-convert {\n",
              "      background-color: #3B4455;\n",
              "      fill: #D2E3FC;\n",
              "    }\n",
              "\n",
              "    [theme=dark] .colab-df-convert:hover {\n",
              "      background-color: #434B5C;\n",
              "      box-shadow: 0px 1px 3px 1px rgba(0, 0, 0, 0.15);\n",
              "      filter: drop-shadow(0px 1px 2px rgba(0, 0, 0, 0.3));\n",
              "      fill: #FFFFFF;\n",
              "    }\n",
              "  </style>\n",
              "\n",
              "    <script>\n",
              "      const buttonEl =\n",
              "        document.querySelector('#df-ca739971-47be-400c-aecc-22c87eca201a button.colab-df-convert');\n",
              "      buttonEl.style.display =\n",
              "        google.colab.kernel.accessAllowed ? 'block' : 'none';\n",
              "\n",
              "      async function convertToInteractive(key) {\n",
              "        const element = document.querySelector('#df-ca739971-47be-400c-aecc-22c87eca201a');\n",
              "        const dataTable =\n",
              "          await google.colab.kernel.invokeFunction('convertToInteractive',\n",
              "                                                    [key], {});\n",
              "        if (!dataTable) return;\n",
              "\n",
              "        const docLinkHtml = 'Like what you see? Visit the ' +\n",
              "          '<a target=\"_blank\" href=https://colab.research.google.com/notebooks/data_table.ipynb>data table notebook</a>'\n",
              "          + ' to learn more about interactive tables.';\n",
              "        element.innerHTML = '';\n",
              "        dataTable['output_type'] = 'display_data';\n",
              "        await google.colab.output.renderOutput(dataTable, element);\n",
              "        const docLink = document.createElement('div');\n",
              "        docLink.innerHTML = docLinkHtml;\n",
              "        element.appendChild(docLink);\n",
              "      }\n",
              "    </script>\n",
              "  </div>\n",
              "\n",
              "\n",
              "<div id=\"df-13ba9507-b7e0-421e-ab82-9112f5a41f12\">\n",
              "  <button class=\"colab-df-quickchart\" onclick=\"quickchart('df-13ba9507-b7e0-421e-ab82-9112f5a41f12')\"\n",
              "            title=\"Suggest charts\"\n",
              "            style=\"display:none;\">\n",
              "\n",
              "<svg xmlns=\"http://www.w3.org/2000/svg\" height=\"24px\"viewBox=\"0 0 24 24\"\n",
              "     width=\"24px\">\n",
              "    <g>\n",
              "        <path d=\"M19 3H5c-1.1 0-2 .9-2 2v14c0 1.1.9 2 2 2h14c1.1 0 2-.9 2-2V5c0-1.1-.9-2-2-2zM9 17H7v-7h2v7zm4 0h-2V7h2v10zm4 0h-2v-4h2v4z\"/>\n",
              "    </g>\n",
              "</svg>\n",
              "  </button>\n",
              "\n",
              "<style>\n",
              "  .colab-df-quickchart {\n",
              "      --bg-color: #E8F0FE;\n",
              "      --fill-color: #1967D2;\n",
              "      --hover-bg-color: #E2EBFA;\n",
              "      --hover-fill-color: #174EA6;\n",
              "      --disabled-fill-color: #AAA;\n",
              "      --disabled-bg-color: #DDD;\n",
              "  }\n",
              "\n",
              "  [theme=dark] .colab-df-quickchart {\n",
              "      --bg-color: #3B4455;\n",
              "      --fill-color: #D2E3FC;\n",
              "      --hover-bg-color: #434B5C;\n",
              "      --hover-fill-color: #FFFFFF;\n",
              "      --disabled-bg-color: #3B4455;\n",
              "      --disabled-fill-color: #666;\n",
              "  }\n",
              "\n",
              "  .colab-df-quickchart {\n",
              "    background-color: var(--bg-color);\n",
              "    border: none;\n",
              "    border-radius: 50%;\n",
              "    cursor: pointer;\n",
              "    display: none;\n",
              "    fill: var(--fill-color);\n",
              "    height: 32px;\n",
              "    padding: 0;\n",
              "    width: 32px;\n",
              "  }\n",
              "\n",
              "  .colab-df-quickchart:hover {\n",
              "    background-color: var(--hover-bg-color);\n",
              "    box-shadow: 0 1px 2px rgba(60, 64, 67, 0.3), 0 1px 3px 1px rgba(60, 64, 67, 0.15);\n",
              "    fill: var(--button-hover-fill-color);\n",
              "  }\n",
              "\n",
              "  .colab-df-quickchart-complete:disabled,\n",
              "  .colab-df-quickchart-complete:disabled:hover {\n",
              "    background-color: var(--disabled-bg-color);\n",
              "    fill: var(--disabled-fill-color);\n",
              "    box-shadow: none;\n",
              "  }\n",
              "\n",
              "  .colab-df-spinner {\n",
              "    border: 2px solid var(--fill-color);\n",
              "    border-color: transparent;\n",
              "    border-bottom-color: var(--fill-color);\n",
              "    animation:\n",
              "      spin 1s steps(1) infinite;\n",
              "  }\n",
              "\n",
              "  @keyframes spin {\n",
              "    0% {\n",
              "      border-color: transparent;\n",
              "      border-bottom-color: var(--fill-color);\n",
              "      border-left-color: var(--fill-color);\n",
              "    }\n",
              "    20% {\n",
              "      border-color: transparent;\n",
              "      border-left-color: var(--fill-color);\n",
              "      border-top-color: var(--fill-color);\n",
              "    }\n",
              "    30% {\n",
              "      border-color: transparent;\n",
              "      border-left-color: var(--fill-color);\n",
              "      border-top-color: var(--fill-color);\n",
              "      border-right-color: var(--fill-color);\n",
              "    }\n",
              "    40% {\n",
              "      border-color: transparent;\n",
              "      border-right-color: var(--fill-color);\n",
              "      border-top-color: var(--fill-color);\n",
              "    }\n",
              "    60% {\n",
              "      border-color: transparent;\n",
              "      border-right-color: var(--fill-color);\n",
              "    }\n",
              "    80% {\n",
              "      border-color: transparent;\n",
              "      border-right-color: var(--fill-color);\n",
              "      border-bottom-color: var(--fill-color);\n",
              "    }\n",
              "    90% {\n",
              "      border-color: transparent;\n",
              "      border-bottom-color: var(--fill-color);\n",
              "    }\n",
              "  }\n",
              "</style>\n",
              "\n",
              "  <script>\n",
              "    async function quickchart(key) {\n",
              "      const quickchartButtonEl =\n",
              "        document.querySelector('#' + key + ' button');\n",
              "      quickchartButtonEl.disabled = true;  // To prevent multiple clicks.\n",
              "      quickchartButtonEl.classList.add('colab-df-spinner');\n",
              "      try {\n",
              "        const charts = await google.colab.kernel.invokeFunction(\n",
              "            'suggestCharts', [key], {});\n",
              "      } catch (error) {\n",
              "        console.error('Error during call to suggestCharts:', error);\n",
              "      }\n",
              "      quickchartButtonEl.classList.remove('colab-df-spinner');\n",
              "      quickchartButtonEl.classList.add('colab-df-quickchart-complete');\n",
              "    }\n",
              "    (() => {\n",
              "      let quickchartButtonEl =\n",
              "        document.querySelector('#df-13ba9507-b7e0-421e-ab82-9112f5a41f12 button');\n",
              "      quickchartButtonEl.style.display =\n",
              "        google.colab.kernel.accessAllowed ? 'block' : 'none';\n",
              "    })();\n",
              "  </script>\n",
              "</div>\n",
              "    </div>\n",
              "  </div>\n"
            ]
          },
          "metadata": {},
          "execution_count": 3
        }
      ],
      "source": [
        "ds"
      ]
    },
    {
      "cell_type": "code",
      "execution_count": 6,
      "metadata": {
        "id": "uNbpZSEe5HrE"
      },
      "outputs": [],
      "source": [
        "# Set the style for Seaborn plots\n",
        "sns.set(style=\"whitegrid\")\n"
      ]
    },
    {
      "cell_type": "code",
      "execution_count": 7,
      "metadata": {
        "colab": {
          "base_uri": "https://localhost:8080/",
          "height": 496
        },
        "id": "2T8wmWRX5UEX",
        "outputId": "a0b3e2b1-4906-4d53-d214-2cfdb4f0345a"
      },
      "outputs": [
        {
          "output_type": "display_data",
          "data": {
            "text/plain": [
              "<Figure size 800x500 with 1 Axes>"
            ],
            "image/png": "[encoded data removed]"
          },
          "metadata": {}
        }
      ],
      "source": [
        "# Visualize the distribution of the target variable 'y'\n",
        "plt.figure(figsize=(8, 5))\n",
        "sns.countplot(x='y', data=ds, palette='viridis')\n",
        "plt.title('Distribution of the Target Variable (y)')\n",
        "plt.xlabel('Subscription (Yes/No)')\n",
        "plt.ylabel('Count')\n",
        "plt.show()"
      ]
    },
    {
      "cell_type": "code",
      "execution_count": 8,
      "metadata": {
        "colab": {
          "base_uri": "https://localhost:8080/",
          "height": 573
        },
        "id": "PjkY0ZFw5W_o",
        "outputId": "18e064f7-ed70-4231-da1b-c4d7999bb30d"
      },
      "outputs": [
        {
          "output_type": "display_data",
          "data": {
            "text/plain": [
              "<Figure size 1200x600 with 1 Axes>"
            ],
            "image/png": "[encoded data removed]"
          },
          "metadata": {}
        }
      ],
      "source": [
        "# Visualize the distribution of numerical features (e.g., age)\n",
        "plt.figure(figsize=(12, 6))\n",
        "sns.histplot(ds['age'], bins=30, kde=True, color='skyblue')\n",
        "plt.title('Distribution of Age')\n",
        "plt.xlabel('Age')\n",
        "plt.ylabel('Count')\n",
        "plt.show()"
      ]
    },
    {
      "cell_type": "code",
      "execution_count": 9,
      "metadata": {
        "colab": {
          "base_uri": "https://localhost:8080/",
          "height": 674
        },
        "id": "ynLXL6nO5au0",
        "outputId": "71329a50-05b4-477c-e326-059f9dcfd0f9"
      },
      "outputs": [
        {
          "output_type": "display_data",
          "data": {
            "text/plain": [
              "<Figure size 1000x600 with 1 Axes>"
            ],
            "image/png": "[encoded data removed]"
          },
          "metadata": {}
        }
      ],
      "source": [
        "# Visualize the distribution of education levels\n",
        "plt.figure(figsize=(10, 6))\n",
        "sns.countplot(x='education', data=ds, palette='pastel', order=ds['education'].value_counts().index)\n",
        "plt.title('Distribution of Education Levels')\n",
        "plt.xlabel('Education Level')\n",
        "plt.ylabel('Count')\n",
        "plt.xticks(rotation=45)\n",
        "plt.show()\n"
      ]
    },
    {
      "cell_type": "code",
      "execution_count": 10,
      "metadata": {
        "colab": {
          "base_uri": "https://localhost:8080/",
          "height": 691
        },
        "id": "EXsIwTC45esh",
        "outputId": "24759429-d907-42c6-a23d-85ea51b53c82"
      },
      "outputs": [
        {
          "output_type": "display_data",
          "data": {
            "text/plain": [
              "<Figure size 1400x800 with 1 Axes>"
            ],
            "image/png": "[encoded data removed]"
          },
          "metadata": {}
        }
      ],
      "source": [
        "# Boxplot for numerical features grouped by 'y' (target variable)\n",
        "plt.figure(figsize=(14, 8))\n",
        "sns.boxplot(x='y', y='age', data=ds, palette='Set3')\n",
        "plt.title('Boxplot of Age Grouped by Subscription')\n",
        "plt.xlabel('Subscription (Yes/No)')\n",
        "plt.ylabel('Age')\n",
        "plt.show()"
      ]
    },
    {
      "cell_type": "code",
      "execution_count": 11,
      "metadata": {
        "id": "grp3emDr5q53",
        "colab": {
          "base_uri": "https://localhost:8080/",
          "height": 747
        },
        "outputId": "3a969d8d-9143-4175-9a2c-94fc25f87189"
      },
      "outputs": [
        {
          "output_type": "display_data",
          "data": {
            "text/plain": [
              "<Figure size 1400x800 with 1 Axes>"
            ],
            "image/png": "[encoded data removed]"
          },
          "metadata": {}
        }
      ],
      "source": [
        "# Countplot for job categories\n",
        "plt.figure(figsize=(14, 8))\n",
        "sns.countplot(x='job', data=ds, palette='viridis', order=ds['job'].value_counts().index)\n",
        "plt.title('Count of Jobs')\n",
        "plt.xlabel('Job')\n",
        "plt.ylabel('Count')\n",
        "plt.xticks(rotation=45)\n",
        "plt.show()"
      ]
    },
    {
      "cell_type": "code",
      "execution_count": 12,
      "metadata": {
        "colab": {
          "base_uri": "https://localhost:8080/"
        },
        "id": "4jIBjS_wLeyB",
        "outputId": "5e95a328-f2cb-4b26-bfd8-de3c9676e636"
      },
      "outputs": [
        {
          "output_type": "stream",
          "name": "stdout",
          "text": [
            "   age        job  marital    education  default housing loan    contact  \\\n",
            "0   56  housemaid  married     basic.4y       no      no   no  telephone   \n",
            "1   57   services  married  high.school  unknown      no   no  telephone   \n",
            "2   37   services  married  high.school       no     yes   no  telephone   \n",
            "3   40     admin.  married     basic.6y       no      no   no  telephone   \n",
            "4   56   services  married  high.school       no      no  yes  telephone   \n",
            "\n",
            "  month day_of_week  campaign  pdays  previous     poutcome  emp.var.rate  \\\n",
            "0   may         mon         1    999         0  nonexistent           1.1   \n",
            "1   may         mon         1    999         0  nonexistent           1.1   \n",
            "2   may         mon         1    999         0  nonexistent           1.1   \n",
            "3   may         mon         1    999         0  nonexistent           1.1   \n",
            "4   may         mon         1    999         0  nonexistent           1.1   \n",
            "\n",
            "   cons.price.idx  cons.conf.idx  euribor3m  nr.employed   y  \n",
            "0          93.994          -36.4      4.857       5191.0  no  \n",
            "1          93.994          -36.4      4.857       5191.0  no  \n",
            "2          93.994          -36.4      4.857       5191.0  no  \n",
            "3          93.994          -36.4      4.857       5191.0  no  \n",
            "4          93.994          -36.4      4.857       5191.0  no  \n"
          ]
        }
      ],
      "source": [
        "print(ds.head())"
      ]
    },
    {
      "cell_type": "code",
      "execution_count": 13,
      "metadata": {
        "colab": {
          "base_uri": "https://localhost:8080/"
        },
        "id": "fo5Kr2cFx5wD",
        "outputId": "aa0b816f-f054-415e-f3a8-b9ce830ef54d"
      },
      "outputs": [
        {
          "output_type": "execute_result",
          "data": {
            "text/plain": [
              "university.degree      12168\n",
              "high.school             9515\n",
              "basic.9y                6045\n",
              "professional.course     5243\n",
              "basic.4y                4176\n",
              "basic.6y                2292\n",
              "unknown                 1731\n",
              "illiterate                18\n",
              "Name: education, dtype: int64"
            ]
          },
          "metadata": {},
          "execution_count": 13
        }
      ],
      "source": [
        "ds['education'].value_counts()"
      ]
    },
    {
      "cell_type": "markdown",
      "metadata": {
        "id": "gzHcXwksHBgL"
      },
      "source": [
        "# Data Processing"
      ]
    },
    {
      "cell_type": "markdown",
      "metadata": {
        "id": "Jz7hssOgo5s8"
      },
      "source": [
        "# Check For Missing Values"
      ]
    },
    {
      "cell_type": "code",
      "execution_count": 14,
      "metadata": {
        "id": "hYZTq0ZqLe0i",
        "colab": {
          "base_uri": "https://localhost:8080/"
        },
        "outputId": "2b0b166a-19ed-40bc-e978-1ca7fc6fe563"
      },
      "outputs": [
        {
          "output_type": "stream",
          "name": "stdout",
          "text": [
            "\n",
            "Missing Values:\n",
            "age               0\n",
            "job               0\n",
            "marital           0\n",
            "education         0\n",
            "default           0\n",
            "housing           0\n",
            "loan              0\n",
            "contact           0\n",
            "month             0\n",
            "day_of_week       0\n",
            "campaign          0\n",
            "pdays             0\n",
            "previous          0\n",
            "poutcome          0\n",
            "emp.var.rate      0\n",
            "cons.price.idx    0\n",
            "cons.conf.idx     0\n",
            "euribor3m         0\n",
            "nr.employed       0\n",
            "y                 0\n",
            "dtype: int64\n"
          ]
        }
      ],
      "source": [
        "# Check for missing values\n",
        "missing_values = ds.isnull().sum()\n",
        "print(\"\\nMissing Values:\")\n",
        "print(missing_values)"
      ]
    },
    {
      "cell_type": "code",
      "execution_count": 15,
      "metadata": {
        "colab": {
          "base_uri": "https://localhost:8080/"
        },
        "id": "g_2ioiOLxw8c",
        "outputId": "201f572c-96d1-4826-f537-d00360eae5ab"
      },
      "outputs": [
        {
          "output_type": "stream",
          "name": "stdout",
          "text": [
            "<class 'pandas.core.frame.DataFrame'>\n",
            "RangeIndex: 41188 entries, 0 to 41187\n",
            "Data columns (total 20 columns):\n",
            " #   Column          Non-Null Count  Dtype  \n",
            "---  ------          --------------  -----  \n",
            " 0   age             41188 non-null  int64  \n",
            " 1   job             41188 non-null  object \n",
            " 2   marital         41188 non-null  object \n",
            " 3   education       41188 non-null  object \n",
            " 4   default         41188 non-null  object \n",
            " 5   housing         41188 non-null  object \n",
            " 6   loan            41188 non-null  object \n",
            " 7   contact         41188 non-null  object \n",
            " 8   month           41188 non-null  object \n",
            " 9   day_of_week     41188 non-null  object \n",
            " 10  campaign        41188 non-null  int64  \n",
            " 11  pdays           41188 non-null  int64  \n",
            " 12  previous        41188 non-null  int64  \n",
            " 13  poutcome        41188 non-null  object \n",
            " 14  emp.var.rate    41188 non-null  float64\n",
            " 15  cons.price.idx  41188 non-null  float64\n",
            " 16  cons.conf.idx   41188 non-null  float64\n",
            " 17  euribor3m       41188 non-null  float64\n",
            " 18  nr.employed     41188 non-null  float64\n",
            " 19  y               41188 non-null  object \n",
            "dtypes: float64(5), int64(4), object(11)\n",
            "memory usage: 6.3+ MB\n"
          ]
        }
      ],
      "source": [
        "ds.info()"
      ]
    },
    {
      "cell_type": "code",
      "execution_count": 16,
      "metadata": {
        "colab": {
          "base_uri": "https://localhost:8080/"
        },
        "id": "xZrzE_oHIqLG",
        "outputId": "7e212395-250a-4aa6-a2a0-e0973d891cb7"
      },
      "outputs": [
        {
          "output_type": "execute_result",
          "data": {
            "text/plain": [
              "<bound method NDFrame._add_numeric_operations.<locals>.any of          age    job  marital  education  default  housing   loan  contact  \\\n",
              "0      False  False    False      False    False    False  False    False   \n",
              "1      False  False    False      False    False    False  False    False   \n",
              "2      False  False    False      False    False    False  False    False   \n",
              "3      False  False    False      False    False    False  False    False   \n",
              "4      False  False    False      False    False    False  False    False   \n",
              "...      ...    ...      ...        ...      ...      ...    ...      ...   \n",
              "41183  False  False    False      False    False    False  False    False   \n",
              "41184  False  False    False      False    False    False  False    False   \n",
              "41185  False  False    False      False    False    False  False    False   \n",
              "41186  False  False    False      False    False    False  False    False   \n",
              "41187  False  False    False      False    False    False  False    False   \n",
              "\n",
              "       month  day_of_week  campaign  pdays  previous  poutcome  emp.var.rate  \\\n",
              "0      False        False     False  False     False     False         False   \n",
              "1      False        False     False  False     False     False         False   \n",
              "2      False        False     False  False     False     False         False   \n",
              "3      False        False     False  False     False     False         False   \n",
              "4      False        False     False  False     False     False         False   \n",
              "...      ...          ...       ...    ...       ...       ...           ...   \n",
              "41183  False        False     False  False     False     False         False   \n",
              "41184  False        False     False  False     False     False         False   \n",
              "41185  False        False     False  False     False     False         False   \n",
              "41186  False        False     False  False     False     False         False   \n",
              "41187  False        False     False  False     False     False         False   \n",
              "\n",
              "       cons.price.idx  cons.conf.idx  euribor3m  nr.employed      y  \n",
              "0               False          False      False        False  False  \n",
              "1               False          False      False        False  False  \n",
              "2               False          False      False        False  False  \n",
              "3               False          False      False        False  False  \n",
              "4               False          False      False        False  False  \n",
              "...               ...            ...        ...          ...    ...  \n",
              "41183           False          False      False        False  False  \n",
              "41184           False          False      False        False  False  \n",
              "41185           False          False      False        False  False  \n",
              "41186           False          False      False        False  False  \n",
              "41187           False          False      False        False  False  \n",
              "\n",
              "[41188 rows x 20 columns]>"
            ]
          },
          "metadata": {},
          "execution_count": 16
        }
      ],
      "source": [
        "ds.isnull().any"
      ]
    },
    {
      "cell_type": "code",
      "execution_count": 17,
      "metadata": {
        "colab": {
          "base_uri": "https://localhost:8080/"
        },
        "id": "cHNvdrBSrg7G",
        "outputId": "dfc570b5-1adf-447d-f455-09cd67a9d03f"
      },
      "outputs": [
        {
          "output_type": "stream",
          "name": "stdout",
          "text": [
            "Number of duplicates before removing: 1784\n",
            "Number of duplicates after removing: 0\n"
          ]
        }
      ],
      "source": [
        "# Check for and remove duplicates\n",
        "print(\"Number of duplicates before removing:\", ds.duplicated().sum())\n",
        "ds = ds.drop_duplicates()\n",
        "print(\"Number of duplicates after removing:\", ds.duplicated().sum())"
      ]
    },
    {
      "cell_type": "code",
      "execution_count": 18,
      "metadata": {
        "colab": {
          "base_uri": "https://localhost:8080/"
        },
        "id": "0IRkH49uMcSc",
        "outputId": "389fcfce-0ceb-4290-f4a7-96e3dc033bcf"
      },
      "outputs": [
        {
          "output_type": "stream",
          "name": "stdout",
          "text": [
            "\n",
            "Missing Data (e.g., 'unknown', 'other', '999'):\n",
            "age                  0\n",
            "job                325\n",
            "marital             79\n",
            "education         1686\n",
            "default           8266\n",
            "housing            980\n",
            "loan               980\n",
            "contact              0\n",
            "month                0\n",
            "day_of_week          0\n",
            "campaign             0\n",
            "pdays                0\n",
            "previous             0\n",
            "poutcome             0\n",
            "emp.var.rate         0\n",
            "cons.price.idx       0\n",
            "cons.conf.idx        0\n",
            "euribor3m            0\n",
            "nr.employed          0\n",
            "y                    0\n",
            "dtype: int64\n"
          ]
        }
      ],
      "source": [
        "# Check for missing data (non-null but potentially incorrect or placeholder values)\n",
        "missing_data = ds.isin(['unknown', 'other', '999']).sum()\n",
        "print(\"\\nMissing Data (e.g., 'unknown', 'other', '999'):\")\n",
        "print(missing_data)"
      ]
    },
    {
      "cell_type": "code",
      "execution_count": 19,
      "metadata": {
        "colab": {
          "base_uri": "https://localhost:8080/"
        },
        "id": "a7m0daRe22vf",
        "outputId": "ab9b192b-52cc-4abb-b73c-f42a0e2853bb"
      },
      "outputs": [
        {
          "output_type": "stream",
          "name": "stdout",
          "text": [
            "no     34806\n",
            "yes     4598\n",
            "Name: y, dtype: int64\n"
          ]
        }
      ],
      "source": [
        "# Check the distribution of the target classes\n",
        "print(ds['y'].value_counts())\n"
      ]
    },
    {
      "cell_type": "markdown",
      "metadata": {
        "id": "OacCpLbiJMCm"
      },
      "source": [
        "# **# **Encode Categorical Values****"
      ]
    },
    {
      "cell_type": "code",
      "execution_count": 20,
      "metadata": {
        "id": "m2TAnjoRJSKp",
        "colab": {
          "base_uri": "https://localhost:8080/"
        },
        "outputId": "6ecd0637-0da9-45e1-8d0f-0f199d4ee5b1"
      },
      "outputs": [
        {
          "output_type": "stream",
          "name": "stderr",
          "text": [
            "<ipython-input-20-abc69b2e0d73>:6: SettingWithCopyWarning: \n",
            "A value is trying to be set on a copy of a slice from a DataFrame.\n",
            "Try using .loc[row_indexer,col_indexer] = value instead\n",
            "\n",
            "See the caveats in the documentation: https://pandas.pydata.org/pandas-docs/stable/user_guide/indexing.html#returning-a-view-versus-a-copy\n",
            "  ds[col] = label_encoder.fit_transform(ds[col])\n",
            "<ipython-input-20-abc69b2e0d73>:6: SettingWithCopyWarning: \n",
            "A value is trying to be set on a copy of a slice from a DataFrame.\n",
            "Try using .loc[row_indexer,col_indexer] = value instead\n",
            "\n",
            "See the caveats in the documentation: https://pandas.pydata.org/pandas-docs/stable/user_guide/indexing.html#returning-a-view-versus-a-copy\n",
            "  ds[col] = label_encoder.fit_transform(ds[col])\n",
            "<ipython-input-20-abc69b2e0d73>:6: SettingWithCopyWarning: \n",
            "A value is trying to be set on a copy of a slice from a DataFrame.\n",
            "Try using .loc[row_indexer,col_indexer] = value instead\n",
            "\n",
            "See the caveats in the documentation: https://pandas.pydata.org/pandas-docs/stable/user_guide/indexing.html#returning-a-view-versus-a-copy\n",
            "  ds[col] = label_encoder.fit_transform(ds[col])\n",
            "<ipython-input-20-abc69b2e0d73>:6: SettingWithCopyWarning: \n",
            "A value is trying to be set on a copy of a slice from a DataFrame.\n",
            "Try using .loc[row_indexer,col_indexer] = value instead\n",
            "\n",
            "See the caveats in the documentation: https://pandas.pydata.org/pandas-docs/stable/user_guide/indexing.html#returning-a-view-versus-a-copy\n",
            "  ds[col] = label_encoder.fit_transform(ds[col])\n",
            "<ipython-input-20-abc69b2e0d73>:6: SettingWithCopyWarning: \n",
            "A value is trying to be set on a copy of a slice from a DataFrame.\n",
            "Try using .loc[row_indexer,col_indexer] = value instead\n",
            "\n",
            "See the caveats in the documentation: https://pandas.pydata.org/pandas-docs/stable/user_guide/indexing.html#returning-a-view-versus-a-copy\n",
            "  ds[col] = label_encoder.fit_transform(ds[col])\n",
            "<ipython-input-20-abc69b2e0d73>:6: SettingWithCopyWarning: \n",
            "A value is trying to be set on a copy of a slice from a DataFrame.\n",
            "Try using .loc[row_indexer,col_indexer] = value instead\n",
            "\n",
            "See the caveats in the documentation: https://pandas.pydata.org/pandas-docs/stable/user_guide/indexing.html#returning-a-view-versus-a-copy\n",
            "  ds[col] = label_encoder.fit_transform(ds[col])\n",
            "<ipython-input-20-abc69b2e0d73>:6: SettingWithCopyWarning: \n",
            "A value is trying to be set on a copy of a slice from a DataFrame.\n",
            "Try using .loc[row_indexer,col_indexer] = value instead\n",
            "\n",
            "See the caveats in the documentation: https://pandas.pydata.org/pandas-docs/stable/user_guide/indexing.html#returning-a-view-versus-a-copy\n",
            "  ds[col] = label_encoder.fit_transform(ds[col])\n",
            "<ipython-input-20-abc69b2e0d73>:6: SettingWithCopyWarning: \n",
            "A value is trying to be set on a copy of a slice from a DataFrame.\n",
            "Try using .loc[row_indexer,col_indexer] = value instead\n",
            "\n",
            "See the caveats in the documentation: https://pandas.pydata.org/pandas-docs/stable/user_guide/indexing.html#returning-a-view-versus-a-copy\n",
            "  ds[col] = label_encoder.fit_transform(ds[col])\n",
            "<ipython-input-20-abc69b2e0d73>:6: SettingWithCopyWarning: \n",
            "A value is trying to be set on a copy of a slice from a DataFrame.\n",
            "Try using .loc[row_indexer,col_indexer] = value instead\n",
            "\n",
            "See the caveats in the documentation: https://pandas.pydata.org/pandas-docs/stable/user_guide/indexing.html#returning-a-view-versus-a-copy\n",
            "  ds[col] = label_encoder.fit_transform(ds[col])\n",
            "<ipython-input-20-abc69b2e0d73>:6: SettingWithCopyWarning: \n",
            "A value is trying to be set on a copy of a slice from a DataFrame.\n",
            "Try using .loc[row_indexer,col_indexer] = value instead\n",
            "\n",
            "See the caveats in the documentation: https://pandas.pydata.org/pandas-docs/stable/user_guide/indexing.html#returning-a-view-versus-a-copy\n",
            "  ds[col] = label_encoder.fit_transform(ds[col])\n",
            "<ipython-input-20-abc69b2e0d73>:6: SettingWithCopyWarning: \n",
            "A value is trying to be set on a copy of a slice from a DataFrame.\n",
            "Try using .loc[row_indexer,col_indexer] = value instead\n",
            "\n",
            "See the caveats in the documentation: https://pandas.pydata.org/pandas-docs/stable/user_guide/indexing.html#returning-a-view-versus-a-copy\n",
            "  ds[col] = label_encoder.fit_transform(ds[col])\n"
          ]
        }
      ],
      "source": [
        "# Convert categorical features to numerical using Label Encoding\n",
        "label_encoder = LabelEncoder()\n",
        "categorical_columns = ds.select_dtypes(include=['object']).columns\n",
        "\n",
        "for col in categorical_columns:\n",
        "    ds[col] = label_encoder.fit_transform(ds[col])"
      ]
    },
    {
      "cell_type": "code",
      "execution_count": 21,
      "metadata": {
        "colab": {
          "base_uri": "https://localhost:8080/"
        },
        "id": "8J_oyzxCJU-o",
        "outputId": "a6de08e1-1e0c-4d29-ad16-d515f02242a2"
      },
      "outputs": [
        {
          "output_type": "stream",
          "name": "stdout",
          "text": [
            "\n",
            "Encoded Dataset:\n",
            "   age  job  marital  education  default  housing  loan  contact  month  \\\n",
            "0   56    3        1          0        0        0     0        1      6   \n",
            "1   57    7        1          3        1        0     0        1      6   \n",
            "2   37    7        1          3        0        2     0        1      6   \n",
            "3   40    0        1          1        0        0     0        1      6   \n",
            "4   56    7        1          3        0        0     2        1      6   \n",
            "\n",
            "   day_of_week  campaign  pdays  previous  poutcome  emp.var.rate  \\\n",
            "0            1         1    999         0         1           1.1   \n",
            "1            1         1    999         0         1           1.1   \n",
            "2            1         1    999         0         1           1.1   \n",
            "3            1         1    999         0         1           1.1   \n",
            "4            1         1    999         0         1           1.1   \n",
            "\n",
            "   cons.price.idx  cons.conf.idx  euribor3m  nr.employed  y  \n",
            "0          93.994          -36.4      4.857       5191.0  0  \n",
            "1          93.994          -36.4      4.857       5191.0  0  \n",
            "2          93.994          -36.4      4.857       5191.0  0  \n",
            "3          93.994          -36.4      4.857       5191.0  0  \n",
            "4          93.994          -36.4      4.857       5191.0  0  \n"
          ]
        }
      ],
      "source": [
        "# Display the first few rows after encoding\n",
        "print(\"\\nEncoded Dataset:\")\n",
        "print(ds.head())\n"
      ]
    },
    {
      "cell_type": "code",
      "execution_count": 22,
      "metadata": {
        "colab": {
          "base_uri": "https://localhost:8080/",
          "height": 444
        },
        "id": "No_UPkfcJVIx",
        "outputId": "0fa5b1f6-9b18-4fd4-ce59-674589311869"
      },
      "outputs": [
        {
          "output_type": "execute_result",
          "data": {
            "text/plain": [
              "       age  job  marital  education  default  housing  loan  contact  month  \\\n",
              "0       56    3        1          0        0        0     0        1      6   \n",
              "1       57    7        1          3        1        0     0        1      6   \n",
              "2       37    7        1          3        0        2     0        1      6   \n",
              "3       40    0        1          1        0        0     0        1      6   \n",
              "4       56    7        1          3        0        0     2        1      6   \n",
              "...    ...  ...      ...        ...      ...      ...   ...      ...    ...   \n",
              "41183   73    5        1          5        0        2     0        0      7   \n",
              "41184   46    1        1          5        0        0     0        0      7   \n",
              "41185   56    5        1          6        0        2     0        0      7   \n",
              "41186   44    9        1          5        0        0     0        0      7   \n",
              "41187   74    5        1          5        0        2     0        0      7   \n",
              "\n",
              "       day_of_week  campaign  pdays  previous  poutcome  emp.var.rate  \\\n",
              "0                1         1    999         0         1           1.1   \n",
              "1                1         1    999         0         1           1.1   \n",
              "2                1         1    999         0         1           1.1   \n",
              "3                1         1    999         0         1           1.1   \n",
              "4                1         1    999         0         1           1.1   \n",
              "...            ...       ...    ...       ...       ...           ...   \n",
              "41183            0         1    999         0         1          -1.1   \n",
              "41184            0         1    999         0         1          -1.1   \n",
              "41185            0         2    999         0         1          -1.1   \n",
              "41186            0         1    999         0         1          -1.1   \n",
              "41187            0         3    999         1         0          -1.1   \n",
              "\n",
              "       cons.price.idx  cons.conf.idx  euribor3m  nr.employed  y  \n",
              "0              93.994          -36.4      4.857       5191.0  0  \n",
              "1              93.994          -36.4      4.857       5191.0  0  \n",
              "2              93.994          -36.4      4.857       5191.0  0  \n",
              "3              93.994          -36.4      4.857       5191.0  0  \n",
              "4              93.994          -36.4      4.857       5191.0  0  \n",
              "...               ...            ...        ...          ... ..  \n",
              "41183          94.767          -50.8      1.028       4963.6  1  \n",
              "41184          94.767          -50.8      1.028       4963.6  0  \n",
              "41185          94.767          -50.8      1.028       4963.6  0  \n",
              "41186          94.767          -50.8      1.028       4963.6  1  \n",
              "41187          94.767          -50.8      1.028       4963.6  0  \n",
              "\n",
              "[39404 rows x 20 columns]"
            ],
            "text/html": [
              "\n",
              "  <div id=\"df-f40d6a87-7255-4bd4-8d7f-76186f532b88\" class=\"colab-df-container\">\n",
              "    <div>\n",
              "<style scoped>\n",
              "    .dataframe tbody tr th:only-of-type {\n",
              "        vertical-align: middle;\n",
              "    }\n",
              "\n",
              "    .dataframe tbody tr th {\n",
              "        vertical-align: top;\n",
              "    }\n",
              "\n",
              "    .dataframe thead th {\n",
              "        text-align: right;\n",
              "    }\n",
              "</style>\n",
              "<table border=\"1\" class=\"dataframe\">\n",
              "  <thead>\n",
              "    <tr style=\"text-align: right;\">\n",
              "      <th></th>\n",
              "      <th>age</th>\n",
              "      <th>job</th>\n",
              "      <th>marital</th>\n",
              "      <th>education</th>\n",
              "      <th>default</th>\n",
              "      <th>housing</th>\n",
              "      <th>loan</th>\n",
              "      <th>contact</th>\n",
              "      <th>month</th>\n",
              "      <th>day_of_week</th>\n",
              "      <th>campaign</th>\n",
              "      <th>pdays</th>\n",
              "      <th>previous</th>\n",
              "      <th>poutcome</th>\n",
              "      <th>emp.var.rate</th>\n",
              "      <th>cons.price.idx</th>\n",
              "      <th>cons.conf.idx</th>\n",
              "      <th>euribor3m</th>\n",
              "      <th>nr.employed</th>\n",
              "      <th>y</th>\n",
              "    </tr>\n",
              "  </thead>\n",
              "  <tbody>\n",
              "    <tr>\n",
              "      <th>0</th>\n",
              "      <td>56</td>\n",
              "      <td>3</td>\n",
              "      <td>1</td>\n",
              "      <td>0</td>\n",
              "      <td>0</td>\n",
              "      <td>0</td>\n",
              "      <td>0</td>\n",
              "      <td>1</td>\n",
              "      <td>6</td>\n",
              "      <td>1</td>\n",
              "      <td>1</td>\n",
              "      <td>999</td>\n",
              "      <td>0</td>\n",
              "      <td>1</td>\n",
              "      <td>1.1</td>\n",
              "      <td>93.994</td>\n",
              "      <td>-36.4</td>\n",
              "      <td>4.857</td>\n",
              "      <td>5191.0</td>\n",
              "      <td>0</td>\n",
              "    </tr>\n",
              "    <tr>\n",
              "      <th>1</th>\n",
              "      <td>57</td>\n",
              "      <td>7</td>\n",
              "      <td>1</td>\n",
              "      <td>3</td>\n",
              "      <td>1</td>\n",
              "      <td>0</td>\n",
              "      <td>0</td>\n",
              "      <td>1</td>\n",
              "      <td>6</td>\n",
              "      <td>1</td>\n",
              "      <td>1</td>\n",
              "      <td>999</td>\n",
              "      <td>0</td>\n",
              "      <td>1</td>\n",
              "      <td>1.1</td>\n",
              "      <td>93.994</td>\n",
              "      <td>-36.4</td>\n",
              "      <td>4.857</td>\n",
              "      <td>5191.0</td>\n",
              "      <td>0</td>\n",
              "    </tr>\n",
              "    <tr>\n",
              "      <th>2</th>\n",
              "      <td>37</td>\n",
              "      <td>7</td>\n",
              "      <td>1</td>\n",
              "      <td>3</td>\n",
              "      <td>0</td>\n",
              "      <td>2</td>\n",
              "      <td>0</td>\n",
              "      <td>1</td>\n",
              "      <td>6</td>\n",
              "      <td>1</td>\n",
              "      <td>1</td>\n",
              "      <td>999</td>\n",
              "      <td>0</td>\n",
              "      <td>1</td>\n",
              "      <td>1.1</td>\n",
              "      <td>93.994</td>\n",
              "      <td>-36.4</td>\n",
              "      <td>4.857</td>\n",
              "      <td>5191.0</td>\n",
              "      <td>0</td>\n",
              "    </tr>\n",
              "    <tr>\n",
              "      <th>3</th>\n",
              "      <td>40</td>\n",
              "      <td>0</td>\n",
              "      <td>1</td>\n",
              "      <td>1</td>\n",
              "      <td>0</td>\n",
              "      <td>0</td>\n",
              "      <td>0</td>\n",
              "      <td>1</td>\n",
              "      <td>6</td>\n",
              "      <td>1</td>\n",
              "      <td>1</td>\n",
              "      <td>999</td>\n",
              "      <td>0</td>\n",
              "      <td>1</td>\n",
              "      <td>1.1</td>\n",
              "      <td>93.994</td>\n",
              "      <td>-36.4</td>\n",
              "      <td>4.857</td>\n",
              "      <td>5191.0</td>\n",
              "      <td>0</td>\n",
              "    </tr>\n",
              "    <tr>\n",
              "      <th>4</th>\n",
              "      <td>56</td>\n",
              "      <td>7</td>\n",
              "      <td>1</td>\n",
              "      <td>3</td>\n",
              "      <td>0</td>\n",
              "      <td>0</td>\n",
              "      <td>2</td>\n",
              "      <td>1</td>\n",
              "      <td>6</td>\n",
              "      <td>1</td>\n",
              "      <td>1</td>\n",
              "      <td>999</td>\n",
              "      <td>0</td>\n",
              "      <td>1</td>\n",
              "      <td>1.1</td>\n",
              "      <td>93.994</td>\n",
              "      <td>-36.4</td>\n",
              "      <td>4.857</td>\n",
              "      <td>5191.0</td>\n",
              "      <td>0</td>\n",
              "    </tr>\n",
              "    <tr>\n",
              "      <th>...</th>\n",
              "      <td>...</td>\n",
              "      <td>...</td>\n",
              "      <td>...</td>\n",
              "      <td>...</td>\n",
              "      <td>...</td>\n",
              "      <td>...</td>\n",
              "      <td>...</td>\n",
              "      <td>...</td>\n",
              "      <td>...</td>\n",
              "      <td>...</td>\n",
              "      <td>...</td>\n",
              "      <td>...</td>\n",
              "      <td>...</td>\n",
              "      <td>...</td>\n",
              "      <td>...</td>\n",
              "      <td>...</td>\n",
              "      <td>...</td>\n",
              "      <td>...</td>\n",
              "      <td>...</td>\n",
              "      <td>...</td>\n",
              "    </tr>\n",
              "    <tr>\n",
              "      <th>41183</th>\n",
              "      <td>73</td>\n",
              "      <td>5</td>\n",
              "      <td>1</td>\n",
              "      <td>5</td>\n",
              "      <td>0</td>\n",
              "      <td>2</td>\n",
              "      <td>0</td>\n",
              "      <td>0</td>\n",
              "      <td>7</td>\n",
              "      <td>0</td>\n",
              "      <td>1</td>\n",
              "      <td>999</td>\n",
              "      <td>0</td>\n",
              "      <td>1</td>\n",
              "      <td>-1.1</td>\n",
              "      <td>94.767</td>\n",
              "      <td>-50.8</td>\n",
              "      <td>1.028</td>\n",
              "      <td>4963.6</td>\n",
              "      <td>1</td>\n",
              "    </tr>\n",
              "    <tr>\n",
              "      <th>41184</th>\n",
              "      <td>46</td>\n",
              "      <td>1</td>\n",
              "      <td>1</td>\n",
              "      <td>5</td>\n",
              "      <td>0</td>\n",
              "      <td>0</td>\n",
              "      <td>0</td>\n",
              "      <td>0</td>\n",
              "      <td>7</td>\n",
              "      <td>0</td>\n",
              "      <td>1</td>\n",
              "      <td>999</td>\n",
              "      <td>0</td>\n",
              "      <td>1</td>\n",
              "      <td>-1.1</td>\n",
              "      <td>94.767</td>\n",
              "      <td>-50.8</td>\n",
              "      <td>1.028</td>\n",
              "      <td>4963.6</td>\n",
              "      <td>0</td>\n",
              "    </tr>\n",
              "    <tr>\n",
              "      <th>41185</th>\n",
              "      <td>56</td>\n",
              "      <td>5</td>\n",
              "      <td>1</td>\n",
              "      <td>6</td>\n",
              "      <td>0</td>\n",
              "      <td>2</td>\n",
              "      <td>0</td>\n",
              "      <td>0</td>\n",
              "      <td>7</td>\n",
              "      <td>0</td>\n",
              "      <td>2</td>\n",
              "      <td>999</td>\n",
              "      <td>0</td>\n",
              "      <td>1</td>\n",
              "      <td>-1.1</td>\n",
              "      <td>94.767</td>\n",
              "      <td>-50.8</td>\n",
              "      <td>1.028</td>\n",
              "      <td>4963.6</td>\n",
              "      <td>0</td>\n",
              "    </tr>\n",
              "    <tr>\n",
              "      <th>41186</th>\n",
              "      <td>44</td>\n",
              "      <td>9</td>\n",
              "      <td>1</td>\n",
              "      <td>5</td>\n",
              "      <td>0</td>\n",
              "      <td>0</td>\n",
              "      <td>0</td>\n",
              "      <td>0</td>\n",
              "      <td>7</td>\n",
              "      <td>0</td>\n",
              "      <td>1</td>\n",
              "      <td>999</td>\n",
              "      <td>0</td>\n",
              "      <td>1</td>\n",
              "      <td>-1.1</td>\n",
              "      <td>94.767</td>\n",
              "      <td>-50.8</td>\n",
              "      <td>1.028</td>\n",
              "      <td>4963.6</td>\n",
              "      <td>1</td>\n",
              "    </tr>\n",
              "    <tr>\n",
              "      <th>41187</th>\n",
              "      <td>74</td>\n",
              "      <td>5</td>\n",
              "      <td>1</td>\n",
              "      <td>5</td>\n",
              "      <td>0</td>\n",
              "      <td>2</td>\n",
              "      <td>0</td>\n",
              "      <td>0</td>\n",
              "      <td>7</td>\n",
              "      <td>0</td>\n",
              "      <td>3</td>\n",
              "      <td>999</td>\n",
              "      <td>1</td>\n",
              "      <td>0</td>\n",
              "      <td>-1.1</td>\n",
              "      <td>94.767</td>\n",
              "      <td>-50.8</td>\n",
              "      <td>1.028</td>\n",
              "      <td>4963.6</td>\n",
              "      <td>0</td>\n",
              "    </tr>\n",
              "  </tbody>\n",
              "</table>\n",
              "<p>39404 rows × 20 columns</p>\n",
              "</div>\n",
              "    <div class=\"colab-df-buttons\">\n",
              "\n",
              "  <div class=\"colab-df-container\">\n",
              "    <button class=\"colab-df-convert\" onclick=\"convertToInteractive('df-f40d6a87-7255-4bd4-8d7f-76186f532b88')\"\n",
              "            title=\"Convert this dataframe to an interactive table.\"\n",
              "            style=\"display:none;\">\n",
              "\n",
              "  <svg xmlns=\"http://www.w3.org/2000/svg\" height=\"24px\" viewBox=\"0 -960 960 960\">\n",
              "    <path d=\"M120-120v-720h720v720H120Zm60-500h600v-160H180v160Zm220 220h160v-160H400v160Zm0 220h160v-160H400v160ZM180-400h160v-160H180v160Zm440 0h160v-160H620v160ZM180-180h160v-160H180v160Zm440 0h160v-160H620v160Z\"/>\n",
              "  </svg>\n",
              "    </button>\n",
              "\n",
              "  <style>\n",
              "    .colab-df-container {\n",
              "      display:flex;\n",
              "      gap: 12px;\n",
              "    }\n",
              "\n",
              "    .colab-df-convert {\n",
              "      background-color: #E8F0FE;\n",
              "      border: none;\n",
              "      border-radius: 50%;\n",
              "      cursor: pointer;\n",
              "      display: none;\n",
              "      fill: #1967D2;\n",
              "      height: 32px;\n",
              "      padding: 0 0 0 0;\n",
              "      width: 32px;\n",
              "    }\n",
              "\n",
              "    .colab-df-convert:hover {\n",
              "      background-color: #E2EBFA;\n",
              "      box-shadow: 0px 1px 2px rgba(60, 64, 67, 0.3), 0px 1px 3px 1px rgba(60, 64, 67, 0.15);\n",
              "      fill: #174EA6;\n",
              "    }\n",
              "\n",
              "    .colab-df-buttons div {\n",
              "      margin-bottom: 4px;\n",
              "    }\n",
              "\n",
              "    [theme=dark] .colab-df-convert {\n",
              "      background-color: #3B4455;\n",
              "      fill: #D2E3FC;\n",
              "    }\n",
              "\n",
              "    [theme=dark] .colab-df-convert:hover {\n",
              "      background-color: #434B5C;\n",
              "      box-shadow: 0px 1px 3px 1px rgba(0, 0, 0, 0.15);\n",
              "      filter: drop-shadow(0px 1px 2px rgba(0, 0, 0, 0.3));\n",
              "      fill: #FFFFFF;\n",
              "    }\n",
              "  </style>\n",
              "\n",
              "    <script>\n",
              "      const buttonEl =\n",
              "        document.querySelector('#df-f40d6a87-7255-4bd4-8d7f-76186f532b88 button.colab-df-convert');\n",
              "      buttonEl.style.display =\n",
              "        google.colab.kernel.accessAllowed ? 'block' : 'none';\n",
              "\n",
              "      async function convertToInteractive(key) {\n",
              "        const element = document.querySelector('#df-f40d6a87-7255-4bd4-8d7f-76186f532b88');\n",
              "        const dataTable =\n",
              "          await google.colab.kernel.invokeFunction('convertToInteractive',\n",
              "                                                    [key], {});\n",
              "        if (!dataTable) return;\n",
              "\n",
              "        const docLinkHtml = 'Like what you see? Visit the ' +\n",
              "          '<a target=\"_blank\" href=https://colab.research.google.com/notebooks/data_table.ipynb>data table notebook</a>'\n",
              "          + ' to learn more about interactive tables.';\n",
              "        element.innerHTML = '';\n",
              "        dataTable['output_type'] = 'display_data';\n",
              "        await google.colab.output.renderOutput(dataTable, element);\n",
              "        const docLink = document.createElement('div');\n",
              "        docLink.innerHTML = docLinkHtml;\n",
              "        element.appendChild(docLink);\n",
              "      }\n",
              "    </script>\n",
              "  </div>\n",
              "\n",
              "\n",
              "<div id=\"df-3d23a3ad-82c4-4dda-b35a-d5eb2a386e5b\">\n",
              "  <button class=\"colab-df-quickchart\" onclick=\"quickchart('df-3d23a3ad-82c4-4dda-b35a-d5eb2a386e5b')\"\n",
              "            title=\"Suggest charts\"\n",
              "            style=\"display:none;\">\n",
              "\n",
              "<svg xmlns=\"http://www.w3.org/2000/svg\" height=\"24px\"viewBox=\"0 0 24 24\"\n",
              "     width=\"24px\">\n",
              "    <g>\n",
              "        <path d=\"M19 3H5c-1.1 0-2 .9-2 2v14c0 1.1.9 2 2 2h14c1.1 0 2-.9 2-2V5c0-1.1-.9-2-2-2zM9 17H7v-7h2v7zm4 0h-2V7h2v10zm4 0h-2v-4h2v4z\"/>\n",
              "    </g>\n",
              "</svg>\n",
              "  </button>\n",
              "\n",
              "<style>\n",
              "  .colab-df-quickchart {\n",
              "      --bg-color: #E8F0FE;\n",
              "      --fill-color: #1967D2;\n",
              "      --hover-bg-color: #E2EBFA;\n",
              "      --hover-fill-color: #174EA6;\n",
              "      --disabled-fill-color: #AAA;\n",
              "      --disabled-bg-color: #DDD;\n",
              "  }\n",
              "\n",
              "  [theme=dark] .colab-df-quickchart {\n",
              "      --bg-color: #3B4455;\n",
              "      --fill-color: #D2E3FC;\n",
              "      --hover-bg-color: #434B5C;\n",
              "      --hover-fill-color: #FFFFFF;\n",
              "      --disabled-bg-color: #3B4455;\n",
              "      --disabled-fill-color: #666;\n",
              "  }\n",
              "\n",
              "  .colab-df-quickchart {\n",
              "    background-color: var(--bg-color);\n",
              "    border: none;\n",
              "    border-radius: 50%;\n",
              "    cursor: pointer;\n",
              "    display: none;\n",
              "    fill: var(--fill-color);\n",
              "    height: 32px;\n",
              "    padding: 0;\n",
              "    width: 32px;\n",
              "  }\n",
              "\n",
              "  .colab-df-quickchart:hover {\n",
              "    background-color: var(--hover-bg-color);\n",
              "    box-shadow: 0 1px 2px rgba(60, 64, 67, 0.3), 0 1px 3px 1px rgba(60, 64, 67, 0.15);\n",
              "    fill: var(--button-hover-fill-color);\n",
              "  }\n",
              "\n",
              "  .colab-df-quickchart-complete:disabled,\n",
              "  .colab-df-quickchart-complete:disabled:hover {\n",
              "    background-color: var(--disabled-bg-color);\n",
              "    fill: var(--disabled-fill-color);\n",
              "    box-shadow: none;\n",
              "  }\n",
              "\n",
              "  .colab-df-spinner {\n",
              "    border: 2px solid var(--fill-color);\n",
              "    border-color: transparent;\n",
              "    border-bottom-color: var(--fill-color);\n",
              "    animation:\n",
              "      spin 1s steps(1) infinite;\n",
              "  }\n",
              "\n",
              "  @keyframes spin {\n",
              "    0% {\n",
              "      border-color: transparent;\n",
              "      border-bottom-color: var(--fill-color);\n",
              "      border-left-color: var(--fill-color);\n",
              "    }\n",
              "    20% {\n",
              "      border-color: transparent;\n",
              "      border-left-color: var(--fill-color);\n",
              "      border-top-color: var(--fill-color);\n",
              "    }\n",
              "    30% {\n",
              "      border-color: transparent;\n",
              "      border-left-color: var(--fill-color);\n",
              "      border-top-color: var(--fill-color);\n",
              "      border-right-color: var(--fill-color);\n",
              "    }\n",
              "    40% {\n",
              "      border-color: transparent;\n",
              "      border-right-color: var(--fill-color);\n",
              "      border-top-color: var(--fill-color);\n",
              "    }\n",
              "    60% {\n",
              "      border-color: transparent;\n",
              "      border-right-color: var(--fill-color);\n",
              "    }\n",
              "    80% {\n",
              "      border-color: transparent;\n",
              "      border-right-color: var(--fill-color);\n",
              "      border-bottom-color: var(--fill-color);\n",
              "    }\n",
              "    90% {\n",
              "      border-color: transparent;\n",
              "      border-bottom-color: var(--fill-color);\n",
              "    }\n",
              "  }\n",
              "</style>\n",
              "\n",
              "  <script>\n",
              "    async function quickchart(key) {\n",
              "      const quickchartButtonEl =\n",
              "        document.querySelector('#' + key + ' button');\n",
              "      quickchartButtonEl.disabled = true;  // To prevent multiple clicks.\n",
              "      quickchartButtonEl.classList.add('colab-df-spinner');\n",
              "      try {\n",
              "        const charts = await google.colab.kernel.invokeFunction(\n",
              "            'suggestCharts', [key], {});\n",
              "      } catch (error) {\n",
              "        console.error('Error during call to suggestCharts:', error);\n",
              "      }\n",
              "      quickchartButtonEl.classList.remove('colab-df-spinner');\n",
              "      quickchartButtonEl.classList.add('colab-df-quickchart-complete');\n",
              "    }\n",
              "    (() => {\n",
              "      let quickchartButtonEl =\n",
              "        document.querySelector('#df-3d23a3ad-82c4-4dda-b35a-d5eb2a386e5b button');\n",
              "      quickchartButtonEl.style.display =\n",
              "        google.colab.kernel.accessAllowed ? 'block' : 'none';\n",
              "    })();\n",
              "  </script>\n",
              "</div>\n",
              "    </div>\n",
              "  </div>\n"
            ]
          },
          "metadata": {},
          "execution_count": 22
        }
      ],
      "source": [
        "ds"
      ]
    },
    {
      "cell_type": "code",
      "execution_count": 23,
      "metadata": {
        "id": "nA5upc2zJbMh"
      },
      "outputs": [],
      "source": [
        "ds=ds.drop(['pdays'], axis=1)"
      ]
    },
    {
      "cell_type": "markdown",
      "metadata": {
        "id": "-GH6CfDEpELY"
      },
      "source": [
        "# **Balance the in inbalanced data**"
      ]
    },
    {
      "cell_type": "code",
      "execution_count": 37,
      "metadata": {
        "id": "T_VRwtqN-M8W"
      },
      "outputs": [],
      "source": [
        "from imblearn.over_sampling import SMOTE\n",
        "from sklearn.model_selection import train_test_split\n",
        "import pandas as pd\n",
        "\n",
        "# Assuming 'ds' is your original dataset\n",
        "# X should contain the features, and 'y' should be the target variable\n",
        "\n",
        "# Split the data into training and testing sets\n",
        "X_train, X_test, y_train, y_test = train_test_split(X, ds['y'], test_size=0.2, random_state=42)\n",
        "\n",
        "# Initialize SMOTE\n",
        "smote = SMOTE(random_state=42)\n",
        "\n",
        "# Apply SMOTE to the training data only\n",
        "X_train_smote, y_train_smote = smote.fit_resample(X_train, y_train)\n",
        "\n",
        "# Concatenate the synthetic samples with the original training set\n",
        "X_train_balanced = pd.concat([X_train, X_train_smote], axis=0)\n",
        "y_train_balanced = pd.concat([y_train, y_train_smote], axis=0)\n",
        "\n",
        "# Now, X_train_balanced and y_train_balanced contain the balanced training set\n"
      ]
    },
    {
      "cell_type": "code",
      "execution_count": 38,
      "metadata": {
        "colab": {
          "base_uri": "https://localhost:8080/"
        },
        "id": "GrZYHAsi-NOl",
        "outputId": "3d1a2b4a-5f4b-4baa-c4b1-84881cbbbe98"
      },
      "outputs": [
        {
          "output_type": "stream",
          "name": "stdout",
          "text": [
            "0    55686\n",
            "1    31523\n",
            "Name: y, dtype: int64\n"
          ]
        }
      ],
      "source": [
        "# Assuming 'y_train_balanced' is the target variable after oversampling\n",
        "\n",
        "# Display the class distribution after oversampling\n",
        "print(y_train_balanced.value_counts())\n"
      ]
    },
    {
      "cell_type": "code",
      "execution_count": 39,
      "metadata": {
        "colab": {
          "base_uri": "https://localhost:8080/",
          "height": 496
        },
        "id": "Nh4sHHDq5_uv",
        "outputId": "544ff218-69ab-4914-92d0-09e6058458d3"
      },
      "outputs": [
        {
          "output_type": "display_data",
          "data": {
            "text/plain": [
              "<Figure size 800x500 with 1 Axes>"
            ],
            "image/png": "[encoded data removed]"
          },
          "metadata": {}
        }
      ],
      "source": [
        "# Create a bar plot for the class distribution\n",
        "plt.figure(figsize=(8, 5))\n",
        "sns.countplot(x=y_train_balanced, palette='viridis')\n",
        "plt.title('Class Distribution After Oversampling')\n",
        "plt.xlabel('Subscription (Yes/No)')\n",
        "plt.ylabel('Count')\n",
        "plt.show()"
      ]
    },
    {
      "cell_type": "code",
      "execution_count": 24,
      "metadata": {
        "colab": {
          "base_uri": "https://localhost:8080/"
        },
        "id": "wnbRVeAS-nPj",
        "outputId": "d3961899-a4b6-462b-8eb8-d338a601f3cd"
      },
      "outputs": [
        {
          "output_type": "stream",
          "name": "stdout",
          "text": [
            "Number of duplicate rows: 11\n"
          ]
        }
      ],
      "source": [
        "# Assuming 'ds' is your DataFrame\n",
        "# Check for duplicates in the entire DataFrame\n",
        "duplicates = ds.duplicated()\n",
        "\n",
        "# Print the count of duplicate rows\n",
        "print(\"Number of duplicate rows: {}\".format(duplicates.sum()))\n",
        "\n",
        "# If you want to display the duplicate rows, you can use:\n",
        "# duplicate_rows = ds[duplicates]\n",
        "# print(duplicate_rows)\n"
      ]
    },
    {
      "cell_type": "code",
      "execution_count": 25,
      "metadata": {
        "colab": {
          "base_uri": "https://localhost:8080/"
        },
        "id": "pgk-orPW_Og9",
        "outputId": "b760d5fe-ce11-4c4c-b66e-4cf106e0ab73"
      },
      "outputs": [
        {
          "output_type": "stream",
          "name": "stdout",
          "text": [
            "Shape before removing duplicates: (39404, 19)\n",
            "Shape after removing duplicates: (39154, 19)\n"
          ]
        }
      ],
      "source": [
        "# Assuming 'ds' is your DataFrame\n",
        "# Remove duplicates based on specific columns (excluding 'y' column)\n",
        "ds_no_duplicates = ds.drop_duplicates(subset=ds.columns.difference(['y']))\n",
        "\n",
        "# Print the shape of the DataFrame before and after removing duplicates\n",
        "print(\"Shape before removing duplicates: {}\".format(ds.shape))\n",
        "print(\"Shape after removing duplicates: {}\".format(ds_no_duplicates.shape))\n"
      ]
    },
    {
      "cell_type": "code",
      "execution_count": 26,
      "metadata": {
        "id": "8nyPsmVTbys8"
      },
      "outputs": [],
      "source": [
        "# Impute missing numeric values with the mean\n",
        "numerical_imputer = SimpleImputer(strategy='mean')\n",
        "ds['age'] = numerical_imputer.fit_transform(ds[['age']])"
      ]
    },
    {
      "cell_type": "code",
      "execution_count": 27,
      "metadata": {
        "id": "ztUi-rDTdT14"
      },
      "outputs": [],
      "source": [
        "# Impute missing categorical values with the most frequent category for other columns\n",
        "categorical_columns = ['job', 'marital', 'education', 'default', 'housing', 'loan']\n",
        "for col in categorical_columns:\n",
        "    categorical_imputer = SimpleImputer(strategy='most_frequent')\n",
        "    ds[col] = categorical_imputer.fit_transform(ds[[col]])"
      ]
    },
    {
      "cell_type": "code",
      "execution_count": 28,
      "metadata": {
        "id": "2zJjYgiudT4b"
      },
      "outputs": [],
      "source": [
        "# Treat missing binary values as a separate category\n",
        "binary_columns = ['default', 'housing', 'loan']\n",
        "for col in binary_columns:\n",
        "    ds[col] = ds[col].fillna('unknown')\n"
      ]
    },
    {
      "cell_type": "code",
      "execution_count": 29,
      "metadata": {
        "id": "V0l5gT8tdV4f"
      },
      "outputs": [],
      "source": [
        "# Replace '999' with NaN in relevant columns\n",
        "categorical_999_columns = [ 'previous', 'poutcome']\n",
        "ds[categorical_999_columns] = ds[categorical_999_columns].replace('999', pd.NA)"
      ]
    },
    {
      "cell_type": "code",
      "execution_count": 30,
      "metadata": {
        "id": "0eSsxvc5l1rF"
      },
      "outputs": [],
      "source": [
        "# Replace 'unknown' and 'other' with NaN\n",
        "ds.replace(['unknown', 'other'], pd.NA, inplace=True)"
      ]
    },
    {
      "cell_type": "code",
      "execution_count": 31,
      "metadata": {
        "id": "xMS3vSTg-iBS"
      },
      "outputs": [],
      "source": [
        "# Impute missing categorical values with the most frequent category\n",
        "categorical_imputer = SimpleImputer(strategy='most_frequent')\n",
        "ds[['job', 'marital', 'education']] = categorical_imputer.fit_transform(ds[['job', 'marital', 'education']])\n"
      ]
    },
    {
      "cell_type": "code",
      "execution_count": 32,
      "metadata": {
        "colab": {
          "base_uri": "https://localhost:8080/"
        },
        "id": "C38PJbxRk9_E",
        "outputId": "a19fc42c-e1d6-46f8-e17b-e49f4db459dc"
      },
      "outputs": [
        {
          "output_type": "stream",
          "name": "stdout",
          "text": [
            "\n",
            "Missing Values After Imputation:\n",
            "age               0\n",
            "job               0\n",
            "marital           0\n",
            "education         0\n",
            "default           0\n",
            "housing           0\n",
            "loan              0\n",
            "contact           0\n",
            "month             0\n",
            "day_of_week       0\n",
            "campaign          0\n",
            "previous          0\n",
            "poutcome          0\n",
            "emp.var.rate      0\n",
            "cons.price.idx    0\n",
            "cons.conf.idx     0\n",
            "euribor3m         0\n",
            "nr.employed       0\n",
            "y                 0\n",
            "dtype: int64\n"
          ]
        }
      ],
      "source": [
        "# Verify that missing values are handled\n",
        "missing_values_after_imputation = ds.isnull().sum()\n",
        "print(\"\\nMissing Values After Imputation:\")\n",
        "print(missing_values_after_imputation)"
      ]
    },
    {
      "cell_type": "markdown",
      "metadata": {
        "id": "W6l6M8sniJPy"
      },
      "source": [
        "# **Splitting the dataset**"
      ]
    },
    {
      "cell_type": "code",
      "execution_count": 33,
      "metadata": {
        "id": "CZWe6-OxLe5Z"
      },
      "outputs": [],
      "source": [
        "# Define features (X) and target variable (y)\n",
        "X = ds.drop('y', axis=1)  # Features\n",
        "y = ds['y']  # Target variable"
      ]
    },
    {
      "cell_type": "code",
      "execution_count": 34,
      "metadata": {
        "id": "EjM9ebmaLe7y"
      },
      "outputs": [],
      "source": [
        "# Split the dataset into training and testing sets\n",
        "X_train, X_test, y_train, y_test = train_test_split(X, y, test_size=0.2, random_state=20)"
      ]
    },
    {
      "cell_type": "code",
      "execution_count": 36,
      "metadata": {
        "colab": {
          "base_uri": "https://localhost:8080/"
        },
        "id": "u2Z-ULjJLe-O",
        "outputId": "4c5aaa17-bef3-4e2a-83bd-0a90d85085c3"
      },
      "outputs": [
        {
          "output_type": "stream",
          "name": "stdout",
          "text": [
            "\n",
            "Shapes of Training and Testing Sets:\n",
            "X_train: (31523, 18)\n",
            "X_test: (7881, 18)\n",
            "y_train: (31523,)\n",
            "y_test: (7881,)\n"
          ]
        }
      ],
      "source": [
        "  # Display the shapes of the training and testing sets\n",
        "  print(\"\\nShapes of Training and Testing Sets:\")\n",
        "  print(\"X_train:\", X_train.shape)\n",
        "  print(\"X_test:\", X_test.shape)\n",
        "  print(\"y_train:\", y_train.shape)\n",
        "  print(\"y_test:\", y_test.shape)"
      ]
    },
    {
      "cell_type": "markdown",
      "metadata": {
        "id": "4FGnWehtjIdc"
      },
      "source": [
        "# **Initialize the Random Forest Classifier**"
      ]
    },
    {
      "cell_type": "code",
      "execution_count": 40,
      "metadata": {
        "id": "Q9aQF362s1Jy"
      },
      "outputs": [],
      "source": [
        "# Initialize the Random Forest Classifier\n",
        "rf_classifier = RandomForestClassifier(n_estimators=100, random_state=20)"
      ]
    },
    {
      "cell_type": "code",
      "execution_count": 41,
      "metadata": {
        "colab": {
          "base_uri": "https://localhost:8080/",
          "height": 75
        },
        "id": "-sXf37cujRcS",
        "outputId": "f2f5e7ac-cd87-4a39-94d9-c71caaea3734"
      },
      "outputs": [
        {
          "output_type": "execute_result",
          "data": {
            "text/plain": [
              "RandomForestClassifier(random_state=20)"
            ],
            "text/html": [
              "<style>#sk-container-id-1 {color: black;background-color: white;}#sk-container-id-1 pre{padding: 0;}#sk-container-id-1 div.sk-toggleable {background-color: white;}#sk-container-id-1 label.sk-toggleable__label {cursor: pointer;display: block;width: 100%;margin-bottom: 0;padding: 0.3em;box-sizing: border-box;text-align: center;}#sk-container-id-1 label.sk-toggleable__label-arrow:before {content: \"▸\";float: left;margin-right: 0.25em;color: #696969;}#sk-container-id-1 label.sk-toggleable__label-arrow:hover:before {color: black;}#sk-container-id-1 div.sk-estimator:hover label.sk-toggleable__label-arrow:before {color: black;}#sk-container-id-1 div.sk-toggleable__content {max-height: 0;max-width: 0;overflow: hidden;text-align: left;background-color: #f0f8ff;}#sk-container-id-1 div.sk-toggleable__content pre {margin: 0.2em;color: black;border-radius: 0.25em;background-color: #f0f8ff;}#sk-container-id-1 input.sk-toggleable__control:checked~div.sk-toggleable__content {max-height: 200px;max-width: 100%;overflow: auto;}#sk-container-id-1 input.sk-toggleable__control:checked~label.sk-toggleable__label-arrow:before {content: \"▾\";}#sk-container-id-1 div.sk-estimator input.sk-toggleable__control:checked~label.sk-toggleable__label {background-color: #d4ebff;}#sk-container-id-1 div.sk-label input.sk-toggleable__control:checked~label.sk-toggleable__label {background-color: #d4ebff;}#sk-container-id-1 input.sk-hidden--visually {border: 0;clip: rect(1px 1px 1px 1px);clip: rect(1px, 1px, 1px, 1px);height: 1px;margin: -1px;overflow: hidden;padding: 0;position: absolute;width: 1px;}#sk-container-id-1 div.sk-estimator {font-family: monospace;background-color: #f0f8ff;border: 1px dotted black;border-radius: 0.25em;box-sizing: border-box;margin-bottom: 0.5em;}#sk-container-id-1 div.sk-estimator:hover {background-color: #d4ebff;}#sk-container-id-1 div.sk-parallel-item::after {content: \"\";width: 100%;border-bottom: 1px solid gray;flex-grow: 1;}#sk-container-id-1 div.sk-label:hover label.sk-toggleable__label {background-color: #d4ebff;}#sk-container-id-1 div.sk-serial::before {content: \"\";position: absolute;border-left: 1px solid gray;box-sizing: border-box;top: 0;bottom: 0;left: 50%;z-index: 0;}#sk-container-id-1 div.sk-serial {display: flex;flex-direction: column;align-items: center;background-color: white;padding-right: 0.2em;padding-left: 0.2em;position: relative;}#sk-container-id-1 div.sk-item {position: relative;z-index: 1;}#sk-container-id-1 div.sk-parallel {display: flex;align-items: stretch;justify-content: center;background-color: white;position: relative;}#sk-container-id-1 div.sk-item::before, #sk-container-id-1 div.sk-parallel-item::before {content: \"\";position: absolute;border-left: 1px solid gray;box-sizing: border-box;top: 0;bottom: 0;left: 50%;z-index: -1;}#sk-container-id-1 div.sk-parallel-item {display: flex;flex-direction: column;z-index: 1;position: relative;background-color: white;}#sk-container-id-1 div.sk-parallel-item:first-child::after {align-self: flex-end;width: 50%;}#sk-container-id-1 div.sk-parallel-item:last-child::after {align-self: flex-start;width: 50%;}#sk-container-id-1 div.sk-parallel-item:only-child::after {width: 0;}#sk-container-id-1 div.sk-dashed-wrapped {border: 1px dashed gray;margin: 0 0.4em 0.5em 0.4em;box-sizing: border-box;padding-bottom: 0.4em;background-color: white;}#sk-container-id-1 div.sk-label label {font-family: monospace;font-weight: bold;display: inline-block;line-height: 1.2em;}#sk-container-id-1 div.sk-label-container {text-align: center;}#sk-container-id-1 div.sk-container {/* jupyter's `normalize.less` sets `[hidden] { display: none; }` but bootstrap.min.css set `[hidden] { display: none !important; }` so we also need the `!important` here to be able to override the default hidden behavior on the sphinx rendered scikit-learn.org. See: https://github.com/scikit-learn/scikit-learn/issues/21755 */display: inline-block !important;position: relative;}#sk-container-id-1 div.sk-text-repr-fallback {display: none;}</style><div id=\"sk-container-id-1\" class=\"sk-top-container\"><div class=\"sk-text-repr-fallback\"><pre>RandomForestClassifier(random_state=20)</pre><b>In a Jupyter environment, please rerun this cell to show the HTML representation or trust the notebook. <br />On GitHub, the HTML representation is unable to render, please try loading this page with nbviewer.org.</b></div><div class=\"sk-container\" hidden><div class=\"sk-item\"><div class=\"sk-estimator sk-toggleable\"><input class=\"sk-toggleable__control sk-hidden--visually\" id=\"sk-estimator-id-1\" type=\"checkbox\" checked><label for=\"sk-estimator-id-1\" class=\"sk-toggleable__label sk-toggleable__label-arrow\">RandomForestClassifier</label><div class=\"sk-toggleable__content\"><pre>RandomForestClassifier(random_state=20)</pre></div></div></div></div></div>"
            ]
          },
          "metadata": {},
          "execution_count": 41
        }
      ],
      "source": [
        "# Train the classifier\n",
        "rf_classifier.fit(X_train, y_train)"
      ]
    },
    {
      "cell_type": "code",
      "execution_count": 42,
      "metadata": {
        "id": "qdA-QZlojRfJ"
      },
      "outputs": [],
      "source": [
        "# Make predictions on the test set\n",
        "y_pred = rf_classifier.predict(X_test)"
      ]
    },
    {
      "cell_type": "code",
      "execution_count": 43,
      "metadata": {
        "id": "iU0xK7kcjRhT"
      },
      "outputs": [],
      "source": [
        "# Evaluate the model\n",
        "accuracy = accuracy_score(y_test, y_pred)\n",
        "classification_rep = classification_report(y_test, y_pred)"
      ]
    },
    {
      "cell_type": "code",
      "execution_count": 44,
      "metadata": {
        "colab": {
          "base_uri": "https://localhost:8080/"
        },
        "id": "RvUCmq0Dje6b",
        "outputId": "dde275b2-a864-47f8-9344-80f56bd8ea1b"
      },
      "outputs": [
        {
          "output_type": "stream",
          "name": "stdout",
          "text": [
            "Accuracy: 0.8851668569978429\n",
            "Classification Report:\n",
            "               precision    recall  f1-score   support\n",
            "\n",
            "           0       0.91      0.96      0.94      6963\n",
            "           1       0.51      0.29      0.37       918\n",
            "\n",
            "    accuracy                           0.89      7881\n",
            "   macro avg       0.71      0.63      0.65      7881\n",
            "weighted avg       0.87      0.89      0.87      7881\n",
            "\n"
          ]
        }
      ],
      "source": [
        "print(f\"Accuracy: {accuracy}\")\n",
        "print(\"Classification Report:\\n\", classification_rep)"
      ]
    },
    {
      "cell_type": "markdown",
      "metadata": {
        "id": "SADnFpch3BzX"
      },
      "source": [
        "# **Implement the GridSearch For RandomForest**\n",
        "\n",
        "\n"
      ]
    },
    {
      "cell_type": "code",
      "execution_count": 45,
      "metadata": {
        "colab": {
          "base_uri": "https://localhost:8080/"
        },
        "id": "vgYU6Qyije85",
        "outputId": "a5c01e6d-8d21-4628-bb78-7a721775e519"
      },
      "outputs": [
        {
          "output_type": "stream",
          "name": "stdout",
          "text": [
            "Best Hype9rparameters: {'max_depth': 10, 'min_samples_leaf': 4, 'min_samples_split': 2, 'n_estimators': 50}\n"
          ]
        }
      ],
      "source": [
        "from sklearn.model_selection import GridSearchCV\n",
        "\n",
        "# Example grid search for RandomForestClassifier\n",
        "param_grid = {\n",
        "    'n_estimators': [50, 100, 150],\n",
        "    'max_depth': [None, 10, 20, 30],\n",
        "    'min_samples_split': [2, 5, 10],\n",
        "    'min_samples_leaf': [1, 2, 4]\n",
        "}\n",
        "\n",
        "grid_search = GridSearchCV(RandomForestClassifier(random_state=20), param_grid, cv=5)\n",
        "grid_search.fit(X_train, y_train)\n",
        "\n",
        "# Best hyperparameters\n",
        "best_params = grid_search.best_params_\n",
        "print(\"Best Hype9rparameters:\", best_params)\n"
      ]
    },
    {
      "cell_type": "code",
      "execution_count": 46,
      "metadata": {
        "colab": {
          "base_uri": "https://localhost:8080/"
        },
        "id": "rkD7FQ3Xjz9W",
        "outputId": "900b52df-22f7-42c4-c770-e2fc04f431dc"
      },
      "outputs": [
        {
          "output_type": "stream",
          "name": "stdout",
          "text": [
            "Cross-Validation Scores: [0.89056305 0.88961142 0.88643933 0.88721447 0.88800761]\n",
            "Cross-Validation Scores: [0.89056305 0.88961142 0.88643933 0.88721447 0.88800761]\n"
          ]
        }
      ],
      "source": [
        "from sklearn.model_selection import cross_val_score\n",
        "\n",
        "# Example cross-validation for RandomForestClassifier\n",
        "cv_scores = cross_val_score(RandomForestClassifier(n_estimators=100, random_state=42), X_train, y_train, cv=5)\n",
        "print(\"Cross-Validation Scores:\", cv_scores)\n",
        "from sklearn.model_selection import cross_val_score\n",
        "\n",
        "# Example cross-validation for RandomForestClassifier\n",
        "cv_scores = cross_val_score(RandomForestClassifier(n_estimators=100, random_state=42), X_train, y_train, cv=5)\n",
        "print(\"Cross-Validation Scores:\", cv_scores)\n"
      ]
    },
    {
      "cell_type": "code",
      "execution_count": 47,
      "metadata": {
        "colab": {
          "base_uri": "https://localhost:8080/"
        },
        "id": "5AAUUBEbocyS",
        "outputId": "54c076c4-3db3-4653-e676-b40b129f0ade"
      },
      "outputs": [
        {
          "output_type": "stream",
          "name": "stdout",
          "text": [
            "Feature Importance:\n",
            "age: 0.18218172461937737\n",
            "euribor3m: 0.14891679019786994\n",
            "campaign: 0.08736852068608757\n",
            "job: 0.08498991895181504\n",
            "education: 0.07533841741236752\n",
            "nr.employed: 0.06482118541901095\n",
            "day_of_week: 0.05949293724117525\n",
            "poutcome: 0.04895630307418299\n",
            "marital: 0.041710688012004116\n",
            "housing: 0.037939697408627515\n",
            "loan: 0.026933654609313188\n",
            "cons.conf.idx: 0.023005110542818726\n",
            "emp.var.rate: 0.022885966394654886\n",
            "cons.price.idx: 0.022727461792550602\n",
            "previous: 0.021613580146489886\n",
            "month: 0.020700270359351722\n",
            "default: 0.015219485494680827\n",
            "contact: 0.01519828763762183\n"
          ]
        }
      ],
      "source": [
        "# Example feature importance for RandomForestClassifier\n",
        "feature_importance = rf_classifier.feature_importances_\n",
        "feature_names = X.columns\n",
        "\n",
        "# Sort features by importance\n",
        "feature_importance_sorted = sorted(zip(feature_names, feature_importance), key=lambda x: x[1], reverse=True)\n",
        "\n",
        "# Display sorted feature importance\n",
        "print(\"Feature Importance:\")\n",
        "for feature, importance in feature_importance_sorted:\n",
        "    print(f\"{feature}: {importance}\")"
      ]
    },
    {
      "cell_type": "code",
      "execution_count": 51,
      "metadata": {
        "colab": {
          "base_uri": "https://localhost:8080/"
        },
        "id": "9KQC4Gtjsa9F",
        "outputId": "9aca73eb-8191-4627-cecc-a1352461cffd"
      },
      "outputs": [
        {
          "output_type": "stream",
          "name": "stdout",
          "text": [
            "Before Handling Imbalanced Classes:\n",
            "Accuracy: 0.8845324197436873\n",
            "Classification Report:\n",
            "               precision    recall  f1-score   support\n",
            "\n",
            "           0       0.91      0.96      0.94      6963\n",
            "           1       0.51      0.29      0.37       918\n",
            "\n",
            "    accuracy                           0.88      7881\n",
            "   macro avg       0.71      0.63      0.65      7881\n",
            "weighted avg       0.86      0.88      0.87      7881\n",
            "\n",
            "Confusion Matrix:\n",
            " [[6706  257]\n",
            " [ 653  265]]\n",
            "\n",
            "After Handling Imbalanced Classes:\n",
            "Accuracy: 0.772744575561477\n",
            "Classification Report:\n",
            "               precision    recall  f1-score   support\n",
            "\n",
            "           0       0.94      0.79      0.86      6963\n",
            "           1       0.29      0.64      0.40       918\n",
            "\n",
            "    accuracy                           0.77      7881\n",
            "   macro avg       0.62      0.71      0.63      7881\n",
            "weighted avg       0.87      0.77      0.81      7881\n",
            "\n",
            "Confusion Matrix:\n",
            " [[5503 1460]\n",
            " [ 331  587]]\n"
          ]
        }
      ],
      "source": [
        "from sklearn.ensemble import RandomForestClassifier\n",
        "from sklearn.metrics import accuracy_score, classification_report, confusion_matrix\n",
        "from imblearn.under_sampling import RandomUnderSampler\n",
        "from sklearn.preprocessing import StandardScaler\n",
        "\n",
        "# Train RandomForestClassifier without handling imbalanced classes\n",
        "rf_classifier_before = RandomForestClassifier(n_estimators=100, random_state=20)\n",
        "rf_classifier_before.fit(X_train_scaled, y_train)\n",
        "y_pred_before = rf_classifier_before.predict(X_test_scaled)\n",
        "\n",
        "# Evaluate the model before handling\n",
        "accuracy_before = accuracy_score(y_test, y_pred_before)\n",
        "classification_rep_before = classification_report(y_test, y_pred_before)\n",
        "conf_matrix_before = confusion_matrix(y_test, y_pred_before)\n",
        "\n",
        "print(\"Before Handling Imbalanced Classes:\")\n",
        "print(f\"Accuracy: {accuracy_before}\")\n",
        "print(\"Classification Report:\\n\", classification_rep_before)\n",
        "print(\"Confusion Matrix:\\n\", conf_matrix_before)\n",
        "\n",
        "# Apply RandomUnderSampler to handle imbalanced classes\n",
        "sampler = RandomUnderSampler(random_state=20)\n",
        "X_resampled, y_resampled = sampler.fit_resample(X_train_scaled, y_train)\n",
        "\n",
        "# Train RandomForestClassifier after handling imbalanced classes\n",
        "rf_classifier_after = RandomForestClassifier(n_estimators=100, random_state=20)\n",
        "rf_classifier_after.fit(X_resampled, y_resampled)\n",
        "y_pred_after = rf_classifier_after.predict(X_test_scaled)\n",
        "\n",
        "# Evaluate the model after handling\n",
        "accuracy_after = accuracy_score(y_test, y_pred_after)\n",
        "classification_rep_after = classification_report(y_test, y_pred_after)\n",
        "conf_matrix_after = confusion_matrix(y_test, y_pred_after)\n",
        "\n",
        "print(\"\\nAfter Handling Imbalanced Classes:\")\n",
        "print(f\"Accuracy: {accuracy_after}\")\n",
        "print(\"Classification Report:\\n\", classification_rep_after)\n",
        "print(\"Confusion Matrix:\\n\", conf_matrix_after)\n"
      ]
    },
    {
      "cell_type": "code",
      "execution_count": 52,
      "metadata": {
        "colab": {
          "base_uri": "https://localhost:8080/",
          "height": 549
        },
        "id": "5WN4rMZJ7LXo",
        "outputId": "470a0e42-12aa-4ce0-c8ce-0cb3cb9d26db"
      },
      "outputs": [
        {
          "output_type": "display_data",
          "data": {
            "text/plain": [
              "<Figure size 800x600 with 1 Axes>"
            ],
            "image/png": "[encoded data removed]"
          },
          "metadata": {}
        }
      ],
      "source": [
        "import matplotlib.pyplot as plt\n",
        "import seaborn as sns\n",
        "\n",
        "# Create a bar plot to compare accuracy before and after handling imbalanced classes\n",
        "accuracy_values = [accuracy_before, accuracy_after]\n",
        "labels = ['Before Handling', 'After Handling']\n",
        "\n",
        "plt.figure(figsize=(8, 6))\n",
        "sns.barplot(x=labels, y=accuracy_values, palette='Set2')\n",
        "plt.title('Accuracy Before and After Handling Imbalanced Classes')\n",
        "plt.ylabel('Accuracy')\n",
        "plt.show()\n"
      ]
    },
    {
      "cell_type": "markdown",
      "metadata": {
        "id": "vlYxqYdEsc56"
      },
      "source": [
        "# **Logistic Regression Model**"
      ]
    },
    {
      "cell_type": "code",
      "execution_count": 50,
      "metadata": {
        "id": "DOnxgnqjueFH"
      },
      "outputs": [],
      "source": [
        "# Standardize Features\n",
        "scaler = StandardScaler()\n",
        "X_train_scaled = scaler.fit_transform(X_train)\n",
        "X_test_scaled = scaler.transform(X_test)"
      ]
    },
    {
      "cell_type": "code",
      "execution_count": 53,
      "metadata": {
        "colab": {
          "base_uri": "https://localhost:8080/",
          "height": 75
        },
        "id": "PtNYCEgmueOO",
        "outputId": "678e7413-ac2c-413a-8526-d9868edf8303"
      },
      "outputs": [
        {
          "output_type": "execute_result",
          "data": {
            "text/plain": [
              "LogisticRegression(random_state=20)"
            ],
            "text/html": [
              "<style>#sk-container-id-2 {color: black;background-color: white;}#sk-container-id-2 pre{padding: 0;}#sk-container-id-2 div.sk-toggleable {background-color: white;}#sk-container-id-2 label.sk-toggleable__label {cursor: pointer;display: block;width: 100%;margin-bottom: 0;padding: 0.3em;box-sizing: border-box;text-align: center;}#sk-container-id-2 label.sk-toggleable__label-arrow:before {content: \"▸\";float: left;margin-right: 0.25em;color: #696969;}#sk-container-id-2 label.sk-toggleable__label-arrow:hover:before {color: black;}#sk-container-id-2 div.sk-estimator:hover label.sk-toggleable__label-arrow:before {color: black;}#sk-container-id-2 div.sk-toggleable__content {max-height: 0;max-width: 0;overflow: hidden;text-align: left;background-color: #f0f8ff;}#sk-container-id-2 div.sk-toggleable__content pre {margin: 0.2em;color: black;border-radius: 0.25em;background-color: #f0f8ff;}#sk-container-id-2 input.sk-toggleable__control:checked~div.sk-toggleable__content {max-height: 200px;max-width: 100%;overflow: auto;}#sk-container-id-2 input.sk-toggleable__control:checked~label.sk-toggleable__label-arrow:before {content: \"▾\";}#sk-container-id-2 div.sk-estimator input.sk-toggleable__control:checked~label.sk-toggleable__label {background-color: #d4ebff;}#sk-container-id-2 div.sk-label input.sk-toggleable__control:checked~label.sk-toggleable__label {background-color: #d4ebff;}#sk-container-id-2 input.sk-hidden--visually {border: 0;clip: rect(1px 1px 1px 1px);clip: rect(1px, 1px, 1px, 1px);height: 1px;margin: -1px;overflow: hidden;padding: 0;position: absolute;width: 1px;}#sk-container-id-2 div.sk-estimator {font-family: monospace;background-color: #f0f8ff;border: 1px dotted black;border-radius: 0.25em;box-sizing: border-box;margin-bottom: 0.5em;}#sk-container-id-2 div.sk-estimator:hover {background-color: #d4ebff;}#sk-container-id-2 div.sk-parallel-item::after {content: \"\";width: 100%;border-bottom: 1px solid gray;flex-grow: 1;}#sk-container-id-2 div.sk-label:hover label.sk-toggleable__label {background-color: #d4ebff;}#sk-container-id-2 div.sk-serial::before {content: \"\";position: absolute;border-left: 1px solid gray;box-sizing: border-box;top: 0;bottom: 0;left: 50%;z-index: 0;}#sk-container-id-2 div.sk-serial {display: flex;flex-direction: column;align-items: center;background-color: white;padding-right: 0.2em;padding-left: 0.2em;position: relative;}#sk-container-id-2 div.sk-item {position: relative;z-index: 1;}#sk-container-id-2 div.sk-parallel {display: flex;align-items: stretch;justify-content: center;background-color: white;position: relative;}#sk-container-id-2 div.sk-item::before, #sk-container-id-2 div.sk-parallel-item::before {content: \"\";position: absolute;border-left: 1px solid gray;box-sizing: border-box;top: 0;bottom: 0;left: 50%;z-index: -1;}#sk-container-id-2 div.sk-parallel-item {display: flex;flex-direction: column;z-index: 1;position: relative;background-color: white;}#sk-container-id-2 div.sk-parallel-item:first-child::after {align-self: flex-end;width: 50%;}#sk-container-id-2 div.sk-parallel-item:last-child::after {align-self: flex-start;width: 50%;}#sk-container-id-2 div.sk-parallel-item:only-child::after {width: 0;}#sk-container-id-2 div.sk-dashed-wrapped {border: 1px dashed gray;margin: 0 0.4em 0.5em 0.4em;box-sizing: border-box;padding-bottom: 0.4em;background-color: white;}#sk-container-id-2 div.sk-label label {font-family: monospace;font-weight: bold;display: inline-block;line-height: 1.2em;}#sk-container-id-2 div.sk-label-container {text-align: center;}#sk-container-id-2 div.sk-container {/* jupyter's `normalize.less` sets `[hidden] { display: none; }` but bootstrap.min.css set `[hidden] { display: none !important; }` so we also need the `!important` here to be able to override the default hidden behavior on the sphinx rendered scikit-learn.org. See: https://github.com/scikit-learn/scikit-learn/issues/21755 */display: inline-block !important;position: relative;}#sk-container-id-2 div.sk-text-repr-fallback {display: none;}</style><div id=\"sk-container-id-2\" class=\"sk-top-container\"><div class=\"sk-text-repr-fallback\"><pre>LogisticRegression(random_state=20)</pre><b>In a Jupyter environment, please rerun this cell to show the HTML representation or trust the notebook. <br />On GitHub, the HTML representation is unable to render, please try loading this page with nbviewer.org.</b></div><div class=\"sk-container\" hidden><div class=\"sk-item\"><div class=\"sk-estimator sk-toggleable\"><input class=\"sk-toggleable__control sk-hidden--visually\" id=\"sk-estimator-id-2\" type=\"checkbox\" checked><label for=\"sk-estimator-id-2\" class=\"sk-toggleable__label sk-toggleable__label-arrow\">LogisticRegression</label><div class=\"sk-toggleable__content\"><pre>LogisticRegression(random_state=20)</pre></div></div></div></div></div>"
            ]
          },
          "metadata": {},
          "execution_count": 53
        }
      ],
      "source": [
        "# Train the Logistic Regression model\n",
        "logistic_regression_model = LogisticRegression(random_state=20)\n",
        "logistic_regression_model.fit(X_train_scaled, y_train)"
      ]
    },
    {
      "cell_type": "code",
      "execution_count": 54,
      "metadata": {
        "id": "vaPYdmR_ueSo"
      },
      "outputs": [],
      "source": [
        "# Make Predictions on the Test Set\n",
        "y_pred = logistic_regression_model.predict(X_test_scaled)"
      ]
    },
    {
      "cell_type": "code",
      "execution_count": 55,
      "metadata": {
        "id": "UrkGMHErzI4P"
      },
      "outputs": [],
      "source": [
        "# Evaluate the Model\n",
        "accuracy = accuracy_score(y_test, y_pred)\n",
        "classification_rep = classification_report(y_test, y_pred)\n",
        "conf_matrix = confusion_matrix(y_test, y_pred)\n"
      ]
    },
    {
      "cell_type": "code",
      "execution_count": 56,
      "metadata": {
        "colab": {
          "base_uri": "https://localhost:8080/"
        },
        "id": "SfS2UhKr5D68",
        "outputId": "e41586d2-6f51-401d-e18f-20803c581310"
      },
      "outputs": [
        {
          "output_type": "stream",
          "name": "stdout",
          "text": [
            "              precision    recall  f1-score   support\n",
            "\n",
            "           0       0.90      0.98      0.94      6963\n",
            "           1       0.64      0.21      0.32       918\n",
            "\n",
            "    accuracy                           0.89      7881\n",
            "   macro avg       0.77      0.60      0.63      7881\n",
            "weighted avg       0.87      0.89      0.87      7881\n",
            "\n"
          ]
        }
      ],
      "source": [
        "from sklearn.metrics import classification_report\n",
        "\n",
        "y_pred = logistic_regression_model.predict(X_test_scaled)\n",
        "print(classification_report(y_test, y_pred))\n"
      ]
    },
    {
      "cell_type": "code",
      "execution_count": 57,
      "metadata": {
        "colab": {
          "base_uri": "https://localhost:8080/"
        },
        "id": "hiAhefpQzI65",
        "outputId": "215b60f1-61f6-44ed-b3f3-85a5abea78ba"
      },
      "outputs": [
        {
          "output_type": "stream",
          "name": "stdout",
          "text": [
            "Accuracy: 0.894175866006852\n",
            "Classification Report:\n",
            "               precision    recall  f1-score   support\n",
            "\n",
            "           0       0.90      0.98      0.94      6963\n",
            "           1       0.64      0.21      0.32       918\n",
            "\n",
            "    accuracy                           0.89      7881\n",
            "   macro avg       0.77      0.60      0.63      7881\n",
            "weighted avg       0.87      0.89      0.87      7881\n",
            "\n",
            "Confusion Matrix:\n",
            " [[6855  108]\n",
            " [ 726  192]]\n",
            "\n",
            "After Handling Imbalanced Classes:\n",
            "Accuracy: 0.772744575561477\n",
            "Classification Report:\n",
            "               precision    recall  f1-score   support\n",
            "\n",
            "           0       0.94      0.79      0.86      6963\n",
            "           1       0.29      0.64      0.40       918\n",
            "\n",
            "    accuracy                           0.77      7881\n",
            "   macro avg       0.62      0.71      0.63      7881\n",
            "weighted avg       0.87      0.77      0.81      7881\n",
            "\n",
            "Confusion Matrix:\n",
            " [[5503 1460]\n",
            " [ 331  587]]\n"
          ]
        }
      ],
      "source": [
        "print(f\"Accuracy: {accuracy}\")\n",
        "print(\"Classification Report:\\n\", classification_rep)\n",
        "print(\"Confusion Matrix:\\n\", conf_matrix)\n",
        "# Evaluate the model after handling\n",
        "accuracy_after = accuracy_score(y_test, y_pred_after)\n",
        "classification_rep_after = classification_report(y_test, y_pred_after)\n",
        "conf_matrix_after = confusion_matrix(y_test, y_pred_after)\n",
        "\n",
        "print(\"\\nAfter Handling Imbalanced Classes:\")\n",
        "print(f\"Accuracy: {accuracy_after}\")\n",
        "print(\"Classification Report:\\n\", classification_rep_after)\n",
        "print(\"Confusion Matrix:\\n\", conf_matrix_after)\n"
      ]
    },
    {
      "cell_type": "code",
      "execution_count": 58,
      "metadata": {
        "colab": {
          "base_uri": "https://localhost:8080/"
        },
        "id": "m85xQVAVvUu3",
        "outputId": "26b654b1-1a17-480c-c090-6b0d6686f5c9"
      },
      "outputs": [
        {
          "output_type": "stream",
          "name": "stdout",
          "text": [
            "Before Handling Imbalanced Classes with Logistic Regression:\n",
            "Accuracy: 0.894175866006852\n",
            "Classification Report:\n",
            "               precision    recall  f1-score   support\n",
            "\n",
            "           0       0.90      0.98      0.94      6963\n",
            "           1       0.64      0.21      0.32       918\n",
            "\n",
            "    accuracy                           0.89      7881\n",
            "   macro avg       0.77      0.60      0.63      7881\n",
            "weighted avg       0.87      0.89      0.87      7881\n",
            "\n",
            "Confusion Matrix:\n",
            " [[6855  108]\n",
            " [ 726  192]]\n",
            "\n",
            "After Handling Imbalanced Classes with Logistic Regression:\n",
            "Accuracy: 0.7981220657276995\n",
            "Classification Report:\n",
            "               precision    recall  f1-score   support\n",
            "\n",
            "           0       0.94      0.82      0.88      6963\n",
            "           1       0.32      0.63      0.42       918\n",
            "\n",
            "    accuracy                           0.80      7881\n",
            "   macro avg       0.63      0.72      0.65      7881\n",
            "weighted avg       0.87      0.80      0.82      7881\n",
            "\n",
            "Confusion Matrix:\n",
            " [[5716 1247]\n",
            " [ 344  574]]\n"
          ]
        }
      ],
      "source": [
        "# Before handling imbalanced classes with Logistic Regression\n",
        "logistic_regression_model_before = LogisticRegression(random_state=20)\n",
        "logistic_regression_model_before.fit(X_train_scaled, y_train)\n",
        "y_pred_before_lr = logistic_regression_model_before.predict(X_test_scaled)\n",
        "\n",
        "# Evaluate the Logistic Regression model before handling\n",
        "accuracy_before_lr = accuracy_score(y_test, y_pred_before_lr)\n",
        "classification_rep_before_lr = classification_report(y_test, y_pred_before_lr)\n",
        "conf_matrix_before_lr = confusion_matrix(y_test, y_pred_before_lr)\n",
        "\n",
        "print(\"Before Handling Imbalanced Classes with Logistic Regression:\")\n",
        "print(f\"Accuracy: {accuracy_before_lr}\")\n",
        "print(\"Classification Report:\\n\", classification_rep_before_lr)\n",
        "print(\"Confusion Matrix:\\n\", conf_matrix_before_lr)\n",
        "\n",
        "# Apply RandomUnderSampler to handle imbalanced classes\n",
        "sampler = RandomUnderSampler(random_state=20)\n",
        "X_resampled_lr, y_resampled_lr = sampler.fit_resample(X_train_scaled, y_train)\n",
        "\n",
        "# Train Logistic Regression after handling imbalanced classes\n",
        "logistic_regression_model_after = LogisticRegression(random_state=20)\n",
        "logistic_regression_model_after.fit(X_resampled_lr, y_resampled_lr)\n",
        "y_pred_after_lr = logistic_regression_model_after.predict(X_test_scaled)\n",
        "\n",
        "# Evaluate the Logistic Regression model after handling\n",
        "accuracy_after_lr = accuracy_score(y_test, y_pred_after_lr)\n",
        "classification_rep_after_lr = classification_report(y_test, y_pred_after_lr)\n",
        "conf_matrix_after_lr = confusion_matrix(y_test, y_pred_after_lr)\n",
        "\n",
        "print(\"\\nAfter Handling Imbalanced Classes with Logistic Regression:\")\n",
        "print(f\"Accuracy: {accuracy_after_lr}\")\n",
        "print(\"Classification Report:\\n\", classification_rep_after_lr)\n",
        "print(\"Confusion Matrix:\\n\", conf_matrix_after_lr)"
      ]
    },
    {
      "cell_type": "code",
      "execution_count": 59,
      "metadata": {
        "colab": {
          "base_uri": "https://localhost:8080/"
        },
        "id": "Ge5MtjGWEFGp",
        "outputId": "42de2ea4-7eb3-404c-9de0-5036a811252e"
      },
      "outputs": [
        {
          "output_type": "stream",
          "name": "stdout",
          "text": [
            "Best Parameters: {'C': 0.1, 'penalty': 'l2'}\n",
            "Accuracy with Best Model: 0.8944296409085142\n",
            "Classification Report with Best Model:\n",
            "               precision    recall  f1-score   support\n",
            "\n",
            "           0       0.90      0.99      0.94      6963\n",
            "           1       0.65      0.21      0.31       918\n",
            "\n",
            "    accuracy                           0.89      7881\n",
            "   macro avg       0.78      0.60      0.63      7881\n",
            "weighted avg       0.87      0.89      0.87      7881\n",
            "\n",
            "Confusion Matrix with Best Model:\n",
            " [[6860  103]\n",
            " [ 729  189]]\n"
          ]
        },
        {
          "output_type": "stream",
          "name": "stderr",
          "text": [
            "/usr/local/lib/python3.10/dist-packages/sklearn/model_selection/_validation.py:378: FitFailedWarning: \n",
            "30 fits failed out of a total of 60.\n",
            "The score on these train-test partitions for these parameters will be set to nan.\n",
            "If these failures are not expected, you can try to debug them by setting error_score='raise'.\n",
            "\n",
            "Below are more details about the failures:\n",
            "--------------------------------------------------------------------------------\n",
            "30 fits failed with the following error:\n",
            "Traceback (most recent call last):\n",
            "  File \"/usr/local/lib/python3.10/dist-packages/sklearn/model_selection/_validation.py\", line 686, in _fit_and_score\n",
            "    estimator.fit(X_train, y_train, **fit_params)\n",
            "  File \"/usr/local/lib/python3.10/dist-packages/sklearn/linear_model/_logistic.py\", line 1162, in fit\n",
            "    solver = _check_solver(self.solver, self.penalty, self.dual)\n",
            "  File \"/usr/local/lib/python3.10/dist-packages/sklearn/linear_model/_logistic.py\", line 54, in _check_solver\n",
            "    raise ValueError(\n",
            "ValueError: Solver lbfgs supports only 'l2' or 'none' penalties, got l1 penalty.\n",
            "\n",
            "  warnings.warn(some_fits_failed_message, FitFailedWarning)\n",
            "/usr/local/lib/python3.10/dist-packages/sklearn/model_selection/_search.py:952: UserWarning: One or more of the test scores are non-finite: [       nan 0.89553648        nan 0.89639304        nan 0.8967103\n",
            "        nan 0.89632963        nan 0.89632962        nan 0.89632962]\n",
            "  warnings.warn(\n"
          ]
        }
      ],
      "source": [
        "from sklearn.model_selection import GridSearchCV\n",
        "\n",
        "# Standardize Features\n",
        "scaler = StandardScaler()\n",
        "X_train_scaled = scaler.fit_transform(X_train)\n",
        "X_test_scaled = scaler.transform(X_test)\n",
        "\n",
        "# Define the Logistic Regression model\n",
        "logistic_regression_model = LogisticRegression(random_state=20)\n",
        "\n",
        "# Define the parameter grid for grid search\n",
        "param_grid = {\n",
        "    'penalty': ['l1', 'l2'],\n",
        "    'C': [0.001, 0.01, 0.1, 1, 10, 100],\n",
        "}\n",
        "\n",
        "# Create the grid search object\n",
        "grid_search = GridSearchCV(logistic_regression_model, param_grid, cv=5, scoring='accuracy')\n",
        "\n",
        "# Fit the grid search to the data\n",
        "grid_search.fit(X_train_scaled, y_train)\n",
        "\n",
        "# Get the best parameters and model from the grid search\n",
        "best_params = grid_search.best_params_\n",
        "best_model = grid_search.best_estimator_\n",
        "\n",
        "# Make predictions on the test set using the best model\n",
        "y_pred_best = best_model.predict(X_test_scaled)\n",
        "\n",
        "# Evaluate the best model\n",
        "accuracy_best = accuracy_score(y_test, y_pred_best)\n",
        "classification_rep_best = classification_report(y_test, y_pred_best)\n",
        "conf_matrix_best = confusion_matrix(y_test, y_pred_best)\n",
        "\n",
        "# Print the results\n",
        "print(\"Best Parameters:\", best_params)\n",
        "print(\"Accuracy with Best Model:\", accuracy_best)\n",
        "print(\"Classification Report with Best Model:\\n\", classification_rep_best)\n",
        "print(\"Confusion Matrix with Best Model:\\n\", conf_matrix_best)\n"
      ]
    },
    {
      "cell_type": "code",
      "execution_count": 60,
      "metadata": {
        "colab": {
          "base_uri": "https://localhost:8080/",
          "height": 601
        },
        "id": "kZImoG497ehK",
        "outputId": "7a179fa5-965a-42db-8399-8ae8e985caf7"
      },
      "outputs": [
        {
          "output_type": "display_data",
          "data": {
            "text/plain": [
              "<Figure size 1000x600 with 1 Axes>"
            ],
            "image/png": "[encoded data removed]"
          },
          "metadata": {}
        }
      ],
      "source": [
        "import matplotlib.pyplot as plt\n",
        "import seaborn as sns\n",
        "\n",
        "# Data\n",
        "accuracy_values = [\n",
        "    accuracy_before, accuracy_after, accuracy_before_lr, accuracy_after_lr\n",
        "]\n",
        "labels = [\n",
        "    'RandomForest Before', 'RandomForest After',\n",
        "    'Logistic Regression Before', 'Logistic Regression After'\n",
        "]\n",
        "\n",
        "# Create a bar plot to compare accuracy before and after handling imbalanced classes for both models\n",
        "plt.figure(figsize=(10, 6))\n",
        "sns.barplot(x=labels, y=accuracy_values, palette='Set2')\n",
        "plt.title('Accuracy Before and After Handling Imbalanced Classes')\n",
        "plt.ylabel('Accuracy')\n",
        "plt.xticks(rotation=45, ha='right')\n",
        "plt.tight_layout()\n",
        "plt.show()\n"
      ]
    },
    {
      "cell_type": "markdown",
      "metadata": {
        "id": "QBkcjldf3SH8"
      },
      "source": [
        "# Initialize the SVM Model"
      ]
    },
    {
      "cell_type": "code",
      "execution_count": 61,
      "metadata": {
        "colab": {
          "base_uri": "https://localhost:8080/",
          "height": 75
        },
        "id": "zvVR9NbkzYcb",
        "outputId": "1b793941-54f4-4483-d5c3-df1658d91629"
      },
      "outputs": [
        {
          "output_type": "execute_result",
          "data": {
            "text/plain": [
              "SVC(kernel='linear', random_state=20)"
            ],
            "text/html": [
              "<style>#sk-container-id-3 {color: black;background-color: white;}#sk-container-id-3 pre{padding: 0;}#sk-container-id-3 div.sk-toggleable {background-color: white;}#sk-container-id-3 label.sk-toggleable__label {cursor: pointer;display: block;width: 100%;margin-bottom: 0;padding: 0.3em;box-sizing: border-box;text-align: center;}#sk-container-id-3 label.sk-toggleable__label-arrow:before {content: \"▸\";float: left;margin-right: 0.25em;color: #696969;}#sk-container-id-3 label.sk-toggleable__label-arrow:hover:before {color: black;}#sk-container-id-3 div.sk-estimator:hover label.sk-toggleable__label-arrow:before {color: black;}#sk-container-id-3 div.sk-toggleable__content {max-height: 0;max-width: 0;overflow: hidden;text-align: left;background-color: #f0f8ff;}#sk-container-id-3 div.sk-toggleable__content pre {margin: 0.2em;color: black;border-radius: 0.25em;background-color: #f0f8ff;}#sk-container-id-3 input.sk-toggleable__control:checked~div.sk-toggleable__content {max-height: 200px;max-width: 100%;overflow: auto;}#sk-container-id-3 input.sk-toggleable__control:checked~label.sk-toggleable__label-arrow:before {content: \"▾\";}#sk-container-id-3 div.sk-estimator input.sk-toggleable__control:checked~label.sk-toggleable__label {background-color: #d4ebff;}#sk-container-id-3 div.sk-label input.sk-toggleable__control:checked~label.sk-toggleable__label {background-color: #d4ebff;}#sk-container-id-3 input.sk-hidden--visually {border: 0;clip: rect(1px 1px 1px 1px);clip: rect(1px, 1px, 1px, 1px);height: 1px;margin: -1px;overflow: hidden;padding: 0;position: absolute;width: 1px;}#sk-container-id-3 div.sk-estimator {font-family: monospace;background-color: #f0f8ff;border: 1px dotted black;border-radius: 0.25em;box-sizing: border-box;margin-bottom: 0.5em;}#sk-container-id-3 div.sk-estimator:hover {background-color: #d4ebff;}#sk-container-id-3 div.sk-parallel-item::after {content: \"\";width: 100%;border-bottom: 1px solid gray;flex-grow: 1;}#sk-container-id-3 div.sk-label:hover label.sk-toggleable__label {background-color: #d4ebff;}#sk-container-id-3 div.sk-serial::before {content: \"\";position: absolute;border-left: 1px solid gray;box-sizing: border-box;top: 0;bottom: 0;left: 50%;z-index: 0;}#sk-container-id-3 div.sk-serial {display: flex;flex-direction: column;align-items: center;background-color: white;padding-right: 0.2em;padding-left: 0.2em;position: relative;}#sk-container-id-3 div.sk-item {position: relative;z-index: 1;}#sk-container-id-3 div.sk-parallel {display: flex;align-items: stretch;justify-content: center;background-color: white;position: relative;}#sk-container-id-3 div.sk-item::before, #sk-container-id-3 div.sk-parallel-item::before {content: \"\";position: absolute;border-left: 1px solid gray;box-sizing: border-box;top: 0;bottom: 0;left: 50%;z-index: -1;}#sk-container-id-3 div.sk-parallel-item {display: flex;flex-direction: column;z-index: 1;position: relative;background-color: white;}#sk-container-id-3 div.sk-parallel-item:first-child::after {align-self: flex-end;width: 50%;}#sk-container-id-3 div.sk-parallel-item:last-child::after {align-self: flex-start;width: 50%;}#sk-container-id-3 div.sk-parallel-item:only-child::after {width: 0;}#sk-container-id-3 div.sk-dashed-wrapped {border: 1px dashed gray;margin: 0 0.4em 0.5em 0.4em;box-sizing: border-box;padding-bottom: 0.4em;background-color: white;}#sk-container-id-3 div.sk-label label {font-family: monospace;font-weight: bold;display: inline-block;line-height: 1.2em;}#sk-container-id-3 div.sk-label-container {text-align: center;}#sk-container-id-3 div.sk-container {/* jupyter's `normalize.less` sets `[hidden] { display: none; }` but bootstrap.min.css set `[hidden] { display: none !important; }` so we also need the `!important` here to be able to override the default hidden behavior on the sphinx rendered scikit-learn.org. See: https://github.com/scikit-learn/scikit-learn/issues/21755 */display: inline-block !important;position: relative;}#sk-container-id-3 div.sk-text-repr-fallback {display: none;}</style><div id=\"sk-container-id-3\" class=\"sk-top-container\"><div class=\"sk-text-repr-fallback\"><pre>SVC(kernel=&#x27;linear&#x27;, random_state=20)</pre><b>In a Jupyter environment, please rerun this cell to show the HTML representation or trust the notebook. <br />On GitHub, the HTML representation is unable to render, please try loading this page with nbviewer.org.</b></div><div class=\"sk-container\" hidden><div class=\"sk-item\"><div class=\"sk-estimator sk-toggleable\"><input class=\"sk-toggleable__control sk-hidden--visually\" id=\"sk-estimator-id-3\" type=\"checkbox\" checked><label for=\"sk-estimator-id-3\" class=\"sk-toggleable__label sk-toggleable__label-arrow\">SVC</label><div class=\"sk-toggleable__content\"><pre>SVC(kernel=&#x27;linear&#x27;, random_state=20)</pre></div></div></div></div></div>"
            ]
          },
          "metadata": {},
          "execution_count": 61
        }
      ],
      "source": [
        "# Train the Support Vector Machine (SVM) model\n",
        "svm_model = SVC(kernel='linear', random_state=20)  # Use 'linear' kernel for simplicity, adjust based on your data\n",
        "svm_model.fit(X_train_scaled, y_train)\n"
      ]
    },
    {
      "cell_type": "code",
      "execution_count": 62,
      "metadata": {
        "id": "0_Qer3WO1IfJ"
      },
      "outputs": [],
      "source": [
        "# Make Predictions on the Test Set\n",
        "y_pred_svm = svm_model.predict(X_test_scaled)"
      ]
    },
    {
      "cell_type": "code",
      "execution_count": 63,
      "metadata": {
        "id": "2RyBBskO1O1z"
      },
      "outputs": [],
      "source": [
        "# Evaluate the Model\n",
        "accuracy_svm = accuracy_score(y_test, y_pred_svm)\n",
        "classification_rep_svm = classification_report(y_test, y_pred_svm)\n",
        "conf_matrix_svm = confusion_matrix(y_test, y_pred_svm)"
      ]
    },
    {
      "cell_type": "code",
      "execution_count": 64,
      "metadata": {
        "colab": {
          "base_uri": "https://localhost:8080/"
        },
        "id": "KLR2EPxg1UXn",
        "outputId": "44a685d9-bf72-49e3-da16-e3a778fabceb"
      },
      "outputs": [
        {
          "output_type": "stream",
          "name": "stdout",
          "text": [
            "SVM Accuracy: 0.8912574546377363\n",
            "SVM Classification Report:\n",
            "               precision    recall  f1-score   support\n",
            "\n",
            "           0       0.90      0.98      0.94      6963\n",
            "           1       0.60      0.19      0.29       918\n",
            "\n",
            "    accuracy                           0.89      7881\n",
            "   macro avg       0.75      0.59      0.62      7881\n",
            "weighted avg       0.87      0.89      0.87      7881\n",
            "\n",
            "SVM Confusion Matrix:\n",
            " [[6846  117]\n",
            " [ 740  178]]\n"
          ]
        }
      ],
      "source": [
        "print(f\"SVM Accuracy: {accuracy_svm}\")\n",
        "print(\"SVM Classification Report:\\n\", classification_rep_svm)\n",
        "print(\"SVM Confusion Matrix:\\n\", conf_matrix_svm)"
      ]
    },
    {
      "cell_type": "code",
      "execution_count": 65,
      "metadata": {
        "id": "NdXaCmsuGBSz"
      },
      "outputs": [],
      "source": [
        "from sklearn.model_selection import GridSearchCV\n",
        "from sklearn.svm import SVC\n",
        "from sklearn.metrics import accuracy_score, classification_report, confusion_matrix\n",
        "from sklearn.preprocessing import StandardScaler\n",
        "from imblearn.under_sampling import RandomUnderSampler\n",
        "\n",
        "def train_and_evaluate_svm(X_train, y_train, X_test, y_test):\n",
        "    # Standardize Features\n",
        "    scaler = StandardScaler()\n",
        "    X_train_scaled = scaler.fit_transform(X_train)\n",
        "    X_test_scaled = scaler.transform(X_test)\n",
        "\n",
        "    # Define the parameter grid for grid search\n",
        "    param_grid = {\n",
        "        'C': [0.1, 1, 10],\n",
        "        'gamma': [0.01, 0.1, 1],\n",
        "    }\n",
        "\n",
        "    # Create and fit the grid search object\n",
        "    grid_search = GridSearchCV(SVC(kernel='linear', random_state=20), param_grid, cv=5, scoring='accuracy')\n",
        "    grid_search.fit(X_train_scaled, y_train)\n",
        "\n",
        "    # Get the best parameters and model from the grid search\n",
        "    best_params_svm = grid_search.best_params_\n",
        "    best_model_svm = grid_search.best_estimator_\n",
        "\n",
        "    # Evaluate the best model on the test set\n",
        "    y_pred_best_svm = best_model_svm.predict(X_test_scaled)\n",
        "\n",
        "    # Calculate evaluation metrics\n",
        "    accuracy_best_svm = accuracy_score(y_test, y_pred_best_svm)\n",
        "    classification_rep_best_svm = classification_report(y_test, y_pred_best_svm)\n",
        "    conf_matrix_best_svm = confusion_matrix(y_test, y_pred_best_svm)\n",
        "\n",
        "    # Print the results\n",
        "    print(\"Best Parameters for SVM:\", best_params_svm)\n",
        "    print(\"Accuracy with Best SVM Model:\", accuracy_best_svm)\n",
        "    print(\"Classification Report with Best SVM Model:\\n\", classification_rep_best_svm)\n",
        "    print(\"Confusion Matrix with Best SVM Model:\\n\", conf_matrix_best_svm)\n",
        "\n",
        "# Example usage:\n",
        "# train_and_evaluate_svm(X_train, y_train, X_test, y_test)\n"
      ]
    },
    {
      "cell_type": "code",
      "execution_count": 66,
      "metadata": {
        "colab": {
          "base_uri": "https://localhost:8080/"
        },
        "id": "ZuSTLP8NvweR",
        "outputId": "8bdd8d12-d316-4bcc-89ef-2de3e4703deb"
      },
      "outputs": [
        {
          "output_type": "stream",
          "name": "stdout",
          "text": [
            "Before Handling Imbalanced Classes with SVM:\n",
            "Accuracy: 0.8912574546377363\n",
            "Classification Report:\n",
            "               precision    recall  f1-score   support\n",
            "\n",
            "           0       0.90      0.98      0.94      6963\n",
            "           1       0.60      0.19      0.29       918\n",
            "\n",
            "    accuracy                           0.89      7881\n",
            "   macro avg       0.75      0.59      0.62      7881\n",
            "weighted avg       0.87      0.89      0.87      7881\n",
            "\n",
            "Confusion Matrix:\n",
            " [[6846  117]\n",
            " [ 740  178]]\n",
            "\n",
            "After Handling Imbalanced Classes with SVM:\n",
            "Accuracy: 0.8262910798122066\n",
            "Classification Report:\n",
            "               precision    recall  f1-score   support\n",
            "\n",
            "           0       0.94      0.86      0.90      6963\n",
            "           1       0.35      0.58      0.44       918\n",
            "\n",
            "    accuracy                           0.83      7881\n",
            "   macro avg       0.64      0.72      0.67      7881\n",
            "weighted avg       0.87      0.83      0.84      7881\n",
            "\n",
            "Confusion Matrix:\n",
            " [[5983  980]\n",
            " [ 389  529]]\n"
          ]
        }
      ],
      "source": [
        "from sklearn.svm import SVC\n",
        "from sklearn.metrics import accuracy_score, classification_report, confusion_matrix\n",
        "from imblearn.under_sampling import RandomUnderSampler\n",
        "from sklearn.preprocessing import StandardScaler\n",
        "\n",
        "# Before handling imbalanced classes with SVM\n",
        "svm_model_before = SVC(kernel='linear', random_state=20)\n",
        "svm_model_before.fit(X_train_scaled, y_train)\n",
        "y_pred_before_svm = svm_model_before.predict(X_test_scaled)\n",
        "\n",
        "# Evaluate the SVM model before handling\n",
        "accuracy_before_svm = accuracy_score(y_test, y_pred_before_svm)\n",
        "classification_rep_before_svm = classification_report(y_test, y_pred_before_svm)\n",
        "conf_matrix_before_svm = confusion_matrix(y_test, y_pred_before_svm)\n",
        "\n",
        "print(\"Before Handling Imbalanced Classes with SVM:\")\n",
        "print(f\"Accuracy: {accuracy_before_svm}\")\n",
        "print(\"Classification Report:\\n\", classification_rep_before_svm)\n",
        "print(\"Confusion Matrix:\\n\", conf_matrix_before_svm)\n",
        "\n",
        "# Apply RandomUnderSampler to handle imbalanced classes\n",
        "sampler = RandomUnderSampler(random_state=20)\n",
        "X_resampled_svm, y_resampled_svm = sampler.fit_resample(X_train_scaled, y_train)\n",
        "\n",
        "# Train SVM after handling imbalanced classes\n",
        "svm_model_after = SVC(kernel='linear', random_state=20)\n",
        "svm_model_after.fit(X_resampled_svm, y_resampled_svm)\n",
        "y_pred_after_svm = svm_model_after.predict(X_test_scaled)\n",
        "\n",
        "# Evaluate the SVM model after handling\n",
        "accuracy_after_svm = accuracy_score(y_test, y_pred_after_svm)\n",
        "classification_rep_after_svm = classification_report(y_test, y_pred_after_svm)\n",
        "conf_matrix_after_svm = confusion_matrix(y_test, y_pred_after_svm)\n",
        "\n",
        "print(\"\\nAfter Handling Imbalanced Classes with SVM:\")\n",
        "print(f\"Accuracy: {accuracy_after_svm}\")\n",
        "print(\"Classification Report:\\n\", classification_rep_after_svm)\n",
        "print(\"Confusion Matrix:\\n\", conf_matrix_after_svm)\n"
      ]
    },
    {
      "cell_type": "code",
      "execution_count": 67,
      "metadata": {
        "colab": {
          "base_uri": "https://localhost:8080/",
          "height": 501
        },
        "id": "IoY8x7KN80Mx",
        "outputId": "5896be3d-7b5e-4177-ead9-e094ab1dbe70"
      },
      "outputs": [
        {
          "output_type": "display_data",
          "data": {
            "text/plain": [
              "<Figure size 800x500 with 1 Axes>"
            ],
            "image/png": "[encoded data removed]"
          },
          "metadata": {}
        }
      ],
      "source": [
        "import matplotlib.pyplot as plt\n",
        "import seaborn as sns\n",
        "\n",
        "# Assuming accuracy_before_svm and accuracy_after_svm are defined\n",
        "accuracy_before_svm = 0.85  # Replace with your actual value\n",
        "accuracy_after_svm = 0.92   # Replace with your actual value\n",
        "\n",
        "# Data for SVM\n",
        "accuracy_values_svm = [accuracy_before_svm, accuracy_after_svm]\n",
        "labels_svm = ['SVM Before', 'SVM After']\n",
        "\n",
        "# Create a bar plot to compare accuracy before and after handling imbalanced classes for the SVM model\n",
        "plt.figure(figsize=(8, 5))\n",
        "sns.barplot(x=labels_svm, y=accuracy_values_svm, palette='Set3')\n",
        "plt.title('Accuracy Before and After Handling Imbalanced Classes (SVM)')\n",
        "plt.ylabel('Accuracy')\n",
        "plt.xticks(rotation=45, ha='right')\n",
        "plt.tight_layout()\n",
        "plt.show()\n"
      ]
    },
    {
      "cell_type": "code",
      "execution_count": 68,
      "metadata": {
        "id": "762qPRRcdypD"
      },
      "outputs": [],
      "source": [
        "# Standardize Features\n",
        "scaler = StandardScaler()\n",
        "X_train_scaled = scaler.fit_transform(X_train)\n",
        "X_test_scaled = scaler.transform(X_test)"
      ]
    },
    {
      "cell_type": "markdown",
      "metadata": {
        "id": "4wGAh3W1n03k"
      },
      "source": [
        "# Build the Neural Network **Model**"
      ]
    },
    {
      "cell_type": "code",
      "execution_count": 69,
      "metadata": {
        "id": "B5RNI03knxAf"
      },
      "outputs": [],
      "source": [
        "# Build the Neural Network\n",
        "model = Sequential()"
      ]
    },
    {
      "cell_type": "code",
      "execution_count": 70,
      "metadata": {
        "id": "Vknba6kHnxDV"
      },
      "outputs": [],
      "source": [
        "# Input layer\n",
        "model.add(Dense(units=128, activation='relu', input_dim=X_train_scaled.shape[1]))"
      ]
    },
    {
      "cell_type": "code",
      "execution_count": 71,
      "metadata": {
        "id": "mV0qG_gEnxFZ"
      },
      "outputs": [],
      "source": [
        "# Hidden layers\n",
        "model.add(Dense(units=64, activation='relu'))\n",
        "model.add(Dense(units=32, activation='relu'))\n"
      ]
    },
    {
      "cell_type": "code",
      "execution_count": 72,
      "metadata": {
        "id": "COM4DFW-oEwg"
      },
      "outputs": [],
      "source": [
        "# Output layer\n",
        "model.add(Dense(units=1, activation='sigmoid'))"
      ]
    },
    {
      "cell_type": "markdown",
      "metadata": {
        "id": "w9zLM5uCoeLd"
      },
      "source": [
        "\n",
        "# The Adam optimizer is a popular optimization algorithm used in training neural networks"
      ]
    },
    {
      "cell_type": "code",
      "execution_count": 73,
      "metadata": {
        "id": "l6s8TtoRoEzg"
      },
      "outputs": [],
      "source": [
        "# Compile the model\n",
        "model.compile(optimizer='adam', loss='binary_crossentropy', metrics=['accuracy'])"
      ]
    },
    {
      "cell_type": "code",
      "execution_count": 74,
      "metadata": {
        "colab": {
          "base_uri": "https://localhost:8080/"
        },
        "id": "YSlvjZMQoE5G",
        "outputId": "abdab742-bcfd-4a16-9153-1a33a126c12e"
      },
      "outputs": [
        {
          "output_type": "stream",
          "name": "stdout",
          "text": [
            "Epoch 1/10\n",
            "986/986 [==============================] - 4s 3ms/step - loss: 0.2968 - accuracy: 0.8931 - val_loss: 0.3010 - val_accuracy: 0.8925\n",
            "Epoch 2/10\n",
            "986/986 [==============================] - 4s 4ms/step - loss: 0.2866 - accuracy: 0.8971 - val_loss: 0.2951 - val_accuracy: 0.8935\n",
            "Epoch 3/10\n",
            "986/986 [==============================] - 2s 3ms/step - loss: 0.2840 - accuracy: 0.8975 - val_loss: 0.2900 - val_accuracy: 0.8956\n",
            "Epoch 4/10\n",
            "986/986 [==============================] - 2s 2ms/step - loss: 0.2814 - accuracy: 0.8988 - val_loss: 0.2907 - val_accuracy: 0.8952\n",
            "Epoch 5/10\n",
            "986/986 [==============================] - 2s 2ms/step - loss: 0.2791 - accuracy: 0.8992 - val_loss: 0.2902 - val_accuracy: 0.8951\n",
            "Epoch 6/10\n",
            "986/986 [==============================] - 3s 3ms/step - loss: 0.2775 - accuracy: 0.8988 - val_loss: 0.2908 - val_accuracy: 0.8952\n",
            "Epoch 7/10\n",
            "986/986 [==============================] - 4s 4ms/step - loss: 0.2755 - accuracy: 0.8989 - val_loss: 0.2890 - val_accuracy: 0.8965\n",
            "Epoch 8/10\n",
            "986/986 [==============================] - 3s 3ms/step - loss: 0.2740 - accuracy: 0.9005 - val_loss: 0.2925 - val_accuracy: 0.8957\n",
            "Epoch 9/10\n",
            "986/986 [==============================] - 3s 3ms/step - loss: 0.2713 - accuracy: 0.8999 - val_loss: 0.2891 - val_accuracy: 0.8954\n",
            "Epoch 10/10\n",
            "986/986 [==============================] - 3s 3ms/step - loss: 0.2705 - accuracy: 0.9014 - val_loss: 0.2928 - val_accuracy: 0.8943\n"
          ]
        },
        {
          "output_type": "execute_result",
          "data": {
            "text/plain": [
              "<keras.src.callbacks.History at 0x7ec9cbeb7310>"
            ]
          },
          "metadata": {},
          "execution_count": 74
        }
      ],
      "source": [
        "# Train the Neural Network\n",
        "model.fit(X_train_scaled, y_train, epochs=10, batch_size=32, validation_data=(X_test_scaled, y_test))"
      ]
    },
    {
      "cell_type": "code",
      "execution_count": 75,
      "metadata": {
        "colab": {
          "base_uri": "https://localhost:8080/"
        },
        "id": "7lLkmtCTokpi",
        "outputId": "f8292915-6137-4894-f25b-26aecff3c64f"
      },
      "outputs": [
        {
          "output_type": "stream",
          "name": "stdout",
          "text": [
            "247/247 [==============================] - 0s 1ms/step\n",
            "Neural Network Accuracy: 0.8943027534576831\n",
            "Neural Network Classification Report:\n",
            "               precision    recall  f1-score   support\n",
            "\n",
            "           0       0.91      0.98      0.94      6963\n",
            "           1       0.62      0.24      0.34       918\n",
            "\n",
            "    accuracy                           0.89      7881\n",
            "   macro avg       0.76      0.61      0.64      7881\n",
            "weighted avg       0.87      0.89      0.87      7881\n",
            "\n",
            "Neural Network Confusion Matrix:\n",
            " [[6832  131]\n",
            " [ 702  216]]\n"
          ]
        }
      ],
      "source": [
        "# Evaluate the Model\n",
        "y_pred_prob = model.predict(X_test_scaled)\n",
        "y_pred_nn = (y_pred_prob > 0.5).astype(int).flatten()\n",
        "\n",
        "accuracy_nn = accuracy_score(y_test, y_pred_nn)\n",
        "classification_rep_nn = classification_report(y_test, y_pred_nn)\n",
        "conf_matrix_nn = confusion_matrix(y_test, y_pred_nn)\n",
        "\n",
        "print(f\"Neural Network Accuracy: {accuracy_nn}\")\n",
        "print(\"Neural Network Classification Report:\\n\", classification_rep_nn)\n",
        "print(\"Neural Network Confusion Matrix:\\n\", conf_matrix_nn)\n"
      ]
    },
    {
      "cell_type": "code",
      "execution_count": 76,
      "metadata": {
        "colab": {
          "base_uri": "https://localhost:8080/"
        },
        "id": "WswmPKQjxamL",
        "outputId": "5350a6ea-09e0-4e56-cc89-5782d512a3c5"
      },
      "outputs": [
        {
          "output_type": "stream",
          "name": "stdout",
          "text": [
            "Epoch 1/20\n",
            "493/493 [==============================] - 3s 4ms/step - loss: 0.2980 - accuracy: 0.8938 - val_loss: 0.2934 - val_accuracy: 0.8942\n",
            "Epoch 2/20\n",
            "493/493 [==============================] - 2s 3ms/step - loss: 0.2860 - accuracy: 0.8969 - val_loss: 0.2921 - val_accuracy: 0.8951\n",
            "Epoch 3/20\n",
            "493/493 [==============================] - 1s 3ms/step - loss: 0.2823 - accuracy: 0.8979 - val_loss: 0.2918 - val_accuracy: 0.8949\n",
            "Epoch 4/20\n",
            "493/493 [==============================] - 1s 3ms/step - loss: 0.2806 - accuracy: 0.8982 - val_loss: 0.2903 - val_accuracy: 0.8956\n",
            "Epoch 5/20\n",
            "493/493 [==============================] - 1s 3ms/step - loss: 0.2784 - accuracy: 0.8980 - val_loss: 0.2915 - val_accuracy: 0.8948\n",
            "Epoch 6/20\n",
            "493/493 [==============================] - 2s 3ms/step - loss: 0.2763 - accuracy: 0.8987 - val_loss: 0.2929 - val_accuracy: 0.8961\n",
            "Epoch 7/20\n",
            "493/493 [==============================] - 2s 4ms/step - loss: 0.2746 - accuracy: 0.8996 - val_loss: 0.2921 - val_accuracy: 0.8949\n",
            "Epoch 8/20\n",
            "493/493 [==============================] - 2s 4ms/step - loss: 0.2727 - accuracy: 0.8999 - val_loss: 0.2924 - val_accuracy: 0.8965\n",
            "Epoch 9/20\n",
            "493/493 [==============================] - 1s 3ms/step - loss: 0.2712 - accuracy: 0.9000 - val_loss: 0.2910 - val_accuracy: 0.8943\n",
            "Epoch 10/20\n",
            "493/493 [==============================] - 1s 3ms/step - loss: 0.2693 - accuracy: 0.9006 - val_loss: 0.2910 - val_accuracy: 0.8954\n",
            "Epoch 11/20\n",
            "493/493 [==============================] - 1s 3ms/step - loss: 0.2677 - accuracy: 0.9009 - val_loss: 0.2930 - val_accuracy: 0.8962\n",
            "Epoch 12/20\n",
            "493/493 [==============================] - 1s 3ms/step - loss: 0.2663 - accuracy: 0.9020 - val_loss: 0.2976 - val_accuracy: 0.8946\n",
            "Epoch 13/20\n",
            "493/493 [==============================] - 1s 3ms/step - loss: 0.2649 - accuracy: 0.9023 - val_loss: 0.2958 - val_accuracy: 0.8927\n",
            "Epoch 14/20\n",
            "493/493 [==============================] - 1s 3ms/step - loss: 0.2625 - accuracy: 0.9032 - val_loss: 0.2954 - val_accuracy: 0.8935\n",
            "Epoch 15/20\n",
            "493/493 [==============================] - 1s 3ms/step - loss: 0.2614 - accuracy: 0.9032 - val_loss: 0.3001 - val_accuracy: 0.8935\n",
            "Epoch 16/20\n",
            "493/493 [==============================] - 2s 5ms/step - loss: 0.2586 - accuracy: 0.9049 - val_loss: 0.2957 - val_accuracy: 0.8938\n",
            "Epoch 17/20\n",
            "493/493 [==============================] - 2s 4ms/step - loss: 0.2575 - accuracy: 0.9037 - val_loss: 0.2971 - val_accuracy: 0.8929\n",
            "Epoch 18/20\n",
            "493/493 [==============================] - 1s 3ms/step - loss: 0.2554 - accuracy: 0.9055 - val_loss: 0.3011 - val_accuracy: 0.8902\n",
            "Epoch 19/20\n",
            "493/493 [==============================] - 1s 3ms/step - loss: 0.2539 - accuracy: 0.9056 - val_loss: 0.3091 - val_accuracy: 0.8890\n",
            "Epoch 20/20\n",
            "493/493 [==============================] - 1s 3ms/step - loss: 0.2514 - accuracy: 0.9077 - val_loss: 0.3075 - val_accuracy: 0.8864\n",
            "247/247 [==============================] - 0s 2ms/step\n",
            "Before Handling Imbalanced Classes with Neural Network:\n",
            "Accuracy: 0.8864357315061541\n",
            "Classification Report:\n",
            "               precision    recall  f1-score   support\n",
            "\n",
            "           0       0.91      0.97      0.94      6963\n",
            "           1       0.53      0.26      0.35       918\n",
            "\n",
            "    accuracy                           0.89      7881\n",
            "   macro avg       0.72      0.61      0.64      7881\n",
            "weighted avg       0.86      0.89      0.87      7881\n",
            "\n",
            "Confusion Matrix:\n",
            " [[6748  215]\n",
            " [ 680  238]]\n",
            "Epoch 1/20\n",
            "115/115 [==============================] - 2s 6ms/step - loss: 0.5603 - accuracy: 0.7200 - val_loss: 0.5005 - val_accuracy: 0.8165\n",
            "Epoch 2/20\n",
            "115/115 [==============================] - 1s 5ms/step - loss: 0.5362 - accuracy: 0.7378 - val_loss: 0.5115 - val_accuracy: 0.8425\n",
            "Epoch 3/20\n",
            "115/115 [==============================] - 1s 5ms/step - loss: 0.5286 - accuracy: 0.7423 - val_loss: 0.5747 - val_accuracy: 0.7750\n",
            "Epoch 4/20\n",
            "115/115 [==============================] - 1s 5ms/step - loss: 0.5247 - accuracy: 0.7452 - val_loss: 0.4823 - val_accuracy: 0.8321\n",
            "Epoch 5/20\n",
            "115/115 [==============================] - 0s 4ms/step - loss: 0.5184 - accuracy: 0.7485 - val_loss: 0.5926 - val_accuracy: 0.7612\n",
            "Epoch 6/20\n",
            "115/115 [==============================] - 0s 4ms/step - loss: 0.5162 - accuracy: 0.7492 - val_loss: 0.5391 - val_accuracy: 0.8088\n",
            "Epoch 7/20\n",
            "115/115 [==============================] - 0s 4ms/step - loss: 0.5120 - accuracy: 0.7531 - val_loss: 0.4652 - val_accuracy: 0.8263\n",
            "Epoch 8/20\n",
            "115/115 [==============================] - 0s 4ms/step - loss: 0.5083 - accuracy: 0.7577 - val_loss: 0.5334 - val_accuracy: 0.7899\n",
            "Epoch 9/20\n",
            "115/115 [==============================] - 0s 4ms/step - loss: 0.5042 - accuracy: 0.7543 - val_loss: 0.5517 - val_accuracy: 0.7947\n",
            "Epoch 10/20\n",
            "115/115 [==============================] - 1s 5ms/step - loss: 0.5002 - accuracy: 0.7568 - val_loss: 0.5178 - val_accuracy: 0.8060\n",
            "Epoch 11/20\n",
            "115/115 [==============================] - 0s 4ms/step - loss: 0.4936 - accuracy: 0.7641 - val_loss: 0.6039 - val_accuracy: 0.7559\n",
            "Epoch 12/20\n",
            "115/115 [==============================] - 0s 4ms/step - loss: 0.4892 - accuracy: 0.7686 - val_loss: 0.5308 - val_accuracy: 0.8026\n",
            "Epoch 13/20\n",
            "115/115 [==============================] - 1s 5ms/step - loss: 0.4836 - accuracy: 0.7692 - val_loss: 0.5492 - val_accuracy: 0.8032\n",
            "Epoch 14/20\n",
            "115/115 [==============================] - 1s 7ms/step - loss: 0.4789 - accuracy: 0.7693 - val_loss: 0.5065 - val_accuracy: 0.8052\n",
            "Epoch 15/20\n",
            "115/115 [==============================] - 1s 7ms/step - loss: 0.4739 - accuracy: 0.7743 - val_loss: 0.6080 - val_accuracy: 0.7395\n",
            "Epoch 16/20\n",
            "115/115 [==============================] - 1s 6ms/step - loss: 0.4730 - accuracy: 0.7736 - val_loss: 0.5500 - val_accuracy: 0.7878\n",
            "Epoch 17/20\n",
            "115/115 [==============================] - 1s 7ms/step - loss: 0.4650 - accuracy: 0.7757 - val_loss: 0.5791 - val_accuracy: 0.7665\n",
            "Epoch 18/20\n",
            "115/115 [==============================] - 1s 7ms/step - loss: 0.4596 - accuracy: 0.7826 - val_loss: 0.5528 - val_accuracy: 0.7837\n",
            "Epoch 19/20\n",
            "115/115 [==============================] - 1s 4ms/step - loss: 0.4518 - accuracy: 0.7861 - val_loss: 0.4818 - val_accuracy: 0.8199\n",
            "Epoch 20/20\n",
            "115/115 [==============================] - 1s 5ms/step - loss: 0.4501 - accuracy: 0.7897 - val_loss: 0.6641 - val_accuracy: 0.7156\n",
            "247/247 [==============================] - 0s 2ms/step\n",
            "\n",
            "After Handling Imbalanced Classes with Neural Network:\n",
            "Accuracy: 0.7156452226874762\n",
            "Classification Report:\n",
            "               precision    recall  f1-score   support\n",
            "\n",
            "           0       0.95      0.72      0.82      6963\n",
            "           1       0.24      0.68      0.36       918\n",
            "\n",
            "    accuracy                           0.72      7881\n",
            "   macro avg       0.59      0.70      0.59      7881\n",
            "weighted avg       0.86      0.72      0.76      7881\n",
            "\n",
            "Confusion Matrix:\n",
            " [[5012 1951]\n",
            " [ 290  628]]\n"
          ]
        }
      ],
      "source": [
        "from keras.models import Sequential\n",
        "from keras.layers import Dense\n",
        "from sklearn.metrics import accuracy_score, classification_report, confusion_matrix\n",
        "from imblearn.under_sampling import RandomUnderSampler\n",
        "from sklearn.preprocessing import StandardScaler\n",
        "\n",
        "# Before handling imbalanced classes with Neural Network\n",
        "model_before = Sequential()\n",
        "model_before.add(Dense(units=128, activation='relu', input_dim=X_train_scaled.shape[1]))\n",
        "model_before.add(Dense(units=64, activation='relu'))\n",
        "model_before.add(Dense(units=32, activation='relu'))\n",
        "model_before.add(Dense(units=1, activation='sigmoid'))\n",
        "\n",
        "model_before.compile(optimizer='adam', loss='binary_crossentropy', metrics=['accuracy'])\n",
        "\n",
        "history_before = model_before.fit(X_train_scaled, y_train, epochs=20, batch_size=64, validation_data=(X_test_scaled, y_test))\n",
        "\n",
        "# Evaluate the Neural Network before handling\n",
        "y_pred_prob_before = model_before.predict(X_test_scaled)\n",
        "y_pred_nn_before = (y_pred_prob_before > 0.5).astype(int).flatten()\n",
        "\n",
        "accuracy_nn_before = accuracy_score(y_test, y_pred_nn_before)\n",
        "classification_rep_nn_before = classification_report(y_test, y_pred_nn_before)\n",
        "conf_matrix_nn_before = confusion_matrix(y_test, y_pred_nn_before)\n",
        "\n",
        "print(\"Before Handling Imbalanced Classes with Neural Network:\")\n",
        "print(f\"Accuracy: {accuracy_nn_before}\")\n",
        "print(\"Classification Report:\\n\", classification_rep_nn_before)\n",
        "print(\"Confusion Matrix:\\n\", conf_matrix_nn_before)\n",
        "\n",
        "# Apply RandomUnderSampler to handle imbalanced classes\n",
        "sampler = RandomUnderSampler(random_state=20)\n",
        "X_resampled_nn, y_resampled_nn = sampler.fit_resample(X_train_scaled, y_train)\n",
        "\n",
        "# Train Neural Network after handling imbalanced classes\n",
        "model_after = Sequential()\n",
        "model_after.add(Dense(units=128, activation='relu', input_dim=X_train_scaled.shape[1]))\n",
        "model_after.add(Dense(units=64, activation='relu'))\n",
        "model_after.add(Dense(units=32, activation='relu'))\n",
        "model_after.add(Dense(units=1, activation='sigmoid'))\n",
        "\n",
        "model_after.compile(optimizer='adam', loss='binary_crossentropy', metrics=['accuracy'])\n",
        "\n",
        "history_after = model_after.fit(X_resampled_nn, y_resampled_nn, epochs=20, batch_size=64, validation_data=(X_test_scaled, y_test))\n",
        "\n",
        "# Evaluate the Neural Network after handling\n",
        "y_pred_prob_after = model_after.predict(X_test_scaled)\n",
        "y_pred_nn_after = (y_pred_prob_after > 0.5).astype(int).flatten()\n",
        "\n",
        "accuracy_nn_after = accuracy_score(y_test, y_pred_nn_after)\n",
        "classification_rep_nn_after = classification_report(y_test, y_pred_nn_after)\n",
        "conf_matrix_nn_after = confusion_matrix(y_test, y_pred_nn_after)\n",
        "\n",
        "print(\"\\nAfter Handling Imbalanced Classes with Neural Network:\")\n",
        "print(f\"Accuracy: {accuracy_nn_after}\")\n",
        "print(\"Classification Report:\\n\", classification_rep_nn_after)\n",
        "print(\"Confusion Matrix:\\n\", conf_matrix_nn_after)\n"
      ]
    },
    {
      "cell_type": "code",
      "execution_count": 77,
      "metadata": {
        "colab": {
          "base_uri": "https://localhost:8080/"
        },
        "id": "clwcdByzG9XH",
        "outputId": "6d8d5c70-26e1-4237-cfe8-dfb7df99967f"
      },
      "outputs": [
        {
          "output_type": "stream",
          "name": "stdout",
          "text": [
            "Epoch 1/200\n",
            "493/493 [==============================] - 4s 5ms/step - loss: 0.3018 - accuracy: 0.8898 - val_loss: 0.2950 - val_accuracy: 0.8942\n",
            "Epoch 2/200\n",
            "493/493 [==============================] - 1s 3ms/step - loss: 0.2861 - accuracy: 0.8974 - val_loss: 0.2921 - val_accuracy: 0.8953\n",
            "Epoch 3/200\n",
            "493/493 [==============================] - 1s 3ms/step - loss: 0.2840 - accuracy: 0.8974 - val_loss: 0.2902 - val_accuracy: 0.8962\n",
            "Epoch 4/200\n",
            "493/493 [==============================] - 1s 3ms/step - loss: 0.2809 - accuracy: 0.8985 - val_loss: 0.2908 - val_accuracy: 0.8952\n",
            "Epoch 5/200\n",
            "493/493 [==============================] - 2s 3ms/step - loss: 0.2787 - accuracy: 0.8981 - val_loss: 0.2911 - val_accuracy: 0.8953\n",
            "Epoch 6/200\n",
            "493/493 [==============================] - 1s 3ms/step - loss: 0.2769 - accuracy: 0.8987 - val_loss: 0.2912 - val_accuracy: 0.8932\n",
            "247/247 [==============================] - 0s 2ms/step\n",
            "Before Handling Imbalanced Classes with Neural Network:\n",
            "Accuracy: 0.8962060652201497\n",
            "Classification Report:\n",
            "               precision    recall  f1-score   support\n",
            "\n",
            "           0       0.91      0.98      0.94      6963\n",
            "           1       0.66      0.22      0.33       918\n",
            "\n",
            "    accuracy                           0.90      7881\n",
            "   macro avg       0.78      0.60      0.64      7881\n",
            "weighted avg       0.88      0.90      0.87      7881\n",
            "\n",
            "Confusion Matrix:\n",
            " [[6857  106]\n",
            " [ 712  206]]\n",
            "Epoch 1/20\n",
            "115/115 [==============================] - 1s 6ms/step - loss: 0.5604 - accuracy: 0.7217 - val_loss: 0.5901 - val_accuracy: 0.7845\n",
            "Epoch 2/20\n",
            "115/115 [==============================] - 1s 5ms/step - loss: 0.5365 - accuracy: 0.7393 - val_loss: 0.5284 - val_accuracy: 0.8189\n",
            "Epoch 3/20\n",
            "115/115 [==============================] - 1s 7ms/step - loss: 0.5297 - accuracy: 0.7429 - val_loss: 0.5068 - val_accuracy: 0.8182\n",
            "Epoch 4/20\n",
            "115/115 [==============================] - 1s 7ms/step - loss: 0.5246 - accuracy: 0.7454 - val_loss: 0.5510 - val_accuracy: 0.8026\n",
            "Epoch 5/20\n",
            "115/115 [==============================] - 1s 6ms/step - loss: 0.5173 - accuracy: 0.7469 - val_loss: 0.5362 - val_accuracy: 0.8002\n",
            "Epoch 6/20\n",
            "115/115 [==============================] - 1s 6ms/step - loss: 0.5133 - accuracy: 0.7499 - val_loss: 0.5395 - val_accuracy: 0.8099\n",
            "247/247 [==============================] - 0s 1ms/step\n",
            "\n",
            "After Handling Imbalanced Classes with Neural Network:\n",
            "Accuracy: 0.8181702829590154\n",
            "Classification Report:\n",
            "               precision    recall  f1-score   support\n",
            "\n",
            "           0       0.94      0.85      0.89      6963\n",
            "           1       0.34      0.60      0.44       918\n",
            "\n",
            "    accuracy                           0.82      7881\n",
            "   macro avg       0.64      0.73      0.66      7881\n",
            "weighted avg       0.87      0.82      0.84      7881\n",
            "\n",
            "Confusion Matrix:\n",
            " [[5893 1070]\n",
            " [ 363  555]]\n"
          ]
        }
      ],
      "source": [
        "from keras.callbacks import EarlyStopping\n",
        "\n",
        "\n",
        "# Before handling imbalanced classes with Neural Network\n",
        "model_before = Sequential()\n",
        "model_before.add(Dense(units=128, activation='relu', input_dim=X_train_scaled.shape[1]))\n",
        "model_before.add(Dense(units=64, activation='relu'))\n",
        "model_before.add(Dense(units=32, activation='relu'))\n",
        "model_before.add(Dense(units=1, activation='sigmoid'))\n",
        "\n",
        "model_before.compile(optimizer='adam', loss='binary_crossentropy', metrics=['accuracy'])\n",
        "\n",
        "# Add EarlyStopping callback\n",
        "early_stopping = EarlyStopping(monitor='val_loss', patience=3, restore_best_weights=True)\n",
        "\n",
        "history_before = model_before.fit(X_train_scaled, y_train, epochs=200, batch_size=64,\n",
        "                                  validation_data=(X_test_scaled, y_test),\n",
        "                                  callbacks=[early_stopping])\n",
        "\n",
        "# Evaluate the Neural Network before handling\n",
        "y_pred_prob_before = model_before.predict(X_test_scaled)\n",
        "y_pred_nn_before = (y_pred_prob_before > 0.5).astype(int).flatten()\n",
        "\n",
        "accuracy_nn_before = accuracy_score(y_test, y_pred_nn_before)\n",
        "classification_rep_nn_before = classification_report(y_test, y_pred_nn_before)\n",
        "conf_matrix_nn_before = confusion_matrix(y_test, y_pred_nn_before)\n",
        "\n",
        "print(\"Before Handling Imbalanced Classes with Neural Network:\")\n",
        "print(f\"Accuracy: {accuracy_nn_before}\")\n",
        "print(\"Classification Report:\\n\", classification_rep_nn_before)\n",
        "print(\"Confusion Matrix:\\n\", conf_matrix_nn_before)\n",
        "\n",
        "# Apply RandomUnderSampler to handle imbalanced classes\n",
        "sampler = RandomUnderSampler(random_state=20)\n",
        "X_resampled_nn, y_resampled_nn = sampler.fit_resample(X_train_scaled, y_train)\n",
        "\n",
        "# Train Neural Network after handling imbalanced classes\n",
        "model_after = Sequential()\n",
        "model_after.add(Dense(units=128, activation='relu', input_dim=X_train_scaled.shape[1]))\n",
        "model_after.add(Dense(units=64, activation='relu'))\n",
        "model_after.add(Dense(units=32, activation='relu'))\n",
        "model_after.add(Dense(units=1, activation='sigmoid'))\n",
        "\n",
        "model_after.compile(optimizer='adam', loss='binary_crossentropy', metrics=['accuracy'])\n",
        "\n",
        "# Add EarlyStopping callback\n",
        "history_after = model_after.fit(X_resampled_nn, y_resampled_nn, epochs=20, batch_size=64,\n",
        "                                validation_data=(X_test_scaled, y_test),\n",
        "                                callbacks=[early_stopping])\n",
        "\n",
        "# Evaluate the Neural Network after handling\n",
        "y_pred_prob_after = model_after.predict(X_test_scaled)\n",
        "y_pred_nn_after = (y_pred_prob_after > 0.5).astype(int).flatten()\n",
        "\n",
        "accuracy_nn_after = accuracy_score(y_test, y_pred_nn_after)\n",
        "classification_rep_nn_after = classification_report(y_test, y_pred_nn_after)\n",
        "conf_matrix_nn_after = confusion_matrix(y_test, y_pred_nn_after)\n",
        "\n",
        "print(\"\\nAfter Handling Imbalanced Classes with Neural Network:\")\n",
        "print(f\"Accuracy: {accuracy_nn_after}\")\n",
        "print(\"Classification Report:\\n\", classification_rep_nn_after)\n",
        "print(\"Confusion Matrix:\\n\", conf_matrix_nn_after)\n"
      ]
    },
    {
      "cell_type": "code",
      "execution_count": 78,
      "metadata": {
        "colab": {
          "base_uri": "https://localhost:8080/",
          "height": 573
        },
        "id": "ZrGpZTV09FuV",
        "outputId": "715e9e0d-05e1-4a2b-9acd-42ede1838ed1"
      },
      "outputs": [
        {
          "output_type": "display_data",
          "data": {
            "text/plain": [
              "<Figure size 1000x600 with 1 Axes>"
            ],
            "image/png": "[encoded data removed]"
          },
          "metadata": {}
        }
      ],
      "source": [
        "import matplotlib.pyplot as plt\n",
        "\n",
        "# Extract loss values from the training history\n",
        "loss_before = history_before.history['loss']\n",
        "val_loss_before = history_before.history['val_loss']\n",
        "\n",
        "loss_after = history_after.history['loss']\n",
        "val_loss_after = history_after.history['val_loss']\n",
        "\n",
        "# Plot the training and validation loss over epochs\n",
        "plt.figure(figsize=(10, 6))\n",
        "plt.plot(loss_before, label='Training Loss (Before)')\n",
        "plt.plot(val_loss_before, label='Validation Loss (Before)')\n",
        "plt.plot(loss_after, label='Training Loss (After)')\n",
        "plt.plot(val_loss_after, label='Validation Loss (After)')\n",
        "\n",
        "plt.title('Training and Validation Loss Over Epochs')\n",
        "plt.xlabel('Epochs')\n",
        "plt.ylabel('Loss')\n",
        "plt.legend()\n",
        "plt.show()\n"
      ]
    },
    {
      "cell_type": "code",
      "execution_count": 79,
      "metadata": {
        "colab": {
          "base_uri": "https://localhost:8080/",
          "height": 573
        },
        "id": "Sbw5pm9ZzFpS",
        "outputId": "a09af79c-1144-4080-ff53-1a92baf9a3c1"
      },
      "outputs": [
        {
          "output_type": "display_data",
          "data": {
            "text/plain": [
              "<Figure size 800x600 with 2 Axes>"
            ],
            "image/png": "[encoded data removed]"
          },
          "metadata": {}
        }
      ],
      "source": [
        "from sklearn.metrics import confusion_matrix\n",
        "import matplotlib.pyplot as plt\n",
        "import seaborn as sns\n",
        "\n",
        "# Function to plot confusion matrix\n",
        "def plot_confusion_matrix_custom(y_true, y_pred, classes, cmap='Blues'):\n",
        "    cm = confusion_matrix(y_true, y_pred)\n",
        "    plt.figure(figsize=(8, 6))\n",
        "    sns.heatmap(cm, annot=True, fmt='d', cmap=cmap, xticklabels=classes, yticklabels=classes)\n",
        "    plt.title('Confusion Matrix')\n",
        "    plt.xlabel('Predicted')\n",
        "    plt.ylabel('True')\n",
        "    plt.show()\n",
        "\n",
        "# Usage example for Random Forest\n",
        "plot_confusion_matrix_custom(y_test, y_pred, classes=['Not Subscribed', 'Subscribed'])\n"
      ]
    },
    {
      "cell_type": "code",
      "execution_count": 80,
      "metadata": {
        "colab": {
          "base_uri": "https://localhost:8080/",
          "height": 1000
        },
        "id": "8OJ4ikELlCSx",
        "outputId": "0ed2ab6f-1207-4350-c404-b91e50ef65f0"
      },
      "outputs": [
        {
          "output_type": "display_data",
          "data": {
            "text/plain": [
              "<Figure size 1000x600 with 1 Axes>"
            ],
            "image/png": "[encoded data removed]"
          },
          "metadata": {}
        },
        {
          "output_type": "stream",
          "name": "stdout",
          "text": [
            "Model: Random Forest\n",
            "\n",
            "              precision    recall  f1-score   support\n",
            "\n",
            "           0       0.90      0.98      0.94      6963\n",
            "           1       0.64      0.21      0.32       918\n",
            "\n",
            "    accuracy                           0.89      7881\n",
            "   macro avg       0.77      0.60      0.63      7881\n",
            "weighted avg       0.87      0.89      0.87      7881\n",
            "\n",
            "----------------------------------------------\n",
            "Model: SVM\n",
            "\n",
            "              precision    recall  f1-score   support\n",
            "\n",
            "           0       0.90      0.98      0.94      6963\n",
            "           1       0.60      0.19      0.29       918\n",
            "\n",
            "    accuracy                           0.89      7881\n",
            "   macro avg       0.75      0.59      0.62      7881\n",
            "weighted avg       0.87      0.89      0.87      7881\n",
            "\n",
            "----------------------------------------------\n",
            "Model: Neural Network\n",
            "\n",
            "              precision    recall  f1-score   support\n",
            "\n",
            "           0       0.91      0.98      0.94      6963\n",
            "           1       0.62      0.24      0.34       918\n",
            "\n",
            "    accuracy                           0.89      7881\n",
            "   macro avg       0.76      0.61      0.64      7881\n",
            "weighted avg       0.87      0.89      0.87      7881\n",
            "\n",
            "----------------------------------------------\n",
            "Model: Logistic Regression\n",
            "\n",
            "              precision    recall  f1-score   support\n",
            "\n",
            "           0       0.94      0.82      0.88      6963\n",
            "           1       0.32      0.63      0.42       918\n",
            "\n",
            "    accuracy                           0.80      7881\n",
            "   macro avg       0.63      0.72      0.65      7881\n",
            "weighted avg       0.87      0.80      0.82      7881\n",
            "\n",
            "----------------------------------------------\n",
            "Model: Random Forest\n",
            "\n",
            "[[6855  108]\n",
            " [ 726  192]]\n",
            "----------------------------------------------\n",
            "Model: SVM\n",
            "\n",
            "[[6846  117]\n",
            " [ 740  178]]\n",
            "----------------------------------------------\n",
            "Model: Neural Network\n",
            "\n",
            "[[6832  131]\n",
            " [ 702  216]]\n",
            "----------------------------------------------\n",
            "Model: Logistic Regression\n",
            "\n",
            "[[5716 1247]\n",
            " [ 344  574]]\n",
            "----------------------------------------------\n"
          ]
        }
      ],
      "source": [
        "import matplotlib.pyplot as plt\n",
        "\n",
        "# List of models and their corresponding accuracy scores\n",
        "models = ['Random Forest', 'SVM', 'Neural Network', 'Logistic Regression']\n",
        "accuracy_scores = [accuracy, accuracy_svm, accuracy_nn, accuracy_after_lr]\n",
        "\n",
        "# Create a bar plot for accuracy comparison\n",
        "plt.figure(figsize=(10, 6))\n",
        "plt.bar(models, accuracy_scores, color=['blue', 'green', 'orange', 'purple'])\n",
        "plt.xlabel('Models')\n",
        "plt.ylabel('Accuracy')\n",
        "plt.title('Model Accuracy Comparison Before Handling Imbalanced Classes')\n",
        "plt.show()\n",
        "\n",
        "# Visualize classification report comparison\n",
        "classification_reports = [classification_rep, classification_rep_svm, classification_rep_nn, classification_rep_after_lr]\n",
        "\n",
        "for model, report in zip(models, classification_reports):\n",
        "    print(f\"Model: {model}\\n\")\n",
        "    print(report)\n",
        "    print(\"----------------------------------------------\")\n",
        "\n",
        "# Confusion matrix comparison\n",
        "confusion_matrices = [conf_matrix, conf_matrix_svm, conf_matrix_nn, conf_matrix_after_lr]\n",
        "\n",
        "for model, matrix in zip(models, confusion_matrices):\n",
        "    print(f\"Model: {model}\\n\")\n",
        "    print(matrix)\n",
        "    print(\"----------------------------------------------\")\n"
      ]
    },
    {
      "cell_type": "code",
      "execution_count": 81,
      "metadata": {
        "colab": {
          "base_uri": "https://localhost:8080/",
          "height": 573
        },
        "id": "HaAk31pWVo6m",
        "outputId": "e052c4a9-b65d-44b9-b2c8-648b7d60961f"
      },
      "outputs": [
        {
          "output_type": "display_data",
          "data": {
            "text/plain": [
              "<Figure size 1000x600 with 1 Axes>"
            ],
            "image/png": "[encoded data removed]"
          },
          "metadata": {}
        }
      ],
      "source": [
        "import matplotlib.pyplot as plt\n",
        "\n",
        "# List of models and their corresponding accuracy scores\n",
        "models = ['Random Forest', 'SVM', 'Logistic Regression', 'Neural Network']\n",
        "accuracy_scores = [accuracy_after, accuracy_after_svm, accuracy_after_lr, accuracy_nn_after]\n",
        "\n",
        "# Create a bar plot\n",
        "plt.figure(figsize=(10, 6))\n",
        "plt.bar(models, accuracy_scores, color=['blue', 'green', 'purple', 'orange'])\n",
        "plt.xlabel('Models')\n",
        "plt.ylabel('Accuracy')\n",
        "plt.title('Model Accuracy Comparison After Handling Imbalanced Classes')\n",
        "plt.ylim(0, 1)  # Set the y-axis range from 0 to 1 for accuracy values\n",
        "plt.show()\n"
      ]
    },
    {
      "cell_type": "code",
      "execution_count": 82,
      "metadata": {
        "colab": {
          "base_uri": "https://localhost:8080/",
          "height": 573
        },
        "id": "WGa1Iqt5tYS7",
        "outputId": "ac4e2daa-c075-44a2-b030-29b24617cda0"
      },
      "outputs": [
        {
          "output_type": "display_data",
          "data": {
            "text/plain": [
              "<Figure size 1000x600 with 1 Axes>"
            ],
            "image/png": "[encoded data removed]"
          },
          "metadata": {}
        }
      ],
      "source": [
        "import matplotlib.pyplot as plt\n",
        "\n",
        "# List of models and their corresponding accuracy scores\n",
        "models = ['Random Forest', 'SVM', 'Logistic Regression', 'Neural Network']\n",
        "accuracy_scores = [accuracy_after, accuracy_after_svm, accuracy_after_lr, accuracy_nn_after]\n",
        "\n",
        "# Convert accuracy scores to percentages\n",
        "accuracy_percentages = [score * 100 for score in accuracy_scores]\n",
        "\n",
        "# Create a bar plot\n",
        "plt.figure(figsize=(10, 6))\n",
        "bars = plt.bar(models, accuracy_percentages, color=['blue', 'green', 'purple', 'orange'])\n",
        "plt.xlabel('Models')\n",
        "plt.ylabel('Accuracy (%)')\n",
        "plt.title('Model Accuracy Comparison After Handling Imbalanced Classes')\n",
        "plt.ylim(0, 100)  # Set the y-axis range from 0 to 100 for percentage values\n",
        "\n",
        "# Add percentage labels on top of each bar\n",
        "for bar, percentage in zip(bars, accuracy_percentages):\n",
        "    plt.text(bar.get_x() + bar.get_width() / 2 - 0.15, bar.get_height() + 1,\n",
        "             f'{percentage:.2f}%', ha='center', va='bottom', color='black')\n",
        "\n",
        "plt.show()\n"
      ]
    }
  ],
  "metadata": {
    "colab": {
      "provenance": []
    },
    "kernelspec": {
      "display_name": "Python 3",
      "name": "python3"
    },
    "language_info": {
      "name": "python"
    }
  },
  "nbformat": 4,
  "nbformat_minor": 0
}