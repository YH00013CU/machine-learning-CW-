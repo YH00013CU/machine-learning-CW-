{
  "cells": [
    {
      "cell_type": "code",
      "execution_count": 4,
      "metadata": {
        "id": "fp7FKCVqK7BW"
      },
      "outputs": [],
      "source": [
        "import pandas as pd\n",
        "from sklearn.model_selection import train_test_split\n",
        "from sklearn.impute import SimpleImputer\n",
        "from sklearn.preprocessing import LabelEncoder\n",
        "from sklearn.ensemble import RandomForestClassifier\n",
        "from sklearn.metrics import accuracy_score, classification_report\n",
        "from sklearn.preprocessing import StandardScaler\n",
        "from sklearn.linear_model import LogisticRegression\n",
        "from sklearn.metrics import accuracy_score, classification_report, confusion_matrix\n",
        "from sklearn.svm import SVC\n",
        "from sklearn.preprocessing import StandardScaler, LabelEncoder\n",
        "from sklearn.metrics import accuracy_score, classification_report, confusion_matrix\n",
        "from tensorflow.keras.models import Sequential\n",
        "from tensorflow.keras.layers import Dense"
      ]
    },
    {
      "cell_type": "code",
      "execution_count": 5,
      "metadata": {
        "id": "TRymQRHkKpJU"
      },
      "outputs": [],
      "source": [
        "ds=pd.read_csv('bank-direct-marketing-campaigns.csv')"
      ]
    },
    {
      "cell_type": "code",
      "source": [
        "ds"
      ],
      "metadata": {
        "colab": {
          "base_uri": "https://localhost:8080/",
          "height": 444
        },
        "id": "ayzfrN6oG6ku",
        "outputId": "bb781ef8-6765-4c9a-abd8-587fa4d72ccd"
      },
      "execution_count": 6,
      "outputs": [
        {
          "output_type": "execute_result",
          "data": {
            "text/plain": [
              "       age          job  marital            education  default housing loan  \\\n",
              "0       56    housemaid  married             basic.4y       no      no   no   \n",
              "1       57     services  married          high.school  unknown      no   no   \n",
              "2       37     services  married          high.school       no     yes   no   \n",
              "3       40       admin.  married             basic.6y       no      no   no   \n",
              "4       56     services  married          high.school       no      no  yes   \n",
              "...    ...          ...      ...                  ...      ...     ...  ...   \n",
              "41183   73      retired  married  professional.course       no     yes   no   \n",
              "41184   46  blue-collar  married  professional.course       no      no   no   \n",
              "41185   56      retired  married    university.degree       no     yes   no   \n",
              "41186   44   technician  married  professional.course       no      no   no   \n",
              "41187   74      retired  married  professional.course       no     yes   no   \n",
              "\n",
              "         contact month day_of_week  campaign  pdays  previous     poutcome  \\\n",
              "0      telephone   may         mon         1    999         0  nonexistent   \n",
              "1      telephone   may         mon         1    999         0  nonexistent   \n",
              "2      telephone   may         mon         1    999         0  nonexistent   \n",
              "3      telephone   may         mon         1    999         0  nonexistent   \n",
              "4      telephone   may         mon         1    999         0  nonexistent   \n",
              "...          ...   ...         ...       ...    ...       ...          ...   \n",
              "41183   cellular   nov         fri         1    999         0  nonexistent   \n",
              "41184   cellular   nov         fri         1    999         0  nonexistent   \n",
              "41185   cellular   nov         fri         2    999         0  nonexistent   \n",
              "41186   cellular   nov         fri         1    999         0  nonexistent   \n",
              "41187   cellular   nov         fri         3    999         1      failure   \n",
              "\n",
              "       emp.var.rate  cons.price.idx  cons.conf.idx  euribor3m  nr.employed  \\\n",
              "0               1.1          93.994          -36.4      4.857       5191.0   \n",
              "1               1.1          93.994          -36.4      4.857       5191.0   \n",
              "2               1.1          93.994          -36.4      4.857       5191.0   \n",
              "3               1.1          93.994          -36.4      4.857       5191.0   \n",
              "4               1.1          93.994          -36.4      4.857       5191.0   \n",
              "...             ...             ...            ...        ...          ...   \n",
              "41183          -1.1          94.767          -50.8      1.028       4963.6   \n",
              "41184          -1.1          94.767          -50.8      1.028       4963.6   \n",
              "41185          -1.1          94.767          -50.8      1.028       4963.6   \n",
              "41186          -1.1          94.767          -50.8      1.028       4963.6   \n",
              "41187          -1.1          94.767          -50.8      1.028       4963.6   \n",
              "\n",
              "         y  \n",
              "0       no  \n",
              "1       no  \n",
              "2       no  \n",
              "3       no  \n",
              "4       no  \n",
              "...    ...  \n",
              "41183  yes  \n",
              "41184   no  \n",
              "41185   no  \n",
              "41186  yes  \n",
              "41187   no  \n",
              "\n",
              "[41188 rows x 20 columns]"
            ],
            "text/html": [
              "\n",
              "  <div id=\"df-82ecc349-117d-4c55-8d53-6e1759aa6222\" class=\"colab-df-container\">\n",
              "    <div>\n",
              "<style scoped>\n",
              "    .dataframe tbody tr th:only-of-type {\n",
              "        vertical-align: middle;\n",
              "    }\n",
              "\n",
              "    .dataframe tbody tr th {\n",
              "        vertical-align: top;\n",
              "    }\n",
              "\n",
              "    .dataframe thead th {\n",
              "        text-align: right;\n",
              "    }\n",
              "</style>\n",
              "<table border=\"1\" class=\"dataframe\">\n",
              "  <thead>\n",
              "    <tr style=\"text-align: right;\">\n",
              "      <th></th>\n",
              "      <th>age</th>\n",
              "      <th>job</th>\n",
              "      <th>marital</th>\n",
              "      <th>education</th>\n",
              "      <th>default</th>\n",
              "      <th>housing</th>\n",
              "      <th>loan</th>\n",
              "      <th>contact</th>\n",
              "      <th>month</th>\n",
              "      <th>day_of_week</th>\n",
              "      <th>campaign</th>\n",
              "      <th>pdays</th>\n",
              "      <th>previous</th>\n",
              "      <th>poutcome</th>\n",
              "      <th>emp.var.rate</th>\n",
              "      <th>cons.price.idx</th>\n",
              "      <th>cons.conf.idx</th>\n",
              "      <th>euribor3m</th>\n",
              "      <th>nr.employed</th>\n",
              "      <th>y</th>\n",
              "    </tr>\n",
              "  </thead>\n",
              "  <tbody>\n",
              "    <tr>\n",
              "      <th>0</th>\n",
              "      <td>56</td>\n",
              "      <td>housemaid</td>\n",
              "      <td>married</td>\n",
              "      <td>basic.4y</td>\n",
              "      <td>no</td>\n",
              "      <td>no</td>\n",
              "      <td>no</td>\n",
              "      <td>telephone</td>\n",
              "      <td>may</td>\n",
              "      <td>mon</td>\n",
              "      <td>1</td>\n",
              "      <td>999</td>\n",
              "      <td>0</td>\n",
              "      <td>nonexistent</td>\n",
              "      <td>1.1</td>\n",
              "      <td>93.994</td>\n",
              "      <td>-36.4</td>\n",
              "      <td>4.857</td>\n",
              "      <td>5191.0</td>\n",
              "      <td>no</td>\n",
              "    </tr>\n",
              "    <tr>\n",
              "      <th>1</th>\n",
              "      <td>57</td>\n",
              "      <td>services</td>\n",
              "      <td>married</td>\n",
              "      <td>high.school</td>\n",
              "      <td>unknown</td>\n",
              "      <td>no</td>\n",
              "      <td>no</td>\n",
              "      <td>telephone</td>\n",
              "      <td>may</td>\n",
              "      <td>mon</td>\n",
              "      <td>1</td>\n",
              "      <td>999</td>\n",
              "      <td>0</td>\n",
              "      <td>nonexistent</td>\n",
              "      <td>1.1</td>\n",
              "      <td>93.994</td>\n",
              "      <td>-36.4</td>\n",
              "      <td>4.857</td>\n",
              "      <td>5191.0</td>\n",
              "      <td>no</td>\n",
              "    </tr>\n",
              "    <tr>\n",
              "      <th>2</th>\n",
              "      <td>37</td>\n",
              "      <td>services</td>\n",
              "      <td>married</td>\n",
              "      <td>high.school</td>\n",
              "      <td>no</td>\n",
              "      <td>yes</td>\n",
              "      <td>no</td>\n",
              "      <td>telephone</td>\n",
              "      <td>may</td>\n",
              "      <td>mon</td>\n",
              "      <td>1</td>\n",
              "      <td>999</td>\n",
              "      <td>0</td>\n",
              "      <td>nonexistent</td>\n",
              "      <td>1.1</td>\n",
              "      <td>93.994</td>\n",
              "      <td>-36.4</td>\n",
              "      <td>4.857</td>\n",
              "      <td>5191.0</td>\n",
              "      <td>no</td>\n",
              "    </tr>\n",
              "    <tr>\n",
              "      <th>3</th>\n",
              "      <td>40</td>\n",
              "      <td>admin.</td>\n",
              "      <td>married</td>\n",
              "      <td>basic.6y</td>\n",
              "      <td>no</td>\n",
              "      <td>no</td>\n",
              "      <td>no</td>\n",
              "      <td>telephone</td>\n",
              "      <td>may</td>\n",
              "      <td>mon</td>\n",
              "      <td>1</td>\n",
              "      <td>999</td>\n",
              "      <td>0</td>\n",
              "      <td>nonexistent</td>\n",
              "      <td>1.1</td>\n",
              "      <td>93.994</td>\n",
              "      <td>-36.4</td>\n",
              "      <td>4.857</td>\n",
              "      <td>5191.0</td>\n",
              "      <td>no</td>\n",
              "    </tr>\n",
              "    <tr>\n",
              "      <th>4</th>\n",
              "      <td>56</td>\n",
              "      <td>services</td>\n",
              "      <td>married</td>\n",
              "      <td>high.school</td>\n",
              "      <td>no</td>\n",
              "      <td>no</td>\n",
              "      <td>yes</td>\n",
              "      <td>telephone</td>\n",
              "      <td>may</td>\n",
              "      <td>mon</td>\n",
              "      <td>1</td>\n",
              "      <td>999</td>\n",
              "      <td>0</td>\n",
              "      <td>nonexistent</td>\n",
              "      <td>1.1</td>\n",
              "      <td>93.994</td>\n",
              "      <td>-36.4</td>\n",
              "      <td>4.857</td>\n",
              "      <td>5191.0</td>\n",
              "      <td>no</td>\n",
              "    </tr>\n",
              "    <tr>\n",
              "      <th>...</th>\n",
              "      <td>...</td>\n",
              "      <td>...</td>\n",
              "      <td>...</td>\n",
              "      <td>...</td>\n",
              "      <td>...</td>\n",
              "      <td>...</td>\n",
              "      <td>...</td>\n",
              "      <td>...</td>\n",
              "      <td>...</td>\n",
              "      <td>...</td>\n",
              "      <td>...</td>\n",
              "      <td>...</td>\n",
              "      <td>...</td>\n",
              "      <td>...</td>\n",
              "      <td>...</td>\n",
              "      <td>...</td>\n",
              "      <td>...</td>\n",
              "      <td>...</td>\n",
              "      <td>...</td>\n",
              "      <td>...</td>\n",
              "    </tr>\n",
              "    <tr>\n",
              "      <th>41183</th>\n",
              "      <td>73</td>\n",
              "      <td>retired</td>\n",
              "      <td>married</td>\n",
              "      <td>professional.course</td>\n",
              "      <td>no</td>\n",
              "      <td>yes</td>\n",
              "      <td>no</td>\n",
              "      <td>cellular</td>\n",
              "      <td>nov</td>\n",
              "      <td>fri</td>\n",
              "      <td>1</td>\n",
              "      <td>999</td>\n",
              "      <td>0</td>\n",
              "      <td>nonexistent</td>\n",
              "      <td>-1.1</td>\n",
              "      <td>94.767</td>\n",
              "      <td>-50.8</td>\n",
              "      <td>1.028</td>\n",
              "      <td>4963.6</td>\n",
              "      <td>yes</td>\n",
              "    </tr>\n",
              "    <tr>\n",
              "      <th>41184</th>\n",
              "      <td>46</td>\n",
              "      <td>blue-collar</td>\n",
              "      <td>married</td>\n",
              "      <td>professional.course</td>\n",
              "      <td>no</td>\n",
              "      <td>no</td>\n",
              "      <td>no</td>\n",
              "      <td>cellular</td>\n",
              "      <td>nov</td>\n",
              "      <td>fri</td>\n",
              "      <td>1</td>\n",
              "      <td>999</td>\n",
              "      <td>0</td>\n",
              "      <td>nonexistent</td>\n",
              "      <td>-1.1</td>\n",
              "      <td>94.767</td>\n",
              "      <td>-50.8</td>\n",
              "      <td>1.028</td>\n",
              "      <td>4963.6</td>\n",
              "      <td>no</td>\n",
              "    </tr>\n",
              "    <tr>\n",
              "      <th>41185</th>\n",
              "      <td>56</td>\n",
              "      <td>retired</td>\n",
              "      <td>married</td>\n",
              "      <td>university.degree</td>\n",
              "      <td>no</td>\n",
              "      <td>yes</td>\n",
              "      <td>no</td>\n",
              "      <td>cellular</td>\n",
              "      <td>nov</td>\n",
              "      <td>fri</td>\n",
              "      <td>2</td>\n",
              "      <td>999</td>\n",
              "      <td>0</td>\n",
              "      <td>nonexistent</td>\n",
              "      <td>-1.1</td>\n",
              "      <td>94.767</td>\n",
              "      <td>-50.8</td>\n",
              "      <td>1.028</td>\n",
              "      <td>4963.6</td>\n",
              "      <td>no</td>\n",
              "    </tr>\n",
              "    <tr>\n",
              "      <th>41186</th>\n",
              "      <td>44</td>\n",
              "      <td>technician</td>\n",
              "      <td>married</td>\n",
              "      <td>professional.course</td>\n",
              "      <td>no</td>\n",
              "      <td>no</td>\n",
              "      <td>no</td>\n",
              "      <td>cellular</td>\n",
              "      <td>nov</td>\n",
              "      <td>fri</td>\n",
              "      <td>1</td>\n",
              "      <td>999</td>\n",
              "      <td>0</td>\n",
              "      <td>nonexistent</td>\n",
              "      <td>-1.1</td>\n",
              "      <td>94.767</td>\n",
              "      <td>-50.8</td>\n",
              "      <td>1.028</td>\n",
              "      <td>4963.6</td>\n",
              "      <td>yes</td>\n",
              "    </tr>\n",
              "    <tr>\n",
              "      <th>41187</th>\n",
              "      <td>74</td>\n",
              "      <td>retired</td>\n",
              "      <td>married</td>\n",
              "      <td>professional.course</td>\n",
              "      <td>no</td>\n",
              "      <td>yes</td>\n",
              "      <td>no</td>\n",
              "      <td>cellular</td>\n",
              "      <td>nov</td>\n",
              "      <td>fri</td>\n",
              "      <td>3</td>\n",
              "      <td>999</td>\n",
              "      <td>1</td>\n",
              "      <td>failure</td>\n",
              "      <td>-1.1</td>\n",
              "      <td>94.767</td>\n",
              "      <td>-50.8</td>\n",
              "      <td>1.028</td>\n",
              "      <td>4963.6</td>\n",
              "      <td>no</td>\n",
              "    </tr>\n",
              "  </tbody>\n",
              "</table>\n",
              "<p>41188 rows × 20 columns</p>\n",
              "</div>\n",
              "    <div class=\"colab-df-buttons\">\n",
              "\n",
              "  <div class=\"colab-df-container\">\n",
              "    <button class=\"colab-df-convert\" onclick=\"convertToInteractive('df-82ecc349-117d-4c55-8d53-6e1759aa6222')\"\n",
              "            title=\"Convert this dataframe to an interactive table.\"\n",
              "            style=\"display:none;\">\n",
              "\n",
              "  <svg xmlns=\"http://www.w3.org/2000/svg\" height=\"24px\" viewBox=\"0 -960 960 960\">\n",
              "    <path d=\"M120-120v-720h720v720H120Zm60-500h600v-160H180v160Zm220 220h160v-160H400v160Zm0 220h160v-160H400v160ZM180-400h160v-160H180v160Zm440 0h160v-160H620v160ZM180-180h160v-160H180v160Zm440 0h160v-160H620v160Z\"/>\n",
              "  </svg>\n",
              "    </button>\n",
              "\n",
              "  <style>\n",
              "    .colab-df-container {\n",
              "      display:flex;\n",
              "      gap: 12px;\n",
              "    }\n",
              "\n",
              "    .colab-df-convert {\n",
              "      background-color: #E8F0FE;\n",
              "      border: none;\n",
              "      border-radius: 50%;\n",
              "      cursor: pointer;\n",
              "      display: none;\n",
              "      fill: #1967D2;\n",
              "      height: 32px;\n",
              "      padding: 0 0 0 0;\n",
              "      width: 32px;\n",
              "    }\n",
              "\n",
              "    .colab-df-convert:hover {\n",
              "      background-color: #E2EBFA;\n",
              "      box-shadow: 0px 1px 2px rgba(60, 64, 67, 0.3), 0px 1px 3px 1px rgba(60, 64, 67, 0.15);\n",
              "      fill: #174EA6;\n",
              "    }\n",
              "\n",
              "    .colab-df-buttons div {\n",
              "      margin-bottom: 4px;\n",
              "    }\n",
              "\n",
              "    [theme=dark] .colab-df-convert {\n",
              "      background-color: #3B4455;\n",
              "      fill: #D2E3FC;\n",
              "    }\n",
              "\n",
              "    [theme=dark] .colab-df-convert:hover {\n",
              "      background-color: #434B5C;\n",
              "      box-shadow: 0px 1px 3px 1px rgba(0, 0, 0, 0.15);\n",
              "      filter: drop-shadow(0px 1px 2px rgba(0, 0, 0, 0.3));\n",
              "      fill: #FFFFFF;\n",
              "    }\n",
              "  </style>\n",
              "\n",
              "    <script>\n",
              "      const buttonEl =\n",
              "        document.querySelector('#df-82ecc349-117d-4c55-8d53-6e1759aa6222 button.colab-df-convert');\n",
              "      buttonEl.style.display =\n",
              "        google.colab.kernel.accessAllowed ? 'block' : 'none';\n",
              "\n",
              "      async function convertToInteractive(key) {\n",
              "        const element = document.querySelector('#df-82ecc349-117d-4c55-8d53-6e1759aa6222');\n",
              "        const dataTable =\n",
              "          await google.colab.kernel.invokeFunction('convertToInteractive',\n",
              "                                                    [key], {});\n",
              "        if (!dataTable) return;\n",
              "\n",
              "        const docLinkHtml = 'Like what you see? Visit the ' +\n",
              "          '<a target=\"_blank\" href=https://colab.research.google.com/notebooks/data_table.ipynb>data table notebook</a>'\n",
              "          + ' to learn more about interactive tables.';\n",
              "        element.innerHTML = '';\n",
              "        dataTable['output_type'] = 'display_data';\n",
              "        await google.colab.output.renderOutput(dataTable, element);\n",
              "        const docLink = document.createElement('div');\n",
              "        docLink.innerHTML = docLinkHtml;\n",
              "        element.appendChild(docLink);\n",
              "      }\n",
              "    </script>\n",
              "  </div>\n",
              "\n",
              "\n",
              "<div id=\"df-6c396ec2-41f0-4d50-a80f-2f64d04043be\">\n",
              "  <button class=\"colab-df-quickchart\" onclick=\"quickchart('df-6c396ec2-41f0-4d50-a80f-2f64d04043be')\"\n",
              "            title=\"Suggest charts\"\n",
              "            style=\"display:none;\">\n",
              "\n",
              "<svg xmlns=\"http://www.w3.org/2000/svg\" height=\"24px\"viewBox=\"0 0 24 24\"\n",
              "     width=\"24px\">\n",
              "    <g>\n",
              "        <path d=\"M19 3H5c-1.1 0-2 .9-2 2v14c0 1.1.9 2 2 2h14c1.1 0 2-.9 2-2V5c0-1.1-.9-2-2-2zM9 17H7v-7h2v7zm4 0h-2V7h2v10zm4 0h-2v-4h2v4z\"/>\n",
              "    </g>\n",
              "</svg>\n",
              "  </button>\n",
              "\n",
              "<style>\n",
              "  .colab-df-quickchart {\n",
              "      --bg-color: #E8F0FE;\n",
              "      --fill-color: #1967D2;\n",
              "      --hover-bg-color: #E2EBFA;\n",
              "      --hover-fill-color: #174EA6;\n",
              "      --disabled-fill-color: #AAA;\n",
              "      --disabled-bg-color: #DDD;\n",
              "  }\n",
              "\n",
              "  [theme=dark] .colab-df-quickchart {\n",
              "      --bg-color: #3B4455;\n",
              "      --fill-color: #D2E3FC;\n",
              "      --hover-bg-color: #434B5C;\n",
              "      --hover-fill-color: #FFFFFF;\n",
              "      --disabled-bg-color: #3B4455;\n",
              "      --disabled-fill-color: #666;\n",
              "  }\n",
              "\n",
              "  .colab-df-quickchart {\n",
              "    background-color: var(--bg-color);\n",
              "    border: none;\n",
              "    border-radius: 50%;\n",
              "    cursor: pointer;\n",
              "    display: none;\n",
              "    fill: var(--fill-color);\n",
              "    height: 32px;\n",
              "    padding: 0;\n",
              "    width: 32px;\n",
              "  }\n",
              "\n",
              "  .colab-df-quickchart:hover {\n",
              "    background-color: var(--hover-bg-color);\n",
              "    box-shadow: 0 1px 2px rgba(60, 64, 67, 0.3), 0 1px 3px 1px rgba(60, 64, 67, 0.15);\n",
              "    fill: var(--button-hover-fill-color);\n",
              "  }\n",
              "\n",
              "  .colab-df-quickchart-complete:disabled,\n",
              "  .colab-df-quickchart-complete:disabled:hover {\n",
              "    background-color: var(--disabled-bg-color);\n",
              "    fill: var(--disabled-fill-color);\n",
              "    box-shadow: none;\n",
              "  }\n",
              "\n",
              "  .colab-df-spinner {\n",
              "    border: 2px solid var(--fill-color);\n",
              "    border-color: transparent;\n",
              "    border-bottom-color: var(--fill-color);\n",
              "    animation:\n",
              "      spin 1s steps(1) infinite;\n",
              "  }\n",
              "\n",
              "  @keyframes spin {\n",
              "    0% {\n",
              "      border-color: transparent;\n",
              "      border-bottom-color: var(--fill-color);\n",
              "      border-left-color: var(--fill-color);\n",
              "    }\n",
              "    20% {\n",
              "      border-color: transparent;\n",
              "      border-left-color: var(--fill-color);\n",
              "      border-top-color: var(--fill-color);\n",
              "    }\n",
              "    30% {\n",
              "      border-color: transparent;\n",
              "      border-left-color: var(--fill-color);\n",
              "      border-top-color: var(--fill-color);\n",
              "      border-right-color: var(--fill-color);\n",
              "    }\n",
              "    40% {\n",
              "      border-color: transparent;\n",
              "      border-right-color: var(--fill-color);\n",
              "      border-top-color: var(--fill-color);\n",
              "    }\n",
              "    60% {\n",
              "      border-color: transparent;\n",
              "      border-right-color: var(--fill-color);\n",
              "    }\n",
              "    80% {\n",
              "      border-color: transparent;\n",
              "      border-right-color: var(--fill-color);\n",
              "      border-bottom-color: var(--fill-color);\n",
              "    }\n",
              "    90% {\n",
              "      border-color: transparent;\n",
              "      border-bottom-color: var(--fill-color);\n",
              "    }\n",
              "  }\n",
              "</style>\n",
              "\n",
              "  <script>\n",
              "    async function quickchart(key) {\n",
              "      const quickchartButtonEl =\n",
              "        document.querySelector('#' + key + ' button');\n",
              "      quickchartButtonEl.disabled = true;  // To prevent multiple clicks.\n",
              "      quickchartButtonEl.classList.add('colab-df-spinner');\n",
              "      try {\n",
              "        const charts = await google.colab.kernel.invokeFunction(\n",
              "            'suggestCharts', [key], {});\n",
              "      } catch (error) {\n",
              "        console.error('Error during call to suggestCharts:', error);\n",
              "      }\n",
              "      quickchartButtonEl.classList.remove('colab-df-spinner');\n",
              "      quickchartButtonEl.classList.add('colab-df-quickchart-complete');\n",
              "    }\n",
              "    (() => {\n",
              "      let quickchartButtonEl =\n",
              "        document.querySelector('#df-6c396ec2-41f0-4d50-a80f-2f64d04043be button');\n",
              "      quickchartButtonEl.style.display =\n",
              "        google.colab.kernel.accessAllowed ? 'block' : 'none';\n",
              "    })();\n",
              "  </script>\n",
              "</div>\n",
              "    </div>\n",
              "  </div>\n"
            ]
          },
          "metadata": {},
          "execution_count": 6
        }
      ]
    },
    {
      "cell_type": "code",
      "execution_count": 7,
      "metadata": {
        "colab": {
          "base_uri": "https://localhost:8080/"
        },
        "id": "4jIBjS_wLeyB",
        "outputId": "8892c7f0-9910-4686-99e8-388f64067068"
      },
      "outputs": [
        {
          "output_type": "stream",
          "name": "stdout",
          "text": [
            "   age        job  marital    education  default housing loan    contact  \\\n",
            "0   56  housemaid  married     basic.4y       no      no   no  telephone   \n",
            "1   57   services  married  high.school  unknown      no   no  telephone   \n",
            "2   37   services  married  high.school       no     yes   no  telephone   \n",
            "3   40     admin.  married     basic.6y       no      no   no  telephone   \n",
            "4   56   services  married  high.school       no      no  yes  telephone   \n",
            "\n",
            "  month day_of_week  campaign  pdays  previous     poutcome  emp.var.rate  \\\n",
            "0   may         mon         1    999         0  nonexistent           1.1   \n",
            "1   may         mon         1    999         0  nonexistent           1.1   \n",
            "2   may         mon         1    999         0  nonexistent           1.1   \n",
            "3   may         mon         1    999         0  nonexistent           1.1   \n",
            "4   may         mon         1    999         0  nonexistent           1.1   \n",
            "\n",
            "   cons.price.idx  cons.conf.idx  euribor3m  nr.employed   y  \n",
            "0          93.994          -36.4      4.857       5191.0  no  \n",
            "1          93.994          -36.4      4.857       5191.0  no  \n",
            "2          93.994          -36.4      4.857       5191.0  no  \n",
            "3          93.994          -36.4      4.857       5191.0  no  \n",
            "4          93.994          -36.4      4.857       5191.0  no  \n"
          ]
        }
      ],
      "source": [
        "print(ds.head())"
      ]
    },
    {
      "cell_type": "code",
      "execution_count": 8,
      "metadata": {
        "colab": {
          "base_uri": "https://localhost:8080/"
        },
        "id": "fo5Kr2cFx5wD",
        "outputId": "1d2d07b6-f9d2-4486-f862-f1f8f827d5cf"
      },
      "outputs": [
        {
          "output_type": "execute_result",
          "data": {
            "text/plain": [
              "university.degree      12168\n",
              "high.school             9515\n",
              "basic.9y                6045\n",
              "professional.course     5243\n",
              "basic.4y                4176\n",
              "basic.6y                2292\n",
              "unknown                 1731\n",
              "illiterate                18\n",
              "Name: education, dtype: int64"
            ]
          },
          "metadata": {},
          "execution_count": 8
        }
      ],
      "source": [
        "ds['education'].value_counts()"
      ]
    },
    {
      "cell_type": "markdown",
      "source": [
        "# Data Processing"
      ],
      "metadata": {
        "id": "gzHcXwksHBgL"
      }
    },
    {
      "cell_type": "markdown",
      "metadata": {
        "id": "Jz7hssOgo5s8"
      },
      "source": [
        "# Check For Missing Values"
      ]
    },
    {
      "cell_type": "code",
      "execution_count": 9,
      "metadata": {
        "colab": {
          "base_uri": "https://localhost:8080/"
        },
        "id": "hYZTq0ZqLe0i",
        "outputId": "adc1ff32-7d67-42b5-daae-17ddacf1bd45"
      },
      "outputs": [
        {
          "output_type": "stream",
          "name": "stdout",
          "text": [
            "\n",
            "Missing Values:\n",
            "age               0\n",
            "job               0\n",
            "marital           0\n",
            "education         0\n",
            "default           0\n",
            "housing           0\n",
            "loan              0\n",
            "contact           0\n",
            "month             0\n",
            "day_of_week       0\n",
            "campaign          0\n",
            "pdays             0\n",
            "previous          0\n",
            "poutcome          0\n",
            "emp.var.rate      0\n",
            "cons.price.idx    0\n",
            "cons.conf.idx     0\n",
            "euribor3m         0\n",
            "nr.employed       0\n",
            "y                 0\n",
            "dtype: int64\n"
          ]
        }
      ],
      "source": [
        "# Check for missing values\n",
        "missing_values = ds.isnull().sum()\n",
        "print(\"\\nMissing Values:\")\n",
        "print(missing_values)"
      ]
    },
    {
      "cell_type": "code",
      "execution_count": 10,
      "metadata": {
        "colab": {
          "base_uri": "https://localhost:8080/"
        },
        "id": "g_2ioiOLxw8c",
        "outputId": "05258862-3da2-47d9-9a47-571ab2d58184"
      },
      "outputs": [
        {
          "output_type": "stream",
          "name": "stdout",
          "text": [
            "<class 'pandas.core.frame.DataFrame'>\n",
            "RangeIndex: 41188 entries, 0 to 41187\n",
            "Data columns (total 20 columns):\n",
            " #   Column          Non-Null Count  Dtype  \n",
            "---  ------          --------------  -----  \n",
            " 0   age             41188 non-null  int64  \n",
            " 1   job             41188 non-null  object \n",
            " 2   marital         41188 non-null  object \n",
            " 3   education       41188 non-null  object \n",
            " 4   default         41188 non-null  object \n",
            " 5   housing         41188 non-null  object \n",
            " 6   loan            41188 non-null  object \n",
            " 7   contact         41188 non-null  object \n",
            " 8   month           41188 non-null  object \n",
            " 9   day_of_week     41188 non-null  object \n",
            " 10  campaign        41188 non-null  int64  \n",
            " 11  pdays           41188 non-null  int64  \n",
            " 12  previous        41188 non-null  int64  \n",
            " 13  poutcome        41188 non-null  object \n",
            " 14  emp.var.rate    41188 non-null  float64\n",
            " 15  cons.price.idx  41188 non-null  float64\n",
            " 16  cons.conf.idx   41188 non-null  float64\n",
            " 17  euribor3m       41188 non-null  float64\n",
            " 18  nr.employed     41188 non-null  float64\n",
            " 19  y               41188 non-null  object \n",
            "dtypes: float64(5), int64(4), object(11)\n",
            "memory usage: 6.3+ MB\n"
          ]
        }
      ],
      "source": [
        "ds.info()"
      ]
    },
    {
      "cell_type": "code",
      "source": [],
      "metadata": {
        "colab": {
          "base_uri": "https://localhost:8080/",
          "height": 407
        },
        "id": "Zyyxy5nf2ZB0",
        "outputId": "9dd71e81-4c58-4ba9-aa3e-fdfd1be8ebea"
      },
      "execution_count": 77,
      "outputs": [
        {
          "output_type": "error",
          "ename": "ValueError",
          "evalue": "ignored",
          "traceback": [
            "\u001b[0;31m---------------------------------------------------------------------------\u001b[0m",
            "\u001b[0;31mValueError\u001b[0m                                Traceback (most recent call last)",
            "\u001b[0;32m<ipython-input-77-2ebce36c4a87>\u001b[0m in \u001b[0;36m<cell line: 3>\u001b[0;34m()\u001b[0m\n\u001b[1;32m      1\u001b[0m \u001b[0;31m# Plot the distribution of the target variable 'y'\u001b[0m\u001b[0;34m\u001b[0m\u001b[0;34m\u001b[0m\u001b[0m\n\u001b[1;32m      2\u001b[0m \u001b[0mplt\u001b[0m\u001b[0;34m.\u001b[0m\u001b[0mfigure\u001b[0m\u001b[0;34m(\u001b[0m\u001b[0mfigsize\u001b[0m\u001b[0;34m=\u001b[0m\u001b[0;34m(\u001b[0m\u001b[0;36m8\u001b[0m\u001b[0;34m,\u001b[0m \u001b[0;36m6\u001b[0m\u001b[0;34m)\u001b[0m\u001b[0;34m)\u001b[0m\u001b[0;34m\u001b[0m\u001b[0;34m\u001b[0m\u001b[0m\n\u001b[0;32m----> 3\u001b[0;31m \u001b[0msns\u001b[0m\u001b[0;34m.\u001b[0m\u001b[0mcountplot\u001b[0m\u001b[0;34m(\u001b[0m\u001b[0mx\u001b[0m\u001b[0;34m=\u001b[0m\u001b[0;34m'y'\u001b[0m\u001b[0;34m,\u001b[0m \u001b[0mds\u001b[0m\u001b[0;34m=\u001b[0m\u001b[0mds\u001b[0m\u001b[0;34m)\u001b[0m\u001b[0;34m\u001b[0m\u001b[0;34m\u001b[0m\u001b[0m\n\u001b[0m\u001b[1;32m      4\u001b[0m \u001b[0mplt\u001b[0m\u001b[0;34m.\u001b[0m\u001b[0mtitle\u001b[0m\u001b[0;34m(\u001b[0m\u001b[0;34m'Distribution of Term Deposit Subscription'\u001b[0m\u001b[0;34m)\u001b[0m\u001b[0;34m\u001b[0m\u001b[0;34m\u001b[0m\u001b[0m\n\u001b[1;32m      5\u001b[0m \u001b[0mplt\u001b[0m\u001b[0;34m.\u001b[0m\u001b[0mxlabel\u001b[0m\u001b[0;34m(\u001b[0m\u001b[0;34m'Term Deposit Subscription'\u001b[0m\u001b[0;34m)\u001b[0m\u001b[0;34m\u001b[0m\u001b[0;34m\u001b[0m\u001b[0m\n",
            "\u001b[0;32m/usr/local/lib/python3.10/dist-packages/seaborn/categorical.py\u001b[0m in \u001b[0;36mcountplot\u001b[0;34m(data, x, y, hue, order, hue_order, orient, color, palette, saturation, width, dodge, ax, **kwargs)\u001b[0m\n\u001b[1;32m   2941\u001b[0m         \u001b[0;32mraise\u001b[0m \u001b[0mValueError\u001b[0m\u001b[0;34m(\u001b[0m\u001b[0;34m\"Cannot pass values for both `x` and `y`\"\u001b[0m\u001b[0;34m)\u001b[0m\u001b[0;34m\u001b[0m\u001b[0;34m\u001b[0m\u001b[0m\n\u001b[1;32m   2942\u001b[0m \u001b[0;34m\u001b[0m\u001b[0m\n\u001b[0;32m-> 2943\u001b[0;31m     plotter = _CountPlotter(\n\u001b[0m\u001b[1;32m   2944\u001b[0m         \u001b[0mx\u001b[0m\u001b[0;34m,\u001b[0m \u001b[0my\u001b[0m\u001b[0;34m,\u001b[0m \u001b[0mhue\u001b[0m\u001b[0;34m,\u001b[0m \u001b[0mdata\u001b[0m\u001b[0;34m,\u001b[0m \u001b[0morder\u001b[0m\u001b[0;34m,\u001b[0m \u001b[0mhue_order\u001b[0m\u001b[0;34m,\u001b[0m\u001b[0;34m\u001b[0m\u001b[0;34m\u001b[0m\u001b[0m\n\u001b[1;32m   2945\u001b[0m         \u001b[0mestimator\u001b[0m\u001b[0;34m,\u001b[0m \u001b[0merrorbar\u001b[0m\u001b[0;34m,\u001b[0m \u001b[0mn_boot\u001b[0m\u001b[0;34m,\u001b[0m \u001b[0munits\u001b[0m\u001b[0;34m,\u001b[0m \u001b[0mseed\u001b[0m\u001b[0;34m,\u001b[0m\u001b[0;34m\u001b[0m\u001b[0;34m\u001b[0m\u001b[0m\n",
            "\u001b[0;32m/usr/local/lib/python3.10/dist-packages/seaborn/categorical.py\u001b[0m in \u001b[0;36m__init__\u001b[0;34m(self, x, y, hue, data, order, hue_order, estimator, errorbar, n_boot, units, seed, orient, color, palette, saturation, width, errcolor, errwidth, capsize, dodge)\u001b[0m\n\u001b[1;32m   1528\u001b[0m                  errcolor, errwidth, capsize, dodge):\n\u001b[1;32m   1529\u001b[0m         \u001b[0;34m\"\"\"Initialize the plotter.\"\"\"\u001b[0m\u001b[0;34m\u001b[0m\u001b[0;34m\u001b[0m\u001b[0m\n\u001b[0;32m-> 1530\u001b[0;31m         self.establish_variables(x, y, hue, data, orient,\n\u001b[0m\u001b[1;32m   1531\u001b[0m                                  order, hue_order, units)\n\u001b[1;32m   1532\u001b[0m         \u001b[0mself\u001b[0m\u001b[0;34m.\u001b[0m\u001b[0mestablish_colors\u001b[0m\u001b[0;34m(\u001b[0m\u001b[0mcolor\u001b[0m\u001b[0;34m,\u001b[0m \u001b[0mpalette\u001b[0m\u001b[0;34m,\u001b[0m \u001b[0msaturation\u001b[0m\u001b[0;34m)\u001b[0m\u001b[0;34m\u001b[0m\u001b[0;34m\u001b[0m\u001b[0m\n",
            "\u001b[0;32m/usr/local/lib/python3.10/dist-packages/seaborn/categorical.py\u001b[0m in \u001b[0;36mestablish_variables\u001b[0;34m(self, x, y, hue, data, orient, order, hue_order, units)\u001b[0m\n\u001b[1;32m    539\u001b[0m                 \u001b[0;32mif\u001b[0m \u001b[0misinstance\u001b[0m\u001b[0;34m(\u001b[0m\u001b[0mvar\u001b[0m\u001b[0;34m,\u001b[0m \u001b[0mstr\u001b[0m\u001b[0;34m)\u001b[0m\u001b[0;34m:\u001b[0m\u001b[0;34m\u001b[0m\u001b[0;34m\u001b[0m\u001b[0m\n\u001b[1;32m    540\u001b[0m                     \u001b[0merr\u001b[0m \u001b[0;34m=\u001b[0m \u001b[0;34mf\"Could not interpret input '{var}'\"\u001b[0m\u001b[0;34m\u001b[0m\u001b[0;34m\u001b[0m\u001b[0m\n\u001b[0;32m--> 541\u001b[0;31m                     \u001b[0;32mraise\u001b[0m \u001b[0mValueError\u001b[0m\u001b[0;34m(\u001b[0m\u001b[0merr\u001b[0m\u001b[0;34m)\u001b[0m\u001b[0;34m\u001b[0m\u001b[0;34m\u001b[0m\u001b[0m\n\u001b[0m\u001b[1;32m    542\u001b[0m \u001b[0;34m\u001b[0m\u001b[0m\n\u001b[1;32m    543\u001b[0m             \u001b[0;31m# Figure out the plotting orientation\u001b[0m\u001b[0;34m\u001b[0m\u001b[0;34m\u001b[0m\u001b[0m\n",
            "\u001b[0;31mValueError\u001b[0m: Could not interpret input 'y'"
          ]
        },
        {
          "output_type": "display_data",
          "data": {
            "text/plain": [
              "<Figure size 800x600 with 0 Axes>"
            ]
          },
          "metadata": {}
        }
      ]
    },
    {
      "cell_type": "code",
      "source": [
        "ds.isnull().any"
      ],
      "metadata": {
        "colab": {
          "base_uri": "https://localhost:8080/"
        },
        "id": "xZrzE_oHIqLG",
        "outputId": "a7a6b720-fd19-43ed-d55b-74985b875d0a"
      },
      "execution_count": 11,
      "outputs": [
        {
          "output_type": "execute_result",
          "data": {
            "text/plain": [
              "<bound method NDFrame._add_numeric_operations.<locals>.any of          age    job  marital  education  default  housing   loan  contact  \\\n",
              "0      False  False    False      False    False    False  False    False   \n",
              "1      False  False    False      False    False    False  False    False   \n",
              "2      False  False    False      False    False    False  False    False   \n",
              "3      False  False    False      False    False    False  False    False   \n",
              "4      False  False    False      False    False    False  False    False   \n",
              "...      ...    ...      ...        ...      ...      ...    ...      ...   \n",
              "41183  False  False    False      False    False    False  False    False   \n",
              "41184  False  False    False      False    False    False  False    False   \n",
              "41185  False  False    False      False    False    False  False    False   \n",
              "41186  False  False    False      False    False    False  False    False   \n",
              "41187  False  False    False      False    False    False  False    False   \n",
              "\n",
              "       month  day_of_week  campaign  pdays  previous  poutcome  emp.var.rate  \\\n",
              "0      False        False     False  False     False     False         False   \n",
              "1      False        False     False  False     False     False         False   \n",
              "2      False        False     False  False     False     False         False   \n",
              "3      False        False     False  False     False     False         False   \n",
              "4      False        False     False  False     False     False         False   \n",
              "...      ...          ...       ...    ...       ...       ...           ...   \n",
              "41183  False        False     False  False     False     False         False   \n",
              "41184  False        False     False  False     False     False         False   \n",
              "41185  False        False     False  False     False     False         False   \n",
              "41186  False        False     False  False     False     False         False   \n",
              "41187  False        False     False  False     False     False         False   \n",
              "\n",
              "       cons.price.idx  cons.conf.idx  euribor3m  nr.employed      y  \n",
              "0               False          False      False        False  False  \n",
              "1               False          False      False        False  False  \n",
              "2               False          False      False        False  False  \n",
              "3               False          False      False        False  False  \n",
              "4               False          False      False        False  False  \n",
              "...               ...            ...        ...          ...    ...  \n",
              "41183           False          False      False        False  False  \n",
              "41184           False          False      False        False  False  \n",
              "41185           False          False      False        False  False  \n",
              "41186           False          False      False        False  False  \n",
              "41187           False          False      False        False  False  \n",
              "\n",
              "[41188 rows x 20 columns]>"
            ]
          },
          "metadata": {},
          "execution_count": 11
        }
      ]
    },
    {
      "cell_type": "code",
      "execution_count": 12,
      "metadata": {
        "id": "cHNvdrBSrg7G",
        "colab": {
          "base_uri": "https://localhost:8080/"
        },
        "outputId": "94e0c206-74ab-40ab-842a-80f38d363368"
      },
      "outputs": [
        {
          "output_type": "stream",
          "name": "stdout",
          "text": [
            "Number of duplicates before removing: 1784\n",
            "Number of duplicates after removing: 0\n"
          ]
        }
      ],
      "source": [
        "# Check for and remove duplicates\n",
        "print(\"Number of duplicates before removing:\", ds.duplicated().sum())\n",
        "ds = ds.drop_duplicates()\n",
        "print(\"Number of duplicates after removing:\", ds.duplicated().sum())"
      ]
    },
    {
      "cell_type": "code",
      "execution_count": 13,
      "metadata": {
        "colab": {
          "base_uri": "https://localhost:8080/"
        },
        "id": "0IRkH49uMcSc",
        "outputId": "91cebcb9-5f1b-4c4b-8fb7-48f209c88f58"
      },
      "outputs": [
        {
          "output_type": "stream",
          "name": "stdout",
          "text": [
            "\n",
            "Missing Data (e.g., 'unknown', 'other', '999'):\n",
            "age                  0\n",
            "job                325\n",
            "marital             79\n",
            "education         1686\n",
            "default           8266\n",
            "housing            980\n",
            "loan               980\n",
            "contact              0\n",
            "month                0\n",
            "day_of_week          0\n",
            "campaign             0\n",
            "pdays                0\n",
            "previous             0\n",
            "poutcome             0\n",
            "emp.var.rate         0\n",
            "cons.price.idx       0\n",
            "cons.conf.idx        0\n",
            "euribor3m            0\n",
            "nr.employed          0\n",
            "y                    0\n",
            "dtype: int64\n"
          ]
        }
      ],
      "source": [
        "# Check for missing data (non-null but potentially incorrect or placeholder values)\n",
        "missing_data = ds.isin(['unknown', 'other', '999']).sum()\n",
        "print(\"\\nMissing Data (e.g., 'unknown', 'other', '999'):\")\n",
        "print(missing_data)"
      ]
    },
    {
      "cell_type": "code",
      "execution_count": 14,
      "metadata": {
        "colab": {
          "base_uri": "https://localhost:8080/"
        },
        "id": "a7m0daRe22vf",
        "outputId": "acbff935-ee07-46b6-ad88-c48d5d850547"
      },
      "outputs": [
        {
          "output_type": "stream",
          "name": "stdout",
          "text": [
            "no     34806\n",
            "yes     4598\n",
            "Name: y, dtype: int64\n"
          ]
        }
      ],
      "source": [
        "# Check the distribution of the target classes\n",
        "print(ds['y'].value_counts())\n"
      ]
    },
    {
      "cell_type": "markdown",
      "source": [
        "# **# **Encode Categorical Values****"
      ],
      "metadata": {
        "id": "OacCpLbiJMCm"
      }
    },
    {
      "cell_type": "code",
      "source": [
        "# Convert categorical features to numerical using Label Encoding\n",
        "label_encoder = LabelEncoder()\n",
        "categorical_columns = ds.select_dtypes(include=['object']).columns\n",
        "\n",
        "for col in categorical_columns:\n",
        "    ds[col] = label_encoder.fit_transform(ds[col])"
      ],
      "metadata": {
        "id": "m2TAnjoRJSKp",
        "colab": {
          "base_uri": "https://localhost:8080/"
        },
        "outputId": "a91fd005-e06c-4800-81e0-23362f1a2c56"
      },
      "execution_count": 15,
      "outputs": [
        {
          "output_type": "stream",
          "name": "stderr",
          "text": [
            "<ipython-input-15-abc69b2e0d73>:6: SettingWithCopyWarning: \n",
            "A value is trying to be set on a copy of a slice from a DataFrame.\n",
            "Try using .loc[row_indexer,col_indexer] = value instead\n",
            "\n",
            "See the caveats in the documentation: https://pandas.pydata.org/pandas-docs/stable/user_guide/indexing.html#returning-a-view-versus-a-copy\n",
            "  ds[col] = label_encoder.fit_transform(ds[col])\n",
            "<ipython-input-15-abc69b2e0d73>:6: SettingWithCopyWarning: \n",
            "A value is trying to be set on a copy of a slice from a DataFrame.\n",
            "Try using .loc[row_indexer,col_indexer] = value instead\n",
            "\n",
            "See the caveats in the documentation: https://pandas.pydata.org/pandas-docs/stable/user_guide/indexing.html#returning-a-view-versus-a-copy\n",
            "  ds[col] = label_encoder.fit_transform(ds[col])\n",
            "<ipython-input-15-abc69b2e0d73>:6: SettingWithCopyWarning: \n",
            "A value is trying to be set on a copy of a slice from a DataFrame.\n",
            "Try using .loc[row_indexer,col_indexer] = value instead\n",
            "\n",
            "See the caveats in the documentation: https://pandas.pydata.org/pandas-docs/stable/user_guide/indexing.html#returning-a-view-versus-a-copy\n",
            "  ds[col] = label_encoder.fit_transform(ds[col])\n",
            "<ipython-input-15-abc69b2e0d73>:6: SettingWithCopyWarning: \n",
            "A value is trying to be set on a copy of a slice from a DataFrame.\n",
            "Try using .loc[row_indexer,col_indexer] = value instead\n",
            "\n",
            "See the caveats in the documentation: https://pandas.pydata.org/pandas-docs/stable/user_guide/indexing.html#returning-a-view-versus-a-copy\n",
            "  ds[col] = label_encoder.fit_transform(ds[col])\n",
            "<ipython-input-15-abc69b2e0d73>:6: SettingWithCopyWarning: \n",
            "A value is trying to be set on a copy of a slice from a DataFrame.\n",
            "Try using .loc[row_indexer,col_indexer] = value instead\n",
            "\n",
            "See the caveats in the documentation: https://pandas.pydata.org/pandas-docs/stable/user_guide/indexing.html#returning-a-view-versus-a-copy\n",
            "  ds[col] = label_encoder.fit_transform(ds[col])\n",
            "<ipython-input-15-abc69b2e0d73>:6: SettingWithCopyWarning: \n",
            "A value is trying to be set on a copy of a slice from a DataFrame.\n",
            "Try using .loc[row_indexer,col_indexer] = value instead\n",
            "\n",
            "See the caveats in the documentation: https://pandas.pydata.org/pandas-docs/stable/user_guide/indexing.html#returning-a-view-versus-a-copy\n",
            "  ds[col] = label_encoder.fit_transform(ds[col])\n",
            "<ipython-input-15-abc69b2e0d73>:6: SettingWithCopyWarning: \n",
            "A value is trying to be set on a copy of a slice from a DataFrame.\n",
            "Try using .loc[row_indexer,col_indexer] = value instead\n",
            "\n",
            "See the caveats in the documentation: https://pandas.pydata.org/pandas-docs/stable/user_guide/indexing.html#returning-a-view-versus-a-copy\n",
            "  ds[col] = label_encoder.fit_transform(ds[col])\n",
            "<ipython-input-15-abc69b2e0d73>:6: SettingWithCopyWarning: \n",
            "A value is trying to be set on a copy of a slice from a DataFrame.\n",
            "Try using .loc[row_indexer,col_indexer] = value instead\n",
            "\n",
            "See the caveats in the documentation: https://pandas.pydata.org/pandas-docs/stable/user_guide/indexing.html#returning-a-view-versus-a-copy\n",
            "  ds[col] = label_encoder.fit_transform(ds[col])\n",
            "<ipython-input-15-abc69b2e0d73>:6: SettingWithCopyWarning: \n",
            "A value is trying to be set on a copy of a slice from a DataFrame.\n",
            "Try using .loc[row_indexer,col_indexer] = value instead\n",
            "\n",
            "See the caveats in the documentation: https://pandas.pydata.org/pandas-docs/stable/user_guide/indexing.html#returning-a-view-versus-a-copy\n",
            "  ds[col] = label_encoder.fit_transform(ds[col])\n",
            "<ipython-input-15-abc69b2e0d73>:6: SettingWithCopyWarning: \n",
            "A value is trying to be set on a copy of a slice from a DataFrame.\n",
            "Try using .loc[row_indexer,col_indexer] = value instead\n",
            "\n",
            "See the caveats in the documentation: https://pandas.pydata.org/pandas-docs/stable/user_guide/indexing.html#returning-a-view-versus-a-copy\n",
            "  ds[col] = label_encoder.fit_transform(ds[col])\n",
            "<ipython-input-15-abc69b2e0d73>:6: SettingWithCopyWarning: \n",
            "A value is trying to be set on a copy of a slice from a DataFrame.\n",
            "Try using .loc[row_indexer,col_indexer] = value instead\n",
            "\n",
            "See the caveats in the documentation: https://pandas.pydata.org/pandas-docs/stable/user_guide/indexing.html#returning-a-view-versus-a-copy\n",
            "  ds[col] = label_encoder.fit_transform(ds[col])\n"
          ]
        }
      ]
    },
    {
      "cell_type": "code",
      "source": [
        "# Display the first few rows after encoding\n",
        "print(\"\\nEncoded Dataset:\")\n",
        "print(ds.head())\n"
      ],
      "metadata": {
        "colab": {
          "base_uri": "https://localhost:8080/"
        },
        "id": "8J_oyzxCJU-o",
        "outputId": "e9e5fd73-d64d-4878-eb87-b302ddc3aef2"
      },
      "execution_count": 16,
      "outputs": [
        {
          "output_type": "stream",
          "name": "stdout",
          "text": [
            "\n",
            "Encoded Dataset:\n",
            "   age  job  marital  education  default  housing  loan  contact  month  \\\n",
            "0   56    3        1          0        0        0     0        1      6   \n",
            "1   57    7        1          3        1        0     0        1      6   \n",
            "2   37    7        1          3        0        2     0        1      6   \n",
            "3   40    0        1          1        0        0     0        1      6   \n",
            "4   56    7        1          3        0        0     2        1      6   \n",
            "\n",
            "   day_of_week  campaign  pdays  previous  poutcome  emp.var.rate  \\\n",
            "0            1         1    999         0         1           1.1   \n",
            "1            1         1    999         0         1           1.1   \n",
            "2            1         1    999         0         1           1.1   \n",
            "3            1         1    999         0         1           1.1   \n",
            "4            1         1    999         0         1           1.1   \n",
            "\n",
            "   cons.price.idx  cons.conf.idx  euribor3m  nr.employed  y  \n",
            "0          93.994          -36.4      4.857       5191.0  0  \n",
            "1          93.994          -36.4      4.857       5191.0  0  \n",
            "2          93.994          -36.4      4.857       5191.0  0  \n",
            "3          93.994          -36.4      4.857       5191.0  0  \n",
            "4          93.994          -36.4      4.857       5191.0  0  \n"
          ]
        }
      ]
    },
    {
      "cell_type": "code",
      "source": [
        "ds"
      ],
      "metadata": {
        "colab": {
          "base_uri": "https://localhost:8080/",
          "height": 444
        },
        "id": "No_UPkfcJVIx",
        "outputId": "1607f20a-9f71-45a5-cbf4-df4e8262688b"
      },
      "execution_count": 17,
      "outputs": [
        {
          "output_type": "execute_result",
          "data": {
            "text/plain": [
              "       age  job  marital  education  default  housing  loan  contact  month  \\\n",
              "0       56    3        1          0        0        0     0        1      6   \n",
              "1       57    7        1          3        1        0     0        1      6   \n",
              "2       37    7        1          3        0        2     0        1      6   \n",
              "3       40    0        1          1        0        0     0        1      6   \n",
              "4       56    7        1          3        0        0     2        1      6   \n",
              "...    ...  ...      ...        ...      ...      ...   ...      ...    ...   \n",
              "41183   73    5        1          5        0        2     0        0      7   \n",
              "41184   46    1        1          5        0        0     0        0      7   \n",
              "41185   56    5        1          6        0        2     0        0      7   \n",
              "41186   44    9        1          5        0        0     0        0      7   \n",
              "41187   74    5        1          5        0        2     0        0      7   \n",
              "\n",
              "       day_of_week  campaign  pdays  previous  poutcome  emp.var.rate  \\\n",
              "0                1         1    999         0         1           1.1   \n",
              "1                1         1    999         0         1           1.1   \n",
              "2                1         1    999         0         1           1.1   \n",
              "3                1         1    999         0         1           1.1   \n",
              "4                1         1    999         0         1           1.1   \n",
              "...            ...       ...    ...       ...       ...           ...   \n",
              "41183            0         1    999         0         1          -1.1   \n",
              "41184            0         1    999         0         1          -1.1   \n",
              "41185            0         2    999         0         1          -1.1   \n",
              "41186            0         1    999         0         1          -1.1   \n",
              "41187            0         3    999         1         0          -1.1   \n",
              "\n",
              "       cons.price.idx  cons.conf.idx  euribor3m  nr.employed  y  \n",
              "0              93.994          -36.4      4.857       5191.0  0  \n",
              "1              93.994          -36.4      4.857       5191.0  0  \n",
              "2              93.994          -36.4      4.857       5191.0  0  \n",
              "3              93.994          -36.4      4.857       5191.0  0  \n",
              "4              93.994          -36.4      4.857       5191.0  0  \n",
              "...               ...            ...        ...          ... ..  \n",
              "41183          94.767          -50.8      1.028       4963.6  1  \n",
              "41184          94.767          -50.8      1.028       4963.6  0  \n",
              "41185          94.767          -50.8      1.028       4963.6  0  \n",
              "41186          94.767          -50.8      1.028       4963.6  1  \n",
              "41187          94.767          -50.8      1.028       4963.6  0  \n",
              "\n",
              "[39404 rows x 20 columns]"
            ],
            "text/html": [
              "\n",
              "  <div id=\"df-6418e80d-b263-4e8c-b967-063961888515\" class=\"colab-df-container\">\n",
              "    <div>\n",
              "<style scoped>\n",
              "    .dataframe tbody tr th:only-of-type {\n",
              "        vertical-align: middle;\n",
              "    }\n",
              "\n",
              "    .dataframe tbody tr th {\n",
              "        vertical-align: top;\n",
              "    }\n",
              "\n",
              "    .dataframe thead th {\n",
              "        text-align: right;\n",
              "    }\n",
              "</style>\n",
              "<table border=\"1\" class=\"dataframe\">\n",
              "  <thead>\n",
              "    <tr style=\"text-align: right;\">\n",
              "      <th></th>\n",
              "      <th>age</th>\n",
              "      <th>job</th>\n",
              "      <th>marital</th>\n",
              "      <th>education</th>\n",
              "      <th>default</th>\n",
              "      <th>housing</th>\n",
              "      <th>loan</th>\n",
              "      <th>contact</th>\n",
              "      <th>month</th>\n",
              "      <th>day_of_week</th>\n",
              "      <th>campaign</th>\n",
              "      <th>pdays</th>\n",
              "      <th>previous</th>\n",
              "      <th>poutcome</th>\n",
              "      <th>emp.var.rate</th>\n",
              "      <th>cons.price.idx</th>\n",
              "      <th>cons.conf.idx</th>\n",
              "      <th>euribor3m</th>\n",
              "      <th>nr.employed</th>\n",
              "      <th>y</th>\n",
              "    </tr>\n",
              "  </thead>\n",
              "  <tbody>\n",
              "    <tr>\n",
              "      <th>0</th>\n",
              "      <td>56</td>\n",
              "      <td>3</td>\n",
              "      <td>1</td>\n",
              "      <td>0</td>\n",
              "      <td>0</td>\n",
              "      <td>0</td>\n",
              "      <td>0</td>\n",
              "      <td>1</td>\n",
              "      <td>6</td>\n",
              "      <td>1</td>\n",
              "      <td>1</td>\n",
              "      <td>999</td>\n",
              "      <td>0</td>\n",
              "      <td>1</td>\n",
              "      <td>1.1</td>\n",
              "      <td>93.994</td>\n",
              "      <td>-36.4</td>\n",
              "      <td>4.857</td>\n",
              "      <td>5191.0</td>\n",
              "      <td>0</td>\n",
              "    </tr>\n",
              "    <tr>\n",
              "      <th>1</th>\n",
              "      <td>57</td>\n",
              "      <td>7</td>\n",
              "      <td>1</td>\n",
              "      <td>3</td>\n",
              "      <td>1</td>\n",
              "      <td>0</td>\n",
              "      <td>0</td>\n",
              "      <td>1</td>\n",
              "      <td>6</td>\n",
              "      <td>1</td>\n",
              "      <td>1</td>\n",
              "      <td>999</td>\n",
              "      <td>0</td>\n",
              "      <td>1</td>\n",
              "      <td>1.1</td>\n",
              "      <td>93.994</td>\n",
              "      <td>-36.4</td>\n",
              "      <td>4.857</td>\n",
              "      <td>5191.0</td>\n",
              "      <td>0</td>\n",
              "    </tr>\n",
              "    <tr>\n",
              "      <th>2</th>\n",
              "      <td>37</td>\n",
              "      <td>7</td>\n",
              "      <td>1</td>\n",
              "      <td>3</td>\n",
              "      <td>0</td>\n",
              "      <td>2</td>\n",
              "      <td>0</td>\n",
              "      <td>1</td>\n",
              "      <td>6</td>\n",
              "      <td>1</td>\n",
              "      <td>1</td>\n",
              "      <td>999</td>\n",
              "      <td>0</td>\n",
              "      <td>1</td>\n",
              "      <td>1.1</td>\n",
              "      <td>93.994</td>\n",
              "      <td>-36.4</td>\n",
              "      <td>4.857</td>\n",
              "      <td>5191.0</td>\n",
              "      <td>0</td>\n",
              "    </tr>\n",
              "    <tr>\n",
              "      <th>3</th>\n",
              "      <td>40</td>\n",
              "      <td>0</td>\n",
              "      <td>1</td>\n",
              "      <td>1</td>\n",
              "      <td>0</td>\n",
              "      <td>0</td>\n",
              "      <td>0</td>\n",
              "      <td>1</td>\n",
              "      <td>6</td>\n",
              "      <td>1</td>\n",
              "      <td>1</td>\n",
              "      <td>999</td>\n",
              "      <td>0</td>\n",
              "      <td>1</td>\n",
              "      <td>1.1</td>\n",
              "      <td>93.994</td>\n",
              "      <td>-36.4</td>\n",
              "      <td>4.857</td>\n",
              "      <td>5191.0</td>\n",
              "      <td>0</td>\n",
              "    </tr>\n",
              "    <tr>\n",
              "      <th>4</th>\n",
              "      <td>56</td>\n",
              "      <td>7</td>\n",
              "      <td>1</td>\n",
              "      <td>3</td>\n",
              "      <td>0</td>\n",
              "      <td>0</td>\n",
              "      <td>2</td>\n",
              "      <td>1</td>\n",
              "      <td>6</td>\n",
              "      <td>1</td>\n",
              "      <td>1</td>\n",
              "      <td>999</td>\n",
              "      <td>0</td>\n",
              "      <td>1</td>\n",
              "      <td>1.1</td>\n",
              "      <td>93.994</td>\n",
              "      <td>-36.4</td>\n",
              "      <td>4.857</td>\n",
              "      <td>5191.0</td>\n",
              "      <td>0</td>\n",
              "    </tr>\n",
              "    <tr>\n",
              "      <th>...</th>\n",
              "      <td>...</td>\n",
              "      <td>...</td>\n",
              "      <td>...</td>\n",
              "      <td>...</td>\n",
              "      <td>...</td>\n",
              "      <td>...</td>\n",
              "      <td>...</td>\n",
              "      <td>...</td>\n",
              "      <td>...</td>\n",
              "      <td>...</td>\n",
              "      <td>...</td>\n",
              "      <td>...</td>\n",
              "      <td>...</td>\n",
              "      <td>...</td>\n",
              "      <td>...</td>\n",
              "      <td>...</td>\n",
              "      <td>...</td>\n",
              "      <td>...</td>\n",
              "      <td>...</td>\n",
              "      <td>...</td>\n",
              "    </tr>\n",
              "    <tr>\n",
              "      <th>41183</th>\n",
              "      <td>73</td>\n",
              "      <td>5</td>\n",
              "      <td>1</td>\n",
              "      <td>5</td>\n",
              "      <td>0</td>\n",
              "      <td>2</td>\n",
              "      <td>0</td>\n",
              "      <td>0</td>\n",
              "      <td>7</td>\n",
              "      <td>0</td>\n",
              "      <td>1</td>\n",
              "      <td>999</td>\n",
              "      <td>0</td>\n",
              "      <td>1</td>\n",
              "      <td>-1.1</td>\n",
              "      <td>94.767</td>\n",
              "      <td>-50.8</td>\n",
              "      <td>1.028</td>\n",
              "      <td>4963.6</td>\n",
              "      <td>1</td>\n",
              "    </tr>\n",
              "    <tr>\n",
              "      <th>41184</th>\n",
              "      <td>46</td>\n",
              "      <td>1</td>\n",
              "      <td>1</td>\n",
              "      <td>5</td>\n",
              "      <td>0</td>\n",
              "      <td>0</td>\n",
              "      <td>0</td>\n",
              "      <td>0</td>\n",
              "      <td>7</td>\n",
              "      <td>0</td>\n",
              "      <td>1</td>\n",
              "      <td>999</td>\n",
              "      <td>0</td>\n",
              "      <td>1</td>\n",
              "      <td>-1.1</td>\n",
              "      <td>94.767</td>\n",
              "      <td>-50.8</td>\n",
              "      <td>1.028</td>\n",
              "      <td>4963.6</td>\n",
              "      <td>0</td>\n",
              "    </tr>\n",
              "    <tr>\n",
              "      <th>41185</th>\n",
              "      <td>56</td>\n",
              "      <td>5</td>\n",
              "      <td>1</td>\n",
              "      <td>6</td>\n",
              "      <td>0</td>\n",
              "      <td>2</td>\n",
              "      <td>0</td>\n",
              "      <td>0</td>\n",
              "      <td>7</td>\n",
              "      <td>0</td>\n",
              "      <td>2</td>\n",
              "      <td>999</td>\n",
              "      <td>0</td>\n",
              "      <td>1</td>\n",
              "      <td>-1.1</td>\n",
              "      <td>94.767</td>\n",
              "      <td>-50.8</td>\n",
              "      <td>1.028</td>\n",
              "      <td>4963.6</td>\n",
              "      <td>0</td>\n",
              "    </tr>\n",
              "    <tr>\n",
              "      <th>41186</th>\n",
              "      <td>44</td>\n",
              "      <td>9</td>\n",
              "      <td>1</td>\n",
              "      <td>5</td>\n",
              "      <td>0</td>\n",
              "      <td>0</td>\n",
              "      <td>0</td>\n",
              "      <td>0</td>\n",
              "      <td>7</td>\n",
              "      <td>0</td>\n",
              "      <td>1</td>\n",
              "      <td>999</td>\n",
              "      <td>0</td>\n",
              "      <td>1</td>\n",
              "      <td>-1.1</td>\n",
              "      <td>94.767</td>\n",
              "      <td>-50.8</td>\n",
              "      <td>1.028</td>\n",
              "      <td>4963.6</td>\n",
              "      <td>1</td>\n",
              "    </tr>\n",
              "    <tr>\n",
              "      <th>41187</th>\n",
              "      <td>74</td>\n",
              "      <td>5</td>\n",
              "      <td>1</td>\n",
              "      <td>5</td>\n",
              "      <td>0</td>\n",
              "      <td>2</td>\n",
              "      <td>0</td>\n",
              "      <td>0</td>\n",
              "      <td>7</td>\n",
              "      <td>0</td>\n",
              "      <td>3</td>\n",
              "      <td>999</td>\n",
              "      <td>1</td>\n",
              "      <td>0</td>\n",
              "      <td>-1.1</td>\n",
              "      <td>94.767</td>\n",
              "      <td>-50.8</td>\n",
              "      <td>1.028</td>\n",
              "      <td>4963.6</td>\n",
              "      <td>0</td>\n",
              "    </tr>\n",
              "  </tbody>\n",
              "</table>\n",
              "<p>39404 rows × 20 columns</p>\n",
              "</div>\n",
              "    <div class=\"colab-df-buttons\">\n",
              "\n",
              "  <div class=\"colab-df-container\">\n",
              "    <button class=\"colab-df-convert\" onclick=\"convertToInteractive('df-6418e80d-b263-4e8c-b967-063961888515')\"\n",
              "            title=\"Convert this dataframe to an interactive table.\"\n",
              "            style=\"display:none;\">\n",
              "\n",
              "  <svg xmlns=\"http://www.w3.org/2000/svg\" height=\"24px\" viewBox=\"0 -960 960 960\">\n",
              "    <path d=\"M120-120v-720h720v720H120Zm60-500h600v-160H180v160Zm220 220h160v-160H400v160Zm0 220h160v-160H400v160ZM180-400h160v-160H180v160Zm440 0h160v-160H620v160ZM180-180h160v-160H180v160Zm440 0h160v-160H620v160Z\"/>\n",
              "  </svg>\n",
              "    </button>\n",
              "\n",
              "  <style>\n",
              "    .colab-df-container {\n",
              "      display:flex;\n",
              "      gap: 12px;\n",
              "    }\n",
              "\n",
              "    .colab-df-convert {\n",
              "      background-color: #E8F0FE;\n",
              "      border: none;\n",
              "      border-radius: 50%;\n",
              "      cursor: pointer;\n",
              "      display: none;\n",
              "      fill: #1967D2;\n",
              "      height: 32px;\n",
              "      padding: 0 0 0 0;\n",
              "      width: 32px;\n",
              "    }\n",
              "\n",
              "    .colab-df-convert:hover {\n",
              "      background-color: #E2EBFA;\n",
              "      box-shadow: 0px 1px 2px rgba(60, 64, 67, 0.3), 0px 1px 3px 1px rgba(60, 64, 67, 0.15);\n",
              "      fill: #174EA6;\n",
              "    }\n",
              "\n",
              "    .colab-df-buttons div {\n",
              "      margin-bottom: 4px;\n",
              "    }\n",
              "\n",
              "    [theme=dark] .colab-df-convert {\n",
              "      background-color: #3B4455;\n",
              "      fill: #D2E3FC;\n",
              "    }\n",
              "\n",
              "    [theme=dark] .colab-df-convert:hover {\n",
              "      background-color: #434B5C;\n",
              "      box-shadow: 0px 1px 3px 1px rgba(0, 0, 0, 0.15);\n",
              "      filter: drop-shadow(0px 1px 2px rgba(0, 0, 0, 0.3));\n",
              "      fill: #FFFFFF;\n",
              "    }\n",
              "  </style>\n",
              "\n",
              "    <script>\n",
              "      const buttonEl =\n",
              "        document.querySelector('#df-6418e80d-b263-4e8c-b967-063961888515 button.colab-df-convert');\n",
              "      buttonEl.style.display =\n",
              "        google.colab.kernel.accessAllowed ? 'block' : 'none';\n",
              "\n",
              "      async function convertToInteractive(key) {\n",
              "        const element = document.querySelector('#df-6418e80d-b263-4e8c-b967-063961888515');\n",
              "        const dataTable =\n",
              "          await google.colab.kernel.invokeFunction('convertToInteractive',\n",
              "                                                    [key], {});\n",
              "        if (!dataTable) return;\n",
              "\n",
              "        const docLinkHtml = 'Like what you see? Visit the ' +\n",
              "          '<a target=\"_blank\" href=https://colab.research.google.com/notebooks/data_table.ipynb>data table notebook</a>'\n",
              "          + ' to learn more about interactive tables.';\n",
              "        element.innerHTML = '';\n",
              "        dataTable['output_type'] = 'display_data';\n",
              "        await google.colab.output.renderOutput(dataTable, element);\n",
              "        const docLink = document.createElement('div');\n",
              "        docLink.innerHTML = docLinkHtml;\n",
              "        element.appendChild(docLink);\n",
              "      }\n",
              "    </script>\n",
              "  </div>\n",
              "\n",
              "\n",
              "<div id=\"df-191cd6d2-90b7-4bc4-972e-2deca1ac05c6\">\n",
              "  <button class=\"colab-df-quickchart\" onclick=\"quickchart('df-191cd6d2-90b7-4bc4-972e-2deca1ac05c6')\"\n",
              "            title=\"Suggest charts\"\n",
              "            style=\"display:none;\">\n",
              "\n",
              "<svg xmlns=\"http://www.w3.org/2000/svg\" height=\"24px\"viewBox=\"0 0 24 24\"\n",
              "     width=\"24px\">\n",
              "    <g>\n",
              "        <path d=\"M19 3H5c-1.1 0-2 .9-2 2v14c0 1.1.9 2 2 2h14c1.1 0 2-.9 2-2V5c0-1.1-.9-2-2-2zM9 17H7v-7h2v7zm4 0h-2V7h2v10zm4 0h-2v-4h2v4z\"/>\n",
              "    </g>\n",
              "</svg>\n",
              "  </button>\n",
              "\n",
              "<style>\n",
              "  .colab-df-quickchart {\n",
              "      --bg-color: #E8F0FE;\n",
              "      --fill-color: #1967D2;\n",
              "      --hover-bg-color: #E2EBFA;\n",
              "      --hover-fill-color: #174EA6;\n",
              "      --disabled-fill-color: #AAA;\n",
              "      --disabled-bg-color: #DDD;\n",
              "  }\n",
              "\n",
              "  [theme=dark] .colab-df-quickchart {\n",
              "      --bg-color: #3B4455;\n",
              "      --fill-color: #D2E3FC;\n",
              "      --hover-bg-color: #434B5C;\n",
              "      --hover-fill-color: #FFFFFF;\n",
              "      --disabled-bg-color: #3B4455;\n",
              "      --disabled-fill-color: #666;\n",
              "  }\n",
              "\n",
              "  .colab-df-quickchart {\n",
              "    background-color: var(--bg-color);\n",
              "    border: none;\n",
              "    border-radius: 50%;\n",
              "    cursor: pointer;\n",
              "    display: none;\n",
              "    fill: var(--fill-color);\n",
              "    height: 32px;\n",
              "    padding: 0;\n",
              "    width: 32px;\n",
              "  }\n",
              "\n",
              "  .colab-df-quickchart:hover {\n",
              "    background-color: var(--hover-bg-color);\n",
              "    box-shadow: 0 1px 2px rgba(60, 64, 67, 0.3), 0 1px 3px 1px rgba(60, 64, 67, 0.15);\n",
              "    fill: var(--button-hover-fill-color);\n",
              "  }\n",
              "\n",
              "  .colab-df-quickchart-complete:disabled,\n",
              "  .colab-df-quickchart-complete:disabled:hover {\n",
              "    background-color: var(--disabled-bg-color);\n",
              "    fill: var(--disabled-fill-color);\n",
              "    box-shadow: none;\n",
              "  }\n",
              "\n",
              "  .colab-df-spinner {\n",
              "    border: 2px solid var(--fill-color);\n",
              "    border-color: transparent;\n",
              "    border-bottom-color: var(--fill-color);\n",
              "    animation:\n",
              "      spin 1s steps(1) infinite;\n",
              "  }\n",
              "\n",
              "  @keyframes spin {\n",
              "    0% {\n",
              "      border-color: transparent;\n",
              "      border-bottom-color: var(--fill-color);\n",
              "      border-left-color: var(--fill-color);\n",
              "    }\n",
              "    20% {\n",
              "      border-color: transparent;\n",
              "      border-left-color: var(--fill-color);\n",
              "      border-top-color: var(--fill-color);\n",
              "    }\n",
              "    30% {\n",
              "      border-color: transparent;\n",
              "      border-left-color: var(--fill-color);\n",
              "      border-top-color: var(--fill-color);\n",
              "      border-right-color: var(--fill-color);\n",
              "    }\n",
              "    40% {\n",
              "      border-color: transparent;\n",
              "      border-right-color: var(--fill-color);\n",
              "      border-top-color: var(--fill-color);\n",
              "    }\n",
              "    60% {\n",
              "      border-color: transparent;\n",
              "      border-right-color: var(--fill-color);\n",
              "    }\n",
              "    80% {\n",
              "      border-color: transparent;\n",
              "      border-right-color: var(--fill-color);\n",
              "      border-bottom-color: var(--fill-color);\n",
              "    }\n",
              "    90% {\n",
              "      border-color: transparent;\n",
              "      border-bottom-color: var(--fill-color);\n",
              "    }\n",
              "  }\n",
              "</style>\n",
              "\n",
              "  <script>\n",
              "    async function quickchart(key) {\n",
              "      const quickchartButtonEl =\n",
              "        document.querySelector('#' + key + ' button');\n",
              "      quickchartButtonEl.disabled = true;  // To prevent multiple clicks.\n",
              "      quickchartButtonEl.classList.add('colab-df-spinner');\n",
              "      try {\n",
              "        const charts = await google.colab.kernel.invokeFunction(\n",
              "            'suggestCharts', [key], {});\n",
              "      } catch (error) {\n",
              "        console.error('Error during call to suggestCharts:', error);\n",
              "      }\n",
              "      quickchartButtonEl.classList.remove('colab-df-spinner');\n",
              "      quickchartButtonEl.classList.add('colab-df-quickchart-complete');\n",
              "    }\n",
              "    (() => {\n",
              "      let quickchartButtonEl =\n",
              "        document.querySelector('#df-191cd6d2-90b7-4bc4-972e-2deca1ac05c6 button');\n",
              "      quickchartButtonEl.style.display =\n",
              "        google.colab.kernel.accessAllowed ? 'block' : 'none';\n",
              "    })();\n",
              "  </script>\n",
              "</div>\n",
              "    </div>\n",
              "  </div>\n"
            ]
          },
          "metadata": {},
          "execution_count": 17
        }
      ]
    },
    {
      "cell_type": "code",
      "source": [
        "ds=ds.drop(['pdays'], axis=1)"
      ],
      "metadata": {
        "id": "nA5upc2zJbMh"
      },
      "execution_count": 18,
      "outputs": []
    },
    {
      "cell_type": "markdown",
      "metadata": {
        "id": "-GH6CfDEpELY"
      },
      "source": [
        "# **Balance the in inbalanced data**"
      ]
    },
    {
      "cell_type": "code",
      "execution_count": 36,
      "metadata": {
        "id": "T_VRwtqN-M8W"
      },
      "outputs": [],
      "source": [
        "from imblearn.over_sampling import SMOTE\n",
        "from sklearn.model_selection import train_test_split\n",
        "import pandas as pd\n",
        "\n",
        "# Assuming 'ds' is your original dataset\n",
        "# X should contain the features, and 'y' should be the target variable\n",
        "\n",
        "# Split the data into training and testing sets\n",
        "X_train, X_test, y_train, y_test = train_test_split(X, ds['y'], test_size=0.2, random_state=42)\n",
        "\n",
        "# Initialize SMOTE\n",
        "smote = SMOTE(random_state=42)\n",
        "\n",
        "# Apply SMOTE to the training data only\n",
        "X_train_smote, y_train_smote = smote.fit_resample(X_train, y_train)\n",
        "\n",
        "# Concatenate the synthetic samples with the original training set\n",
        "X_train_balanced = pd.concat([X_train, X_train_smote], axis=0)\n",
        "y_train_balanced = pd.concat([y_train, y_train_smote], axis=0)\n",
        "\n",
        "# Now, X_train_balanced and y_train_balanced contain the balanced training set\n"
      ]
    },
    {
      "cell_type": "code",
      "execution_count": 37,
      "metadata": {
        "colab": {
          "base_uri": "https://localhost:8080/"
        },
        "id": "GrZYHAsi-NOl",
        "outputId": "3891b89f-b909-4f0a-fa6a-9c1f9018d8e2"
      },
      "outputs": [
        {
          "output_type": "stream",
          "name": "stdout",
          "text": [
            "0    55686\n",
            "1    31523\n",
            "Name: y, dtype: int64\n"
          ]
        }
      ],
      "source": [
        "# Assuming 'y_train_balanced' is the target variable after oversampling\n",
        "\n",
        "# Display the class distribution after oversampling\n",
        "print(y_train_balanced.value_counts())\n"
      ]
    },
    {
      "cell_type": "code",
      "execution_count": 20,
      "metadata": {
        "colab": {
          "base_uri": "https://localhost:8080/"
        },
        "id": "wnbRVeAS-nPj",
        "outputId": "d4bc9347-c7e5-42e2-9fb4-cba857ab34d6"
      },
      "outputs": [
        {
          "output_type": "stream",
          "name": "stdout",
          "text": [
            "Number of duplicate rows: 11\n"
          ]
        }
      ],
      "source": [
        "# Assuming 'ds' is your DataFrame\n",
        "# Check for duplicates in the entire DataFrame\n",
        "duplicates = ds.duplicated()\n",
        "\n",
        "# Print the count of duplicate rows\n",
        "print(\"Number of duplicate rows: {}\".format(duplicates.sum()))\n",
        "\n",
        "# If you want to display the duplicate rows, you can use:\n",
        "# duplicate_rows = ds[duplicates]\n",
        "# print(duplicate_rows)\n"
      ]
    },
    {
      "cell_type": "code",
      "execution_count": 21,
      "metadata": {
        "colab": {
          "base_uri": "https://localhost:8080/"
        },
        "id": "pgk-orPW_Og9",
        "outputId": "1925b528-e26c-48c4-cf55-0ef93d8c34e9"
      },
      "outputs": [
        {
          "output_type": "stream",
          "name": "stdout",
          "text": [
            "Shape before removing duplicates: (39404, 19)\n",
            "Shape after removing duplicates: (39154, 19)\n"
          ]
        }
      ],
      "source": [
        "# Assuming 'ds' is your DataFrame\n",
        "# Remove duplicates based on specific columns (excluding 'y' column)\n",
        "ds_no_duplicates = ds.drop_duplicates(subset=ds.columns.difference(['y']))\n",
        "\n",
        "# Print the shape of the DataFrame before and after removing duplicates\n",
        "print(\"Shape before removing duplicates: {}\".format(ds.shape))\n",
        "print(\"Shape after removing duplicates: {}\".format(ds_no_duplicates.shape))\n"
      ]
    },
    {
      "cell_type": "code",
      "execution_count": 22,
      "metadata": {
        "id": "8nyPsmVTbys8"
      },
      "outputs": [],
      "source": [
        "# Impute missing numeric values with the mean\n",
        "numerical_imputer = SimpleImputer(strategy='mean')\n",
        "ds['age'] = numerical_imputer.fit_transform(ds[['age']])"
      ]
    },
    {
      "cell_type": "code",
      "execution_count": 23,
      "metadata": {
        "id": "ztUi-rDTdT14"
      },
      "outputs": [],
      "source": [
        "# Impute missing categorical values with the most frequent category for other columns\n",
        "categorical_columns = ['job', 'marital', 'education', 'default', 'housing', 'loan']\n",
        "for col in categorical_columns:\n",
        "    categorical_imputer = SimpleImputer(strategy='most_frequent')\n",
        "    ds[col] = categorical_imputer.fit_transform(ds[[col]])"
      ]
    },
    {
      "cell_type": "code",
      "execution_count": 24,
      "metadata": {
        "id": "2zJjYgiudT4b"
      },
      "outputs": [],
      "source": [
        "# Treat missing binary values as a separate category\n",
        "binary_columns = ['default', 'housing', 'loan']\n",
        "for col in binary_columns:\n",
        "    ds[col] = ds[col].fillna('unknown')\n"
      ]
    },
    {
      "cell_type": "code",
      "execution_count": 25,
      "metadata": {
        "id": "V0l5gT8tdV4f"
      },
      "outputs": [],
      "source": [
        "# Replace '999' with NaN in relevant columns\n",
        "categorical_999_columns = [ 'previous', 'poutcome']\n",
        "ds[categorical_999_columns] = ds[categorical_999_columns].replace('999', pd.NA)"
      ]
    },
    {
      "cell_type": "code",
      "execution_count": 26,
      "metadata": {
        "id": "0eSsxvc5l1rF"
      },
      "outputs": [],
      "source": [
        "# Replace 'unknown' and 'other' with NaN\n",
        "ds.replace(['unknown', 'other'], pd.NA, inplace=True)"
      ]
    },
    {
      "cell_type": "code",
      "source": [
        "# Impute missing categorical values with the most frequent category\n",
        "categorical_imputer = SimpleImputer(strategy='most_frequent')\n",
        "ds[['job', 'marital', 'education']] = categorical_imputer.fit_transform(ds[['job', 'marital', 'education']])\n"
      ],
      "metadata": {
        "id": "xMS3vSTg-iBS"
      },
      "execution_count": 27,
      "outputs": []
    },
    {
      "cell_type": "code",
      "execution_count": 28,
      "metadata": {
        "colab": {
          "base_uri": "https://localhost:8080/"
        },
        "id": "C38PJbxRk9_E",
        "outputId": "b941e96d-1f19-4dec-8fa7-53cb9726c15b"
      },
      "outputs": [
        {
          "output_type": "stream",
          "name": "stdout",
          "text": [
            "\n",
            "Missing Values After Imputation:\n",
            "age               0\n",
            "job               0\n",
            "marital           0\n",
            "education         0\n",
            "default           0\n",
            "housing           0\n",
            "loan              0\n",
            "contact           0\n",
            "month             0\n",
            "day_of_week       0\n",
            "campaign          0\n",
            "previous          0\n",
            "poutcome          0\n",
            "emp.var.rate      0\n",
            "cons.price.idx    0\n",
            "cons.conf.idx     0\n",
            "euribor3m         0\n",
            "nr.employed       0\n",
            "y                 0\n",
            "dtype: int64\n"
          ]
        }
      ],
      "source": [
        "# Verify that missing values are handled\n",
        "missing_values_after_imputation = ds.isnull().sum()\n",
        "print(\"\\nMissing Values After Imputation:\")\n",
        "print(missing_values_after_imputation)"
      ]
    },
    {
      "cell_type": "markdown",
      "metadata": {
        "id": "W6l6M8sniJPy"
      },
      "source": [
        "# **Splitting the dataset**"
      ]
    },
    {
      "cell_type": "code",
      "execution_count": 29,
      "metadata": {
        "id": "CZWe6-OxLe5Z"
      },
      "outputs": [],
      "source": [
        "# Define features (X) and target variable (y)\n",
        "X = ds.drop('y', axis=1)  # Features\n",
        "y = ds['y']  # Target variable"
      ]
    },
    {
      "cell_type": "code",
      "execution_count": 30,
      "metadata": {
        "id": "EjM9ebmaLe7y"
      },
      "outputs": [],
      "source": [
        "# Split the dataset into training and testing sets\n",
        "X_train, X_test, y_train, y_test = train_test_split(X, y, test_size=0.2, random_state=20)"
      ]
    },
    {
      "cell_type": "code",
      "execution_count": 31,
      "metadata": {
        "id": "u2Z-ULjJLe-O",
        "colab": {
          "base_uri": "https://localhost:8080/"
        },
        "outputId": "def709e6-c833-4ef1-8684-859f83c6bde7"
      },
      "outputs": [
        {
          "output_type": "stream",
          "name": "stdout",
          "text": [
            "\n",
            "Shapes of Training and Testing Sets:\n",
            "X_train: (31523, 18)\n",
            "X_test: (7881, 18)\n",
            "y_train: (31523,)\n",
            "y_test: (7881,)\n"
          ]
        }
      ],
      "source": [
        "  # Display the shapes of the training and testing sets\n",
        "  print(\"\\nShapes of Training and Testing Sets:\")\n",
        "  print(\"X_train:\", X_train.shape)\n",
        "  print(\"X_test:\", X_test.shape)\n",
        "  print(\"y_train:\", y_train.shape)\n",
        "  print(\"y_test:\", y_test.shape)"
      ]
    },
    {
      "cell_type": "markdown",
      "metadata": {
        "id": "4FGnWehtjIdc"
      },
      "source": [
        "# **Initialize the Random Forest Classifier**"
      ]
    },
    {
      "cell_type": "code",
      "execution_count": 33,
      "metadata": {
        "id": "Q9aQF362s1Jy"
      },
      "outputs": [],
      "source": [
        "# Initialize the Random Forest Classifier\n",
        "rf_classifier = RandomForestClassifier(n_estimators=100, random_state=20)"
      ]
    },
    {
      "cell_type": "code",
      "execution_count": 34,
      "metadata": {
        "id": "-sXf37cujRcS",
        "colab": {
          "base_uri": "https://localhost:8080/",
          "height": 75
        },
        "outputId": "fb1c79a6-e541-4156-b502-b323d8a7e5be"
      },
      "outputs": [
        {
          "output_type": "execute_result",
          "data": {
            "text/plain": [
              "RandomForestClassifier(random_state=20)"
            ],
            "text/html": [
              "<style>#sk-container-id-1 {color: black;background-color: white;}#sk-container-id-1 pre{padding: 0;}#sk-container-id-1 div.sk-toggleable {background-color: white;}#sk-container-id-1 label.sk-toggleable__label {cursor: pointer;display: block;width: 100%;margin-bottom: 0;padding: 0.3em;box-sizing: border-box;text-align: center;}#sk-container-id-1 label.sk-toggleable__label-arrow:before {content: \"▸\";float: left;margin-right: 0.25em;color: #696969;}#sk-container-id-1 label.sk-toggleable__label-arrow:hover:before {color: black;}#sk-container-id-1 div.sk-estimator:hover label.sk-toggleable__label-arrow:before {color: black;}#sk-container-id-1 div.sk-toggleable__content {max-height: 0;max-width: 0;overflow: hidden;text-align: left;background-color: #f0f8ff;}#sk-container-id-1 div.sk-toggleable__content pre {margin: 0.2em;color: black;border-radius: 0.25em;background-color: #f0f8ff;}#sk-container-id-1 input.sk-toggleable__control:checked~div.sk-toggleable__content {max-height: 200px;max-width: 100%;overflow: auto;}#sk-container-id-1 input.sk-toggleable__control:checked~label.sk-toggleable__label-arrow:before {content: \"▾\";}#sk-container-id-1 div.sk-estimator input.sk-toggleable__control:checked~label.sk-toggleable__label {background-color: #d4ebff;}#sk-container-id-1 div.sk-label input.sk-toggleable__control:checked~label.sk-toggleable__label {background-color: #d4ebff;}#sk-container-id-1 input.sk-hidden--visually {border: 0;clip: rect(1px 1px 1px 1px);clip: rect(1px, 1px, 1px, 1px);height: 1px;margin: -1px;overflow: hidden;padding: 0;position: absolute;width: 1px;}#sk-container-id-1 div.sk-estimator {font-family: monospace;background-color: #f0f8ff;border: 1px dotted black;border-radius: 0.25em;box-sizing: border-box;margin-bottom: 0.5em;}#sk-container-id-1 div.sk-estimator:hover {background-color: #d4ebff;}#sk-container-id-1 div.sk-parallel-item::after {content: \"\";width: 100%;border-bottom: 1px solid gray;flex-grow: 1;}#sk-container-id-1 div.sk-label:hover label.sk-toggleable__label {background-color: #d4ebff;}#sk-container-id-1 div.sk-serial::before {content: \"\";position: absolute;border-left: 1px solid gray;box-sizing: border-box;top: 0;bottom: 0;left: 50%;z-index: 0;}#sk-container-id-1 div.sk-serial {display: flex;flex-direction: column;align-items: center;background-color: white;padding-right: 0.2em;padding-left: 0.2em;position: relative;}#sk-container-id-1 div.sk-item {position: relative;z-index: 1;}#sk-container-id-1 div.sk-parallel {display: flex;align-items: stretch;justify-content: center;background-color: white;position: relative;}#sk-container-id-1 div.sk-item::before, #sk-container-id-1 div.sk-parallel-item::before {content: \"\";position: absolute;border-left: 1px solid gray;box-sizing: border-box;top: 0;bottom: 0;left: 50%;z-index: -1;}#sk-container-id-1 div.sk-parallel-item {display: flex;flex-direction: column;z-index: 1;position: relative;background-color: white;}#sk-container-id-1 div.sk-parallel-item:first-child::after {align-self: flex-end;width: 50%;}#sk-container-id-1 div.sk-parallel-item:last-child::after {align-self: flex-start;width: 50%;}#sk-container-id-1 div.sk-parallel-item:only-child::after {width: 0;}#sk-container-id-1 div.sk-dashed-wrapped {border: 1px dashed gray;margin: 0 0.4em 0.5em 0.4em;box-sizing: border-box;padding-bottom: 0.4em;background-color: white;}#sk-container-id-1 div.sk-label label {font-family: monospace;font-weight: bold;display: inline-block;line-height: 1.2em;}#sk-container-id-1 div.sk-label-container {text-align: center;}#sk-container-id-1 div.sk-container {/* jupyter's `normalize.less` sets `[hidden] { display: none; }` but bootstrap.min.css set `[hidden] { display: none !important; }` so we also need the `!important` here to be able to override the default hidden behavior on the sphinx rendered scikit-learn.org. See: https://github.com/scikit-learn/scikit-learn/issues/21755 */display: inline-block !important;position: relative;}#sk-container-id-1 div.sk-text-repr-fallback {display: none;}</style><div id=\"sk-container-id-1\" class=\"sk-top-container\"><div class=\"sk-text-repr-fallback\"><pre>RandomForestClassifier(random_state=20)</pre><b>In a Jupyter environment, please rerun this cell to show the HTML representation or trust the notebook. <br />On GitHub, the HTML representation is unable to render, please try loading this page with nbviewer.org.</b></div><div class=\"sk-container\" hidden><div class=\"sk-item\"><div class=\"sk-estimator sk-toggleable\"><input class=\"sk-toggleable__control sk-hidden--visually\" id=\"sk-estimator-id-1\" type=\"checkbox\" checked><label for=\"sk-estimator-id-1\" class=\"sk-toggleable__label sk-toggleable__label-arrow\">RandomForestClassifier</label><div class=\"sk-toggleable__content\"><pre>RandomForestClassifier(random_state=20)</pre></div></div></div></div></div>"
            ]
          },
          "metadata": {},
          "execution_count": 34
        }
      ],
      "source": [
        "# Train the classifier\n",
        "rf_classifier.fit(X_train, y_train)"
      ]
    },
    {
      "cell_type": "code",
      "execution_count": 35,
      "metadata": {
        "id": "qdA-QZlojRfJ"
      },
      "outputs": [],
      "source": [
        "# Make predictions on the test set\n",
        "y_pred = rf_classifier.predict(X_test)"
      ]
    },
    {
      "cell_type": "code",
      "execution_count": 38,
      "metadata": {
        "id": "iU0xK7kcjRhT"
      },
      "outputs": [],
      "source": [
        "# Evaluate the model\n",
        "accuracy = accuracy_score(y_test, y_pred)\n",
        "classification_rep = classification_report(y_test, y_pred)"
      ]
    },
    {
      "cell_type": "code",
      "execution_count": 39,
      "metadata": {
        "id": "RvUCmq0Dje6b",
        "colab": {
          "base_uri": "https://localhost:8080/"
        },
        "outputId": "0fbe8bd2-e98c-4fa6-aed0-77e958ebda20"
      },
      "outputs": [
        {
          "output_type": "stream",
          "name": "stdout",
          "text": [
            "Accuracy: 0.8407562492069535\n",
            "Classification Report:\n",
            "               precision    recall  f1-score   support\n",
            "\n",
            "           0       0.88      0.94      0.91      6963\n",
            "           1       0.13      0.06      0.08       918\n",
            "\n",
            "    accuracy                           0.84      7881\n",
            "   macro avg       0.51      0.50      0.50      7881\n",
            "weighted avg       0.80      0.84      0.82      7881\n",
            "\n"
          ]
        }
      ],
      "source": [
        "print(f\"Accuracy: {accuracy}\")\n",
        "print(\"Classification Report:\\n\", classification_rep)"
      ]
    },
    {
      "cell_type": "markdown",
      "source": [
        "# **Implement the GridSearch For RandomForest**\n",
        "\n",
        "\n"
      ],
      "metadata": {
        "id": "SADnFpch3BzX"
      }
    },
    {
      "cell_type": "code",
      "execution_count": 40,
      "metadata": {
        "id": "vgYU6Qyije85",
        "colab": {
          "base_uri": "https://localhost:8080/"
        },
        "outputId": "0df4d799-378f-48e4-db7b-1bc75fa1fc45"
      },
      "outputs": [
        {
          "output_type": "stream",
          "name": "stdout",
          "text": [
            "Best Hype9rparameters: {'max_depth': 10, 'min_samples_leaf': 4, 'min_samples_split': 2, 'n_estimators': 50}\n"
          ]
        }
      ],
      "source": [
        "from sklearn.model_selection import GridSearchCV\n",
        "\n",
        "# Example grid search for RandomForestClassifier\n",
        "param_grid = {\n",
        "    'n_estimators': [50, 100, 150],\n",
        "    'max_depth': [None, 10, 20, 30],\n",
        "    'min_samples_split': [2, 5, 10],\n",
        "    'min_samples_leaf': [1, 2, 4]\n",
        "}\n",
        "\n",
        "grid_search = GridSearchCV(RandomForestClassifier(random_state=20), param_grid, cv=5)\n",
        "grid_search.fit(X_train, y_train)\n",
        "\n",
        "# Best hyperparameters\n",
        "best_params = grid_search.best_params_\n",
        "print(\"Best Hype9rparameters:\", best_params)\n"
      ]
    },
    {
      "cell_type": "code",
      "execution_count": 41,
      "metadata": {
        "id": "rkD7FQ3Xjz9W",
        "colab": {
          "base_uri": "https://localhost:8080/"
        },
        "outputId": "e1cf0fa9-0e4d-4439-d003-755190f63795"
      },
      "outputs": [
        {
          "output_type": "stream",
          "name": "stdout",
          "text": [
            "Cross-Validation Scores: [0.89056305 0.88961142 0.88643933 0.88721447 0.88800761]\n",
            "Cross-Validation Scores: [0.89056305 0.88961142 0.88643933 0.88721447 0.88800761]\n"
          ]
        }
      ],
      "source": [
        "from sklearn.model_selection import cross_val_score\n",
        "\n",
        "# Example cross-validation for RandomForestClassifier\n",
        "cv_scores = cross_val_score(RandomForestClassifier(n_estimators=100, random_state=42), X_train, y_train, cv=5)\n",
        "print(\"Cross-Validation Scores:\", cv_scores)\n",
        "from sklearn.model_selection import cross_val_score\n",
        "\n",
        "# Example cross-validation for RandomForestClassifier\n",
        "cv_scores = cross_val_score(RandomForestClassifier(n_estimators=100, random_state=42), X_train, y_train, cv=5)\n",
        "print(\"Cross-Validation Scores:\", cv_scores)\n"
      ]
    },
    {
      "cell_type": "code",
      "execution_count": 42,
      "metadata": {
        "id": "5AAUUBEbocyS",
        "colab": {
          "base_uri": "https://localhost:8080/"
        },
        "outputId": "d8312fa6-971e-4ed8-ba76-76abb7da24fe"
      },
      "outputs": [
        {
          "output_type": "stream",
          "name": "stdout",
          "text": [
            "Feature Importance:\n",
            "age: 0.1844425872457397\n",
            "euribor3m: 0.14863781224646397\n",
            "job: 0.08530605346222946\n",
            "campaign: 0.08421428500890636\n",
            "education: 0.07664367971590824\n",
            "nr.employed: 0.06385173468668469\n",
            "day_of_week: 0.06010527240220074\n",
            "poutcome: 0.05059940651756012\n",
            "marital: 0.04154819333671723\n",
            "housing: 0.03787653650172282\n",
            "loan: 0.026985098739337875\n",
            "cons.conf.idx: 0.023849256817518167\n",
            "emp.var.rate: 0.023630328557460025\n",
            "cons.price.idx: 0.022844627805147132\n",
            "previous: 0.02059927841867218\n",
            "month: 0.01817733775486124\n",
            "contact: 0.01574914669016641\n",
            "default: 0.014939364092703664\n"
          ]
        }
      ],
      "source": [
        "# Example feature importance for RandomForestClassifier\n",
        "feature_importance = rf_classifier.feature_importances_\n",
        "feature_names = X.columns\n",
        "\n",
        "# Sort features by importance\n",
        "feature_importance_sorted = sorted(zip(feature_names, feature_importance), key=lambda x: x[1], reverse=True)\n",
        "\n",
        "# Display sorted feature importance\n",
        "print(\"Feature Importance:\")\n",
        "for feature, importance in feature_importance_sorted:\n",
        "    print(f\"{feature}: {importance}\")"
      ]
    },
    {
      "cell_type": "code",
      "execution_count": 46,
      "metadata": {
        "id": "9KQC4Gtjsa9F",
        "colab": {
          "base_uri": "https://localhost:8080/"
        },
        "outputId": "65733dd8-5f39-4476-a84e-9d7245f75f05"
      },
      "outputs": [
        {
          "output_type": "stream",
          "name": "stdout",
          "text": [
            "Before Handling Imbalanced Classes:\n",
            "Accuracy: 0.8845324197436873\n",
            "Classification Report:\n",
            "               precision    recall  f1-score   support\n",
            "\n",
            "           0       0.91      0.96      0.94      6963\n",
            "           1       0.51      0.29      0.37       918\n",
            "\n",
            "    accuracy                           0.88      7881\n",
            "   macro avg       0.71      0.63      0.65      7881\n",
            "weighted avg       0.86      0.88      0.87      7881\n",
            "\n",
            "Confusion Matrix:\n",
            " [[6706  257]\n",
            " [ 653  265]]\n",
            "\n",
            "After Handling Imbalanced Classes:\n",
            "Accuracy: 0.772744575561477\n",
            "Classification Report:\n",
            "               precision    recall  f1-score   support\n",
            "\n",
            "           0       0.94      0.79      0.86      6963\n",
            "           1       0.29      0.64      0.40       918\n",
            "\n",
            "    accuracy                           0.77      7881\n",
            "   macro avg       0.62      0.71      0.63      7881\n",
            "weighted avg       0.87      0.77      0.81      7881\n",
            "\n",
            "Confusion Matrix:\n",
            " [[5503 1460]\n",
            " [ 331  587]]\n"
          ]
        }
      ],
      "source": [
        "from sklearn.ensemble import RandomForestClassifier\n",
        "from sklearn.metrics import accuracy_score, classification_report, confusion_matrix\n",
        "from imblearn.under_sampling import RandomUnderSampler\n",
        "from sklearn.preprocessing import StandardScaler\n",
        "\n",
        "# Train RandomForestClassifier without handling imbalanced classes\n",
        "rf_classifier_before = RandomForestClassifier(n_estimators=100, random_state=20)\n",
        "rf_classifier_before.fit(X_train_scaled, y_train)\n",
        "y_pred_before = rf_classifier_before.predict(X_test_scaled)\n",
        "\n",
        "# Evaluate the model before handling\n",
        "accuracy_before = accuracy_score(y_test, y_pred_before)\n",
        "classification_rep_before = classification_report(y_test, y_pred_before)\n",
        "conf_matrix_before = confusion_matrix(y_test, y_pred_before)\n",
        "\n",
        "print(\"Before Handling Imbalanced Classes:\")\n",
        "print(f\"Accuracy: {accuracy_before}\")\n",
        "print(\"Classification Report:\\n\", classification_rep_before)\n",
        "print(\"Confusion Matrix:\\n\", conf_matrix_before)\n",
        "\n",
        "# Apply RandomUnderSampler to handle imbalanced classes\n",
        "sampler = RandomUnderSampler(random_state=20)\n",
        "X_resampled, y_resampled = sampler.fit_resample(X_train_scaled, y_train)\n",
        "\n",
        "# Train RandomForestClassifier after handling imbalanced classes\n",
        "rf_classifier_after = RandomForestClassifier(n_estimators=100, random_state=20)\n",
        "rf_classifier_after.fit(X_resampled, y_resampled)\n",
        "y_pred_after = rf_classifier_after.predict(X_test_scaled)\n",
        "\n",
        "# Evaluate the model after handling\n",
        "accuracy_after = accuracy_score(y_test, y_pred_after)\n",
        "classification_rep_after = classification_report(y_test, y_pred_after)\n",
        "conf_matrix_after = confusion_matrix(y_test, y_pred_after)\n",
        "\n",
        "print(\"\\nAfter Handling Imbalanced Classes:\")\n",
        "print(f\"Accuracy: {accuracy_after}\")\n",
        "print(\"Classification Report:\\n\", classification_rep_after)\n",
        "print(\"Confusion Matrix:\\n\", conf_matrix_after)\n"
      ]
    },
    {
      "cell_type": "markdown",
      "metadata": {
        "id": "vlYxqYdEsc56"
      },
      "source": [
        "# **Logistic Regression Model**"
      ]
    },
    {
      "cell_type": "code",
      "execution_count": 45,
      "metadata": {
        "id": "DOnxgnqjueFH"
      },
      "outputs": [],
      "source": [
        "# Standardize Features\n",
        "scaler = StandardScaler()\n",
        "X_train_scaled = scaler.fit_transform(X_train)\n",
        "X_test_scaled = scaler.transform(X_test)"
      ]
    },
    {
      "cell_type": "code",
      "execution_count": 47,
      "metadata": {
        "id": "PtNYCEgmueOO",
        "colab": {
          "base_uri": "https://localhost:8080/",
          "height": 75
        },
        "outputId": "4af227f3-66b4-4a2a-9a8b-e1f4edd1b546"
      },
      "outputs": [
        {
          "output_type": "execute_result",
          "data": {
            "text/plain": [
              "LogisticRegression(random_state=20)"
            ],
            "text/html": [
              "<style>#sk-container-id-2 {color: black;background-color: white;}#sk-container-id-2 pre{padding: 0;}#sk-container-id-2 div.sk-toggleable {background-color: white;}#sk-container-id-2 label.sk-toggleable__label {cursor: pointer;display: block;width: 100%;margin-bottom: 0;padding: 0.3em;box-sizing: border-box;text-align: center;}#sk-container-id-2 label.sk-toggleable__label-arrow:before {content: \"▸\";float: left;margin-right: 0.25em;color: #696969;}#sk-container-id-2 label.sk-toggleable__label-arrow:hover:before {color: black;}#sk-container-id-2 div.sk-estimator:hover label.sk-toggleable__label-arrow:before {color: black;}#sk-container-id-2 div.sk-toggleable__content {max-height: 0;max-width: 0;overflow: hidden;text-align: left;background-color: #f0f8ff;}#sk-container-id-2 div.sk-toggleable__content pre {margin: 0.2em;color: black;border-radius: 0.25em;background-color: #f0f8ff;}#sk-container-id-2 input.sk-toggleable__control:checked~div.sk-toggleable__content {max-height: 200px;max-width: 100%;overflow: auto;}#sk-container-id-2 input.sk-toggleable__control:checked~label.sk-toggleable__label-arrow:before {content: \"▾\";}#sk-container-id-2 div.sk-estimator input.sk-toggleable__control:checked~label.sk-toggleable__label {background-color: #d4ebff;}#sk-container-id-2 div.sk-label input.sk-toggleable__control:checked~label.sk-toggleable__label {background-color: #d4ebff;}#sk-container-id-2 input.sk-hidden--visually {border: 0;clip: rect(1px 1px 1px 1px);clip: rect(1px, 1px, 1px, 1px);height: 1px;margin: -1px;overflow: hidden;padding: 0;position: absolute;width: 1px;}#sk-container-id-2 div.sk-estimator {font-family: monospace;background-color: #f0f8ff;border: 1px dotted black;border-radius: 0.25em;box-sizing: border-box;margin-bottom: 0.5em;}#sk-container-id-2 div.sk-estimator:hover {background-color: #d4ebff;}#sk-container-id-2 div.sk-parallel-item::after {content: \"\";width: 100%;border-bottom: 1px solid gray;flex-grow: 1;}#sk-container-id-2 div.sk-label:hover label.sk-toggleable__label {background-color: #d4ebff;}#sk-container-id-2 div.sk-serial::before {content: \"\";position: absolute;border-left: 1px solid gray;box-sizing: border-box;top: 0;bottom: 0;left: 50%;z-index: 0;}#sk-container-id-2 div.sk-serial {display: flex;flex-direction: column;align-items: center;background-color: white;padding-right: 0.2em;padding-left: 0.2em;position: relative;}#sk-container-id-2 div.sk-item {position: relative;z-index: 1;}#sk-container-id-2 div.sk-parallel {display: flex;align-items: stretch;justify-content: center;background-color: white;position: relative;}#sk-container-id-2 div.sk-item::before, #sk-container-id-2 div.sk-parallel-item::before {content: \"\";position: absolute;border-left: 1px solid gray;box-sizing: border-box;top: 0;bottom: 0;left: 50%;z-index: -1;}#sk-container-id-2 div.sk-parallel-item {display: flex;flex-direction: column;z-index: 1;position: relative;background-color: white;}#sk-container-id-2 div.sk-parallel-item:first-child::after {align-self: flex-end;width: 50%;}#sk-container-id-2 div.sk-parallel-item:last-child::after {align-self: flex-start;width: 50%;}#sk-container-id-2 div.sk-parallel-item:only-child::after {width: 0;}#sk-container-id-2 div.sk-dashed-wrapped {border: 1px dashed gray;margin: 0 0.4em 0.5em 0.4em;box-sizing: border-box;padding-bottom: 0.4em;background-color: white;}#sk-container-id-2 div.sk-label label {font-family: monospace;font-weight: bold;display: inline-block;line-height: 1.2em;}#sk-container-id-2 div.sk-label-container {text-align: center;}#sk-container-id-2 div.sk-container {/* jupyter's `normalize.less` sets `[hidden] { display: none; }` but bootstrap.min.css set `[hidden] { display: none !important; }` so we also need the `!important` here to be able to override the default hidden behavior on the sphinx rendered scikit-learn.org. See: https://github.com/scikit-learn/scikit-learn/issues/21755 */display: inline-block !important;position: relative;}#sk-container-id-2 div.sk-text-repr-fallback {display: none;}</style><div id=\"sk-container-id-2\" class=\"sk-top-container\"><div class=\"sk-text-repr-fallback\"><pre>LogisticRegression(random_state=20)</pre><b>In a Jupyter environment, please rerun this cell to show the HTML representation or trust the notebook. <br />On GitHub, the HTML representation is unable to render, please try loading this page with nbviewer.org.</b></div><div class=\"sk-container\" hidden><div class=\"sk-item\"><div class=\"sk-estimator sk-toggleable\"><input class=\"sk-toggleable__control sk-hidden--visually\" id=\"sk-estimator-id-2\" type=\"checkbox\" checked><label for=\"sk-estimator-id-2\" class=\"sk-toggleable__label sk-toggleable__label-arrow\">LogisticRegression</label><div class=\"sk-toggleable__content\"><pre>LogisticRegression(random_state=20)</pre></div></div></div></div></div>"
            ]
          },
          "metadata": {},
          "execution_count": 47
        }
      ],
      "source": [
        "# Train the Logistic Regression model\n",
        "logistic_regression_model = LogisticRegression(random_state=20)\n",
        "logistic_regression_model.fit(X_train_scaled, y_train)"
      ]
    },
    {
      "cell_type": "code",
      "execution_count": 48,
      "metadata": {
        "id": "vaPYdmR_ueSo"
      },
      "outputs": [],
      "source": [
        "# Make Predictions on the Test Set\n",
        "y_pred = logistic_regression_model.predict(X_test_scaled)"
      ]
    },
    {
      "cell_type": "code",
      "execution_count": 49,
      "metadata": {
        "id": "UrkGMHErzI4P"
      },
      "outputs": [],
      "source": [
        "# Evaluate the Model\n",
        "accuracy = accuracy_score(y_test, y_pred)\n",
        "classification_rep = classification_report(y_test, y_pred)\n",
        "conf_matrix = confusion_matrix(y_test, y_pred)\n"
      ]
    },
    {
      "cell_type": "code",
      "execution_count": 50,
      "metadata": {
        "id": "mKXxU0V35Aju",
        "colab": {
          "base_uri": "https://localhost:8080/",
          "height": 75
        },
        "outputId": "73408453-ae95-461b-f008-85c07c7d32d5"
      },
      "outputs": [
        {
          "output_type": "execute_result",
          "data": {
            "text/plain": [
              "LogisticRegression(class_weight='balanced', random_state=20)"
            ],
            "text/html": [
              "<style>#sk-container-id-3 {color: black;background-color: white;}#sk-container-id-3 pre{padding: 0;}#sk-container-id-3 div.sk-toggleable {background-color: white;}#sk-container-id-3 label.sk-toggleable__label {cursor: pointer;display: block;width: 100%;margin-bottom: 0;padding: 0.3em;box-sizing: border-box;text-align: center;}#sk-container-id-3 label.sk-toggleable__label-arrow:before {content: \"▸\";float: left;margin-right: 0.25em;color: #696969;}#sk-container-id-3 label.sk-toggleable__label-arrow:hover:before {color: black;}#sk-container-id-3 div.sk-estimator:hover label.sk-toggleable__label-arrow:before {color: black;}#sk-container-id-3 div.sk-toggleable__content {max-height: 0;max-width: 0;overflow: hidden;text-align: left;background-color: #f0f8ff;}#sk-container-id-3 div.sk-toggleable__content pre {margin: 0.2em;color: black;border-radius: 0.25em;background-color: #f0f8ff;}#sk-container-id-3 input.sk-toggleable__control:checked~div.sk-toggleable__content {max-height: 200px;max-width: 100%;overflow: auto;}#sk-container-id-3 input.sk-toggleable__control:checked~label.sk-toggleable__label-arrow:before {content: \"▾\";}#sk-container-id-3 div.sk-estimator input.sk-toggleable__control:checked~label.sk-toggleable__label {background-color: #d4ebff;}#sk-container-id-3 div.sk-label input.sk-toggleable__control:checked~label.sk-toggleable__label {background-color: #d4ebff;}#sk-container-id-3 input.sk-hidden--visually {border: 0;clip: rect(1px 1px 1px 1px);clip: rect(1px, 1px, 1px, 1px);height: 1px;margin: -1px;overflow: hidden;padding: 0;position: absolute;width: 1px;}#sk-container-id-3 div.sk-estimator {font-family: monospace;background-color: #f0f8ff;border: 1px dotted black;border-radius: 0.25em;box-sizing: border-box;margin-bottom: 0.5em;}#sk-container-id-3 div.sk-estimator:hover {background-color: #d4ebff;}#sk-container-id-3 div.sk-parallel-item::after {content: \"\";width: 100%;border-bottom: 1px solid gray;flex-grow: 1;}#sk-container-id-3 div.sk-label:hover label.sk-toggleable__label {background-color: #d4ebff;}#sk-container-id-3 div.sk-serial::before {content: \"\";position: absolute;border-left: 1px solid gray;box-sizing: border-box;top: 0;bottom: 0;left: 50%;z-index: 0;}#sk-container-id-3 div.sk-serial {display: flex;flex-direction: column;align-items: center;background-color: white;padding-right: 0.2em;padding-left: 0.2em;position: relative;}#sk-container-id-3 div.sk-item {position: relative;z-index: 1;}#sk-container-id-3 div.sk-parallel {display: flex;align-items: stretch;justify-content: center;background-color: white;position: relative;}#sk-container-id-3 div.sk-item::before, #sk-container-id-3 div.sk-parallel-item::before {content: \"\";position: absolute;border-left: 1px solid gray;box-sizing: border-box;top: 0;bottom: 0;left: 50%;z-index: -1;}#sk-container-id-3 div.sk-parallel-item {display: flex;flex-direction: column;z-index: 1;position: relative;background-color: white;}#sk-container-id-3 div.sk-parallel-item:first-child::after {align-self: flex-end;width: 50%;}#sk-container-id-3 div.sk-parallel-item:last-child::after {align-self: flex-start;width: 50%;}#sk-container-id-3 div.sk-parallel-item:only-child::after {width: 0;}#sk-container-id-3 div.sk-dashed-wrapped {border: 1px dashed gray;margin: 0 0.4em 0.5em 0.4em;box-sizing: border-box;padding-bottom: 0.4em;background-color: white;}#sk-container-id-3 div.sk-label label {font-family: monospace;font-weight: bold;display: inline-block;line-height: 1.2em;}#sk-container-id-3 div.sk-label-container {text-align: center;}#sk-container-id-3 div.sk-container {/* jupyter's `normalize.less` sets `[hidden] { display: none; }` but bootstrap.min.css set `[hidden] { display: none !important; }` so we also need the `!important` here to be able to override the default hidden behavior on the sphinx rendered scikit-learn.org. See: https://github.com/scikit-learn/scikit-learn/issues/21755 */display: inline-block !important;position: relative;}#sk-container-id-3 div.sk-text-repr-fallback {display: none;}</style><div id=\"sk-container-id-3\" class=\"sk-top-container\"><div class=\"sk-text-repr-fallback\"><pre>LogisticRegression(class_weight=&#x27;balanced&#x27;, random_state=20)</pre><b>In a Jupyter environment, please rerun this cell to show the HTML representation or trust the notebook. <br />On GitHub, the HTML representation is unable to render, please try loading this page with nbviewer.org.</b></div><div class=\"sk-container\" hidden><div class=\"sk-item\"><div class=\"sk-estimator sk-toggleable\"><input class=\"sk-toggleable__control sk-hidden--visually\" id=\"sk-estimator-id-3\" type=\"checkbox\" checked><label for=\"sk-estimator-id-3\" class=\"sk-toggleable__label sk-toggleable__label-arrow\">LogisticRegression</label><div class=\"sk-toggleable__content\"><pre>LogisticRegression(class_weight=&#x27;balanced&#x27;, random_state=20)</pre></div></div></div></div></div>"
            ]
          },
          "metadata": {},
          "execution_count": 50
        }
      ],
      "source": [
        "from sklearn.linear_model import LogisticRegression\n",
        "\n",
        "# Assuming X_train_scaled, y_train are your training features and labels\n",
        "logistic_regression_model = LogisticRegression(class_weight='balanced', random_state=20)\n",
        "logistic_regression_model.fit(X_train_scaled, y_train)\n"
      ]
    },
    {
      "cell_type": "code",
      "execution_count": 51,
      "metadata": {
        "id": "SfS2UhKr5D68",
        "colab": {
          "base_uri": "https://localhost:8080/"
        },
        "outputId": "4410da18-7416-4e2a-9e21-5d0300605bb5"
      },
      "outputs": [
        {
          "output_type": "stream",
          "name": "stdout",
          "text": [
            "              precision    recall  f1-score   support\n",
            "\n",
            "           0       0.94      0.83      0.88      6963\n",
            "           1       0.32      0.62      0.42       918\n",
            "\n",
            "    accuracy                           0.80      7881\n",
            "   macro avg       0.63      0.72      0.65      7881\n",
            "weighted avg       0.87      0.80      0.83      7881\n",
            "\n"
          ]
        }
      ],
      "source": [
        "from sklearn.metrics import classification_report\n",
        "\n",
        "y_pred = logistic_regression_model.predict(X_test_scaled)\n",
        "print(classification_report(y_test, y_pred))\n"
      ]
    },
    {
      "cell_type": "code",
      "execution_count": 52,
      "metadata": {
        "id": "hiAhefpQzI65",
        "colab": {
          "base_uri": "https://localhost:8080/"
        },
        "outputId": "169cba2f-ff1a-42ae-839b-46dbde2d8c70"
      },
      "outputs": [
        {
          "output_type": "stream",
          "name": "stdout",
          "text": [
            "Accuracy: 0.894175866006852\n",
            "Classification Report:\n",
            "               precision    recall  f1-score   support\n",
            "\n",
            "           0       0.90      0.98      0.94      6963\n",
            "           1       0.64      0.21      0.32       918\n",
            "\n",
            "    accuracy                           0.89      7881\n",
            "   macro avg       0.77      0.60      0.63      7881\n",
            "weighted avg       0.87      0.89      0.87      7881\n",
            "\n",
            "Confusion Matrix:\n",
            " [[6855  108]\n",
            " [ 726  192]]\n",
            "\n",
            "After Handling Imbalanced Classes:\n",
            "Accuracy: 0.772744575561477\n",
            "Classification Report:\n",
            "               precision    recall  f1-score   support\n",
            "\n",
            "           0       0.94      0.79      0.86      6963\n",
            "           1       0.29      0.64      0.40       918\n",
            "\n",
            "    accuracy                           0.77      7881\n",
            "   macro avg       0.62      0.71      0.63      7881\n",
            "weighted avg       0.87      0.77      0.81      7881\n",
            "\n",
            "Confusion Matrix:\n",
            " [[5503 1460]\n",
            " [ 331  587]]\n"
          ]
        }
      ],
      "source": [
        "print(f\"Accuracy: {accuracy}\")\n",
        "print(\"Classification Report:\\n\", classification_rep)\n",
        "print(\"Confusion Matrix:\\n\", conf_matrix)\n",
        "# Evaluate the model after handling\n",
        "accuracy_after = accuracy_score(y_test, y_pred_after)\n",
        "classification_rep_after = classification_report(y_test, y_pred_after)\n",
        "conf_matrix_after = confusion_matrix(y_test, y_pred_after)\n",
        "\n",
        "print(\"\\nAfter Handling Imbalanced Classes:\")\n",
        "print(f\"Accuracy: {accuracy_after}\")\n",
        "print(\"Classification Report:\\n\", classification_rep_after)\n",
        "print(\"Confusion Matrix:\\n\", conf_matrix_after)\n"
      ]
    },
    {
      "cell_type": "code",
      "source": [
        "from sklearn.model_selection import GridSearchCV\n",
        "\n",
        "# Standardize Features\n",
        "scaler = StandardScaler()\n",
        "X_train_scaled = scaler.fit_transform(X_train)\n",
        "X_test_scaled = scaler.transform(X_test)\n",
        "\n",
        "# Define the Logistic Regression model\n",
        "logistic_regression_model = LogisticRegression(random_state=20)\n",
        "\n",
        "# Define the parameter grid for grid search\n",
        "param_grid = {\n",
        "    'penalty': ['l1', 'l2'],\n",
        "    'C': [0.001, 0.01, 0.1, 1, 10, 100],\n",
        "}\n",
        "\n",
        "# Create the grid search object\n",
        "grid_search = GridSearchCV(logistic_regression_model, param_grid, cv=5, scoring='accuracy')\n",
        "\n",
        "# Fit the grid search to the data\n",
        "grid_search.fit(X_train_scaled, y_train)\n",
        "\n",
        "# Get the best parameters and model from the grid search\n",
        "best_params = grid_search.best_params_\n",
        "best_model = grid_search.best_estimator_\n",
        "\n",
        "# Make predictions on the test set using the best model\n",
        "y_pred_best = best_model.predict(X_test_scaled)\n",
        "\n",
        "# Evaluate the best model\n",
        "accuracy_best = accuracy_score(y_test, y_pred_best)\n",
        "classification_rep_best = classification_report(y_test, y_pred_best)\n",
        "conf_matrix_best = confusion_matrix(y_test, y_pred_best)\n",
        "\n",
        "# Print the results\n",
        "print(\"Best Parameters:\", best_params)\n",
        "print(\"Accuracy with Best Model:\", accuracy_best)\n",
        "print(\"Classification Report with Best Model:\\n\", classification_rep_best)\n",
        "print(\"Confusion Matrix with Best Model:\\n\", conf_matrix_best)\n"
      ],
      "metadata": {
        "colab": {
          "base_uri": "https://localhost:8080/"
        },
        "id": "Ge5MtjGWEFGp",
        "outputId": "9b90ede0-91be-4cb8-b61f-942188fab88e"
      },
      "execution_count": 53,
      "outputs": [
        {
          "output_type": "stream",
          "name": "stdout",
          "text": [
            "Best Parameters: {'C': 0.1, 'penalty': 'l2'}\n",
            "Accuracy with Best Model: 0.8944296409085142\n",
            "Classification Report with Best Model:\n",
            "               precision    recall  f1-score   support\n",
            "\n",
            "           0       0.90      0.99      0.94      6963\n",
            "           1       0.65      0.21      0.31       918\n",
            "\n",
            "    accuracy                           0.89      7881\n",
            "   macro avg       0.78      0.60      0.63      7881\n",
            "weighted avg       0.87      0.89      0.87      7881\n",
            "\n",
            "Confusion Matrix with Best Model:\n",
            " [[6860  103]\n",
            " [ 729  189]]\n"
          ]
        },
        {
          "output_type": "stream",
          "name": "stderr",
          "text": [
            "/usr/local/lib/python3.10/dist-packages/sklearn/model_selection/_validation.py:378: FitFailedWarning: \n",
            "30 fits failed out of a total of 60.\n",
            "The score on these train-test partitions for these parameters will be set to nan.\n",
            "If these failures are not expected, you can try to debug them by setting error_score='raise'.\n",
            "\n",
            "Below are more details about the failures:\n",
            "--------------------------------------------------------------------------------\n",
            "30 fits failed with the following error:\n",
            "Traceback (most recent call last):\n",
            "  File \"/usr/local/lib/python3.10/dist-packages/sklearn/model_selection/_validation.py\", line 686, in _fit_and_score\n",
            "    estimator.fit(X_train, y_train, **fit_params)\n",
            "  File \"/usr/local/lib/python3.10/dist-packages/sklearn/linear_model/_logistic.py\", line 1162, in fit\n",
            "    solver = _check_solver(self.solver, self.penalty, self.dual)\n",
            "  File \"/usr/local/lib/python3.10/dist-packages/sklearn/linear_model/_logistic.py\", line 54, in _check_solver\n",
            "    raise ValueError(\n",
            "ValueError: Solver lbfgs supports only 'l2' or 'none' penalties, got l1 penalty.\n",
            "\n",
            "  warnings.warn(some_fits_failed_message, FitFailedWarning)\n",
            "/usr/local/lib/python3.10/dist-packages/sklearn/model_selection/_search.py:952: UserWarning: One or more of the test scores are non-finite: [       nan 0.89553648        nan 0.89639304        nan 0.8967103\n",
            "        nan 0.89632963        nan 0.89632962        nan 0.89632962]\n",
            "  warnings.warn(\n"
          ]
        }
      ]
    },
    {
      "cell_type": "code",
      "execution_count": 54,
      "metadata": {
        "id": "m85xQVAVvUu3",
        "colab": {
          "base_uri": "https://localhost:8080/"
        },
        "outputId": "fe0dfcf2-6906-43e3-e0da-65f2f567ba59"
      },
      "outputs": [
        {
          "output_type": "stream",
          "name": "stdout",
          "text": [
            "Before Handling Imbalanced Classes with Logistic Regression:\n",
            "Accuracy: 0.894175866006852\n",
            "Classification Report:\n",
            "               precision    recall  f1-score   support\n",
            "\n",
            "           0       0.90      0.98      0.94      6963\n",
            "           1       0.64      0.21      0.32       918\n",
            "\n",
            "    accuracy                           0.89      7881\n",
            "   macro avg       0.77      0.60      0.63      7881\n",
            "weighted avg       0.87      0.89      0.87      7881\n",
            "\n",
            "Confusion Matrix:\n",
            " [[6855  108]\n",
            " [ 726  192]]\n",
            "\n",
            "After Handling Imbalanced Classes with Logistic Regression:\n",
            "Accuracy: 0.7981220657276995\n",
            "Classification Report:\n",
            "               precision    recall  f1-score   support\n",
            "\n",
            "           0       0.94      0.82      0.88      6963\n",
            "           1       0.32      0.63      0.42       918\n",
            "\n",
            "    accuracy                           0.80      7881\n",
            "   macro avg       0.63      0.72      0.65      7881\n",
            "weighted avg       0.87      0.80      0.82      7881\n",
            "\n",
            "Confusion Matrix:\n",
            " [[5716 1247]\n",
            " [ 344  574]]\n"
          ]
        }
      ],
      "source": [
        "# Before handling imbalanced classes with Logistic Regression\n",
        "logistic_regression_model_before = LogisticRegression(random_state=20)\n",
        "logistic_regression_model_before.fit(X_train_scaled, y_train)\n",
        "y_pred_before_lr = logistic_regression_model_before.predict(X_test_scaled)\n",
        "\n",
        "# Evaluate the Logistic Regression model before handling\n",
        "accuracy_before_lr = accuracy_score(y_test, y_pred_before_lr)\n",
        "classification_rep_before_lr = classification_report(y_test, y_pred_before_lr)\n",
        "conf_matrix_before_lr = confusion_matrix(y_test, y_pred_before_lr)\n",
        "\n",
        "print(\"Before Handling Imbalanced Classes with Logistic Regression:\")\n",
        "print(f\"Accuracy: {accuracy_before_lr}\")\n",
        "print(\"Classification Report:\\n\", classification_rep_before_lr)\n",
        "print(\"Confusion Matrix:\\n\", conf_matrix_before_lr)\n",
        "\n",
        "# Apply RandomUnderSampler to handle imbalanced classes\n",
        "sampler = RandomUnderSampler(random_state=20)\n",
        "X_resampled_lr, y_resampled_lr = sampler.fit_resample(X_train_scaled, y_train)\n",
        "\n",
        "# Train Logistic Regression after handling imbalanced classes\n",
        "logistic_regression_model_after = LogisticRegression(random_state=20)\n",
        "logistic_regression_model_after.fit(X_resampled_lr, y_resampled_lr)\n",
        "y_pred_after_lr = logistic_regression_model_after.predict(X_test_scaled)\n",
        "\n",
        "# Evaluate the Logistic Regression model after handling\n",
        "accuracy_after_lr = accuracy_score(y_test, y_pred_after_lr)\n",
        "classification_rep_after_lr = classification_report(y_test, y_pred_after_lr)\n",
        "conf_matrix_after_lr = confusion_matrix(y_test, y_pred_after_lr)\n",
        "\n",
        "print(\"\\nAfter Handling Imbalanced Classes with Logistic Regression:\")\n",
        "print(f\"Accuracy: {accuracy_after_lr}\")\n",
        "print(\"Classification Report:\\n\", classification_rep_after_lr)\n",
        "print(\"Confusion Matrix:\\n\", conf_matrix_after_lr)"
      ]
    },
    {
      "cell_type": "code",
      "execution_count": 55,
      "metadata": {
        "id": "mbhEBNkszYZc"
      },
      "outputs": [],
      "source": [
        "#Standardize Features\n",
        "scaler = StandardScaler()\n",
        "X_train_scaled = scaler.fit_transform(X_train)\n",
        "X_test_scaled = scaler.transform(X_test)"
      ]
    },
    {
      "cell_type": "markdown",
      "source": [
        "# Initialize the SVM Model"
      ],
      "metadata": {
        "id": "QBkcjldf3SH8"
      }
    },
    {
      "cell_type": "code",
      "execution_count": 56,
      "metadata": {
        "id": "zvVR9NbkzYcb",
        "colab": {
          "base_uri": "https://localhost:8080/",
          "height": 75
        },
        "outputId": "7510f239-dbff-4c78-e9ff-19112a8c113d"
      },
      "outputs": [
        {
          "output_type": "execute_result",
          "data": {
            "text/plain": [
              "SVC(kernel='linear', random_state=20)"
            ],
            "text/html": [
              "<style>#sk-container-id-4 {color: black;background-color: white;}#sk-container-id-4 pre{padding: 0;}#sk-container-id-4 div.sk-toggleable {background-color: white;}#sk-container-id-4 label.sk-toggleable__label {cursor: pointer;display: block;width: 100%;margin-bottom: 0;padding: 0.3em;box-sizing: border-box;text-align: center;}#sk-container-id-4 label.sk-toggleable__label-arrow:before {content: \"▸\";float: left;margin-right: 0.25em;color: #696969;}#sk-container-id-4 label.sk-toggleable__label-arrow:hover:before {color: black;}#sk-container-id-4 div.sk-estimator:hover label.sk-toggleable__label-arrow:before {color: black;}#sk-container-id-4 div.sk-toggleable__content {max-height: 0;max-width: 0;overflow: hidden;text-align: left;background-color: #f0f8ff;}#sk-container-id-4 div.sk-toggleable__content pre {margin: 0.2em;color: black;border-radius: 0.25em;background-color: #f0f8ff;}#sk-container-id-4 input.sk-toggleable__control:checked~div.sk-toggleable__content {max-height: 200px;max-width: 100%;overflow: auto;}#sk-container-id-4 input.sk-toggleable__control:checked~label.sk-toggleable__label-arrow:before {content: \"▾\";}#sk-container-id-4 div.sk-estimator input.sk-toggleable__control:checked~label.sk-toggleable__label {background-color: #d4ebff;}#sk-container-id-4 div.sk-label input.sk-toggleable__control:checked~label.sk-toggleable__label {background-color: #d4ebff;}#sk-container-id-4 input.sk-hidden--visually {border: 0;clip: rect(1px 1px 1px 1px);clip: rect(1px, 1px, 1px, 1px);height: 1px;margin: -1px;overflow: hidden;padding: 0;position: absolute;width: 1px;}#sk-container-id-4 div.sk-estimator {font-family: monospace;background-color: #f0f8ff;border: 1px dotted black;border-radius: 0.25em;box-sizing: border-box;margin-bottom: 0.5em;}#sk-container-id-4 div.sk-estimator:hover {background-color: #d4ebff;}#sk-container-id-4 div.sk-parallel-item::after {content: \"\";width: 100%;border-bottom: 1px solid gray;flex-grow: 1;}#sk-container-id-4 div.sk-label:hover label.sk-toggleable__label {background-color: #d4ebff;}#sk-container-id-4 div.sk-serial::before {content: \"\";position: absolute;border-left: 1px solid gray;box-sizing: border-box;top: 0;bottom: 0;left: 50%;z-index: 0;}#sk-container-id-4 div.sk-serial {display: flex;flex-direction: column;align-items: center;background-color: white;padding-right: 0.2em;padding-left: 0.2em;position: relative;}#sk-container-id-4 div.sk-item {position: relative;z-index: 1;}#sk-container-id-4 div.sk-parallel {display: flex;align-items: stretch;justify-content: center;background-color: white;position: relative;}#sk-container-id-4 div.sk-item::before, #sk-container-id-4 div.sk-parallel-item::before {content: \"\";position: absolute;border-left: 1px solid gray;box-sizing: border-box;top: 0;bottom: 0;left: 50%;z-index: -1;}#sk-container-id-4 div.sk-parallel-item {display: flex;flex-direction: column;z-index: 1;position: relative;background-color: white;}#sk-container-id-4 div.sk-parallel-item:first-child::after {align-self: flex-end;width: 50%;}#sk-container-id-4 div.sk-parallel-item:last-child::after {align-self: flex-start;width: 50%;}#sk-container-id-4 div.sk-parallel-item:only-child::after {width: 0;}#sk-container-id-4 div.sk-dashed-wrapped {border: 1px dashed gray;margin: 0 0.4em 0.5em 0.4em;box-sizing: border-box;padding-bottom: 0.4em;background-color: white;}#sk-container-id-4 div.sk-label label {font-family: monospace;font-weight: bold;display: inline-block;line-height: 1.2em;}#sk-container-id-4 div.sk-label-container {text-align: center;}#sk-container-id-4 div.sk-container {/* jupyter's `normalize.less` sets `[hidden] { display: none; }` but bootstrap.min.css set `[hidden] { display: none !important; }` so we also need the `!important` here to be able to override the default hidden behavior on the sphinx rendered scikit-learn.org. See: https://github.com/scikit-learn/scikit-learn/issues/21755 */display: inline-block !important;position: relative;}#sk-container-id-4 div.sk-text-repr-fallback {display: none;}</style><div id=\"sk-container-id-4\" class=\"sk-top-container\"><div class=\"sk-text-repr-fallback\"><pre>SVC(kernel=&#x27;linear&#x27;, random_state=20)</pre><b>In a Jupyter environment, please rerun this cell to show the HTML representation or trust the notebook. <br />On GitHub, the HTML representation is unable to render, please try loading this page with nbviewer.org.</b></div><div class=\"sk-container\" hidden><div class=\"sk-item\"><div class=\"sk-estimator sk-toggleable\"><input class=\"sk-toggleable__control sk-hidden--visually\" id=\"sk-estimator-id-4\" type=\"checkbox\" checked><label for=\"sk-estimator-id-4\" class=\"sk-toggleable__label sk-toggleable__label-arrow\">SVC</label><div class=\"sk-toggleable__content\"><pre>SVC(kernel=&#x27;linear&#x27;, random_state=20)</pre></div></div></div></div></div>"
            ]
          },
          "metadata": {},
          "execution_count": 56
        }
      ],
      "source": [
        "# Train the Support Vector Machine (SVM) model\n",
        "svm_model = SVC(kernel='linear', random_state=20)  # Use 'linear' kernel for simplicity, adjust based on your data\n",
        "svm_model.fit(X_train_scaled, y_train)\n"
      ]
    },
    {
      "cell_type": "code",
      "execution_count": 57,
      "metadata": {
        "id": "0_Qer3WO1IfJ"
      },
      "outputs": [],
      "source": [
        "# Make Predictions on the Test Set\n",
        "y_pred_svm = svm_model.predict(X_test_scaled)"
      ]
    },
    {
      "cell_type": "code",
      "execution_count": 58,
      "metadata": {
        "id": "2RyBBskO1O1z"
      },
      "outputs": [],
      "source": [
        "# Evaluate the Model\n",
        "accuracy_svm = accuracy_score(y_test, y_pred_svm)\n",
        "classification_rep_svm = classification_report(y_test, y_pred_svm)\n",
        "conf_matrix_svm = confusion_matrix(y_test, y_pred_svm)"
      ]
    },
    {
      "cell_type": "code",
      "execution_count": 59,
      "metadata": {
        "id": "KLR2EPxg1UXn",
        "colab": {
          "base_uri": "https://localhost:8080/"
        },
        "outputId": "aab3b09b-0edd-4a80-c896-be44d5b05d7f"
      },
      "outputs": [
        {
          "output_type": "stream",
          "name": "stdout",
          "text": [
            "SVM Accuracy: 0.8912574546377363\n",
            "SVM Classification Report:\n",
            "               precision    recall  f1-score   support\n",
            "\n",
            "           0       0.90      0.98      0.94      6963\n",
            "           1       0.60      0.19      0.29       918\n",
            "\n",
            "    accuracy                           0.89      7881\n",
            "   macro avg       0.75      0.59      0.62      7881\n",
            "weighted avg       0.87      0.89      0.87      7881\n",
            "\n",
            "SVM Confusion Matrix:\n",
            " [[6846  117]\n",
            " [ 740  178]]\n"
          ]
        }
      ],
      "source": [
        "print(f\"SVM Accuracy: {accuracy_svm}\")\n",
        "print(\"SVM Classification Report:\\n\", classification_rep_svm)\n",
        "print(\"SVM Confusion Matrix:\\n\", conf_matrix_svm)"
      ]
    },
    {
      "cell_type": "code",
      "source": [
        "from sklearn.model_selection import GridSearchCV\n",
        "from sklearn.svm import SVC\n",
        "from sklearn.metrics import accuracy_score, classification_report, confusion_matrix\n",
        "from sklearn.preprocessing import StandardScaler\n",
        "from imblearn.under_sampling import RandomUnderSampler\n",
        "\n",
        "def train_and_evaluate_svm(X_train, y_train, X_test, y_test):\n",
        "    # Standardize Features\n",
        "    scaler = StandardScaler()\n",
        "    X_train_scaled = scaler.fit_transform(X_train)\n",
        "    X_test_scaled = scaler.transform(X_test)\n",
        "\n",
        "    # Define the parameter grid for grid search\n",
        "    param_grid = {\n",
        "        'C': [0.1, 1, 10],\n",
        "        'gamma': [0.01, 0.1, 1],\n",
        "    }\n",
        "\n",
        "    # Create and fit the grid search object\n",
        "    grid_search = GridSearchCV(SVC(kernel='linear', random_state=20), param_grid, cv=5, scoring='accuracy')\n",
        "    grid_search.fit(X_train_scaled, y_train)\n",
        "\n",
        "    # Get the best parameters and model from the grid search\n",
        "    best_params_svm = grid_search.best_params_\n",
        "    best_model_svm = grid_search.best_estimator_\n",
        "\n",
        "    # Evaluate the best model on the test set\n",
        "    y_pred_best_svm = best_model_svm.predict(X_test_scaled)\n",
        "\n",
        "    # Calculate evaluation metrics\n",
        "    accuracy_best_svm = accuracy_score(y_test, y_pred_best_svm)\n",
        "    classification_rep_best_svm = classification_report(y_test, y_pred_best_svm)\n",
        "    conf_matrix_best_svm = confusion_matrix(y_test, y_pred_best_svm)\n",
        "\n",
        "    # Print the results\n",
        "    print(\"Best Parameters for SVM:\", best_params_svm)\n",
        "    print(\"Accuracy with Best SVM Model:\", accuracy_best_svm)\n",
        "    print(\"Classification Report with Best SVM Model:\\n\", classification_rep_best_svm)\n",
        "    print(\"Confusion Matrix with Best SVM Model:\\n\", conf_matrix_best_svm)\n",
        "\n",
        "# Example usage:\n",
        "# train_and_evaluate_svm(X_train, y_train, X_test, y_test)\n"
      ],
      "metadata": {
        "id": "NdXaCmsuGBSz"
      },
      "execution_count": 60,
      "outputs": []
    },
    {
      "cell_type": "code",
      "execution_count": 61,
      "metadata": {
        "id": "ZuSTLP8NvweR",
        "colab": {
          "base_uri": "https://localhost:8080/"
        },
        "outputId": "443824b4-041e-4d74-f765-c4a8a03aa2a2"
      },
      "outputs": [
        {
          "output_type": "stream",
          "name": "stdout",
          "text": [
            "Before Handling Imbalanced Classes with SVM:\n",
            "Accuracy: 0.8912574546377363\n",
            "Classification Report:\n",
            "               precision    recall  f1-score   support\n",
            "\n",
            "           0       0.90      0.98      0.94      6963\n",
            "           1       0.60      0.19      0.29       918\n",
            "\n",
            "    accuracy                           0.89      7881\n",
            "   macro avg       0.75      0.59      0.62      7881\n",
            "weighted avg       0.87      0.89      0.87      7881\n",
            "\n",
            "Confusion Matrix:\n",
            " [[6846  117]\n",
            " [ 740  178]]\n",
            "\n",
            "After Handling Imbalanced Classes with SVM:\n",
            "Accuracy: 0.8262910798122066\n",
            "Classification Report:\n",
            "               precision    recall  f1-score   support\n",
            "\n",
            "           0       0.94      0.86      0.90      6963\n",
            "           1       0.35      0.58      0.44       918\n",
            "\n",
            "    accuracy                           0.83      7881\n",
            "   macro avg       0.64      0.72      0.67      7881\n",
            "weighted avg       0.87      0.83      0.84      7881\n",
            "\n",
            "Confusion Matrix:\n",
            " [[5983  980]\n",
            " [ 389  529]]\n"
          ]
        }
      ],
      "source": [
        "from sklearn.svm import SVC\n",
        "from sklearn.metrics import accuracy_score, classification_report, confusion_matrix\n",
        "from imblearn.under_sampling import RandomUnderSampler\n",
        "from sklearn.preprocessing import StandardScaler\n",
        "\n",
        "# Before handling imbalanced classes with SVM\n",
        "svm_model_before = SVC(kernel='linear', random_state=20)\n",
        "svm_model_before.fit(X_train_scaled, y_train)\n",
        "y_pred_before_svm = svm_model_before.predict(X_test_scaled)\n",
        "\n",
        "# Evaluate the SVM model before handling\n",
        "accuracy_before_svm = accuracy_score(y_test, y_pred_before_svm)\n",
        "classification_rep_before_svm = classification_report(y_test, y_pred_before_svm)\n",
        "conf_matrix_before_svm = confusion_matrix(y_test, y_pred_before_svm)\n",
        "\n",
        "print(\"Before Handling Imbalanced Classes with SVM:\")\n",
        "print(f\"Accuracy: {accuracy_before_svm}\")\n",
        "print(\"Classification Report:\\n\", classification_rep_before_svm)\n",
        "print(\"Confusion Matrix:\\n\", conf_matrix_before_svm)\n",
        "\n",
        "# Apply RandomUnderSampler to handle imbalanced classes\n",
        "sampler = RandomUnderSampler(random_state=20)\n",
        "X_resampled_svm, y_resampled_svm = sampler.fit_resample(X_train_scaled, y_train)\n",
        "\n",
        "# Train SVM after handling imbalanced classes\n",
        "svm_model_after = SVC(kernel='linear', random_state=20)\n",
        "svm_model_after.fit(X_resampled_svm, y_resampled_svm)\n",
        "y_pred_after_svm = svm_model_after.predict(X_test_scaled)\n",
        "\n",
        "# Evaluate the SVM model after handling\n",
        "accuracy_after_svm = accuracy_score(y_test, y_pred_after_svm)\n",
        "classification_rep_after_svm = classification_report(y_test, y_pred_after_svm)\n",
        "conf_matrix_after_svm = confusion_matrix(y_test, y_pred_after_svm)\n",
        "\n",
        "print(\"\\nAfter Handling Imbalanced Classes with SVM:\")\n",
        "print(f\"Accuracy: {accuracy_after_svm}\")\n",
        "print(\"Classification Report:\\n\", classification_rep_after_svm)\n",
        "print(\"Confusion Matrix:\\n\", conf_matrix_after_svm)\n"
      ]
    },
    {
      "cell_type": "code",
      "execution_count": 62,
      "metadata": {
        "id": "762qPRRcdypD"
      },
      "outputs": [],
      "source": [
        "# Standardize Features\n",
        "scaler = StandardScaler()\n",
        "X_train_scaled = scaler.fit_transform(X_train)\n",
        "X_test_scaled = scaler.transform(X_test)"
      ]
    },
    {
      "cell_type": "markdown",
      "metadata": {
        "id": "4wGAh3W1n03k"
      },
      "source": [
        "# Build the Neural Network **Model**"
      ]
    },
    {
      "cell_type": "code",
      "execution_count": 63,
      "metadata": {
        "id": "B5RNI03knxAf"
      },
      "outputs": [],
      "source": [
        "# Build the Neural Network\n",
        "model = Sequential()"
      ]
    },
    {
      "cell_type": "code",
      "execution_count": 64,
      "metadata": {
        "id": "Vknba6kHnxDV"
      },
      "outputs": [],
      "source": [
        "# Input layer\n",
        "model.add(Dense(units=128, activation='relu', input_dim=X_train_scaled.shape[1]))"
      ]
    },
    {
      "cell_type": "code",
      "execution_count": 65,
      "metadata": {
        "id": "mV0qG_gEnxFZ"
      },
      "outputs": [],
      "source": [
        "# Hidden layers\n",
        "model.add(Dense(units=64, activation='relu'))\n",
        "model.add(Dense(units=32, activation='relu'))\n"
      ]
    },
    {
      "cell_type": "code",
      "execution_count": 66,
      "metadata": {
        "id": "COM4DFW-oEwg"
      },
      "outputs": [],
      "source": [
        "# Output layer\n",
        "model.add(Dense(units=1, activation='sigmoid'))"
      ]
    },
    {
      "cell_type": "markdown",
      "metadata": {
        "id": "w9zLM5uCoeLd"
      },
      "source": [
        "\n",
        "# The Adam optimizer is a popular optimization algorithm used in training neural networks"
      ]
    },
    {
      "cell_type": "code",
      "execution_count": 67,
      "metadata": {
        "id": "l6s8TtoRoEzg"
      },
      "outputs": [],
      "source": [
        "# Compile the model\n",
        "model.compile(optimizer='adam', loss='binary_crossentropy', metrics=['accuracy'])"
      ]
    },
    {
      "cell_type": "code",
      "execution_count": 68,
      "metadata": {
        "id": "YSlvjZMQoE5G",
        "colab": {
          "base_uri": "https://localhost:8080/"
        },
        "outputId": "a7d113ea-876a-4d2f-8f11-b13ff4dff951"
      },
      "outputs": [
        {
          "output_type": "stream",
          "name": "stdout",
          "text": [
            "Epoch 1/10\n",
            "986/986 [==============================] - 4s 3ms/step - loss: 0.2965 - accuracy: 0.8949 - val_loss: 0.2946 - val_accuracy: 0.8961\n",
            "Epoch 2/10\n",
            "986/986 [==============================] - 2s 2ms/step - loss: 0.2865 - accuracy: 0.8979 - val_loss: 0.2942 - val_accuracy: 0.8944\n",
            "Epoch 3/10\n",
            "986/986 [==============================] - 2s 2ms/step - loss: 0.2836 - accuracy: 0.8977 - val_loss: 0.3003 - val_accuracy: 0.8970\n",
            "Epoch 4/10\n",
            "986/986 [==============================] - 3s 3ms/step - loss: 0.2815 - accuracy: 0.8978 - val_loss: 0.2917 - val_accuracy: 0.8947\n",
            "Epoch 5/10\n",
            "986/986 [==============================] - 3s 3ms/step - loss: 0.2792 - accuracy: 0.8981 - val_loss: 0.2917 - val_accuracy: 0.8940\n",
            "Epoch 6/10\n",
            "986/986 [==============================] - 2s 2ms/step - loss: 0.2771 - accuracy: 0.8990 - val_loss: 0.2939 - val_accuracy: 0.8938\n",
            "Epoch 7/10\n",
            "986/986 [==============================] - 3s 3ms/step - loss: 0.2751 - accuracy: 0.8993 - val_loss: 0.2906 - val_accuracy: 0.8957\n",
            "Epoch 8/10\n",
            "986/986 [==============================] - 3s 3ms/step - loss: 0.2739 - accuracy: 0.8993 - val_loss: 0.2924 - val_accuracy: 0.8924\n",
            "Epoch 9/10\n",
            "986/986 [==============================] - 3s 3ms/step - loss: 0.2723 - accuracy: 0.8999 - val_loss: 0.2930 - val_accuracy: 0.8949\n",
            "Epoch 10/10\n",
            "986/986 [==============================] - 3s 3ms/step - loss: 0.2706 - accuracy: 0.9017 - val_loss: 0.2936 - val_accuracy: 0.8949\n"
          ]
        },
        {
          "output_type": "execute_result",
          "data": {
            "text/plain": [
              "<keras.src.callbacks.History at 0x7fd2c7809480>"
            ]
          },
          "metadata": {},
          "execution_count": 68
        }
      ],
      "source": [
        "# Train the Neural Network\n",
        "model.fit(X_train_scaled, y_train, epochs=10, batch_size=32, validation_data=(X_test_scaled, y_test))"
      ]
    },
    {
      "cell_type": "code",
      "execution_count": 69,
      "metadata": {
        "id": "7lLkmtCTokpi",
        "colab": {
          "base_uri": "https://localhost:8080/"
        },
        "outputId": "b3ce539b-c4d1-4966-f18c-f691d08f9be9"
      },
      "outputs": [
        {
          "output_type": "stream",
          "name": "stdout",
          "text": [
            "247/247 [==============================] - 0s 1ms/step\n",
            "Neural Network Accuracy: 0.8949371907118386\n",
            "Neural Network Classification Report:\n",
            "               precision    recall  f1-score   support\n",
            "\n",
            "           0       0.91      0.98      0.94      6963\n",
            "           1       0.63      0.24      0.35       918\n",
            "\n",
            "    accuracy                           0.89      7881\n",
            "   macro avg       0.77      0.61      0.65      7881\n",
            "weighted avg       0.87      0.89      0.87      7881\n",
            "\n",
            "Neural Network Confusion Matrix:\n",
            " [[6830  133]\n",
            " [ 695  223]]\n"
          ]
        }
      ],
      "source": [
        "# Evaluate the Model\n",
        "y_pred_prob = model.predict(X_test_scaled)\n",
        "y_pred_nn = (y_pred_prob > 0.5).astype(int).flatten()\n",
        "\n",
        "accuracy_nn = accuracy_score(y_test, y_pred_nn)\n",
        "classification_rep_nn = classification_report(y_test, y_pred_nn)\n",
        "conf_matrix_nn = confusion_matrix(y_test, y_pred_nn)\n",
        "\n",
        "print(f\"Neural Network Accuracy: {accuracy_nn}\")\n",
        "print(\"Neural Network Classification Report:\\n\", classification_rep_nn)\n",
        "print(\"Neural Network Confusion Matrix:\\n\", conf_matrix_nn)\n"
      ]
    },
    {
      "cell_type": "code",
      "execution_count": 70,
      "metadata": {
        "id": "WswmPKQjxamL",
        "colab": {
          "base_uri": "https://localhost:8080/"
        },
        "outputId": "f8010cfe-c393-48cb-b7f4-62a194169e2a"
      },
      "outputs": [
        {
          "output_type": "stream",
          "name": "stdout",
          "text": [
            "Epoch 1/20\n",
            "493/493 [==============================] - 2s 3ms/step - loss: 0.3001 - accuracy: 0.8952 - val_loss: 0.2934 - val_accuracy: 0.8962\n",
            "Epoch 2/20\n",
            "493/493 [==============================] - 1s 3ms/step - loss: 0.2862 - accuracy: 0.8975 - val_loss: 0.2909 - val_accuracy: 0.8962\n",
            "Epoch 3/20\n",
            "493/493 [==============================] - 1s 2ms/step - loss: 0.2838 - accuracy: 0.8979 - val_loss: 0.2909 - val_accuracy: 0.8951\n",
            "Epoch 4/20\n",
            "493/493 [==============================] - 1s 2ms/step - loss: 0.2807 - accuracy: 0.8982 - val_loss: 0.2934 - val_accuracy: 0.8927\n",
            "Epoch 5/20\n",
            "493/493 [==============================] - 2s 3ms/step - loss: 0.2790 - accuracy: 0.8991 - val_loss: 0.2907 - val_accuracy: 0.8937\n",
            "Epoch 6/20\n",
            "493/493 [==============================] - 2s 4ms/step - loss: 0.2773 - accuracy: 0.8993 - val_loss: 0.2919 - val_accuracy: 0.8963\n",
            "Epoch 7/20\n",
            "493/493 [==============================] - 2s 3ms/step - loss: 0.2756 - accuracy: 0.8994 - val_loss: 0.2945 - val_accuracy: 0.8943\n",
            "Epoch 8/20\n",
            "493/493 [==============================] - 1s 3ms/step - loss: 0.2735 - accuracy: 0.9002 - val_loss: 0.2917 - val_accuracy: 0.8924\n",
            "Epoch 9/20\n",
            "493/493 [==============================] - 1s 3ms/step - loss: 0.2717 - accuracy: 0.9013 - val_loss: 0.2926 - val_accuracy: 0.8948\n",
            "Epoch 10/20\n",
            "493/493 [==============================] - 1s 3ms/step - loss: 0.2701 - accuracy: 0.9010 - val_loss: 0.2896 - val_accuracy: 0.8942\n",
            "Epoch 11/20\n",
            "493/493 [==============================] - 1s 3ms/step - loss: 0.2687 - accuracy: 0.9013 - val_loss: 0.2932 - val_accuracy: 0.8949\n",
            "Epoch 12/20\n",
            "493/493 [==============================] - 2s 5ms/step - loss: 0.2666 - accuracy: 0.9027 - val_loss: 0.2961 - val_accuracy: 0.8927\n",
            "Epoch 13/20\n",
            "493/493 [==============================] - 3s 6ms/step - loss: 0.2660 - accuracy: 0.9030 - val_loss: 0.2950 - val_accuracy: 0.8949\n",
            "Epoch 14/20\n",
            "493/493 [==============================] - 4s 8ms/step - loss: 0.2638 - accuracy: 0.9029 - val_loss: 0.2974 - val_accuracy: 0.8940\n",
            "Epoch 15/20\n",
            "493/493 [==============================] - 2s 5ms/step - loss: 0.2626 - accuracy: 0.9050 - val_loss: 0.2962 - val_accuracy: 0.8928\n",
            "Epoch 16/20\n",
            "493/493 [==============================] - 2s 4ms/step - loss: 0.2601 - accuracy: 0.9057 - val_loss: 0.3017 - val_accuracy: 0.8920\n",
            "Epoch 17/20\n",
            "493/493 [==============================] - 1s 3ms/step - loss: 0.2588 - accuracy: 0.9065 - val_loss: 0.2992 - val_accuracy: 0.8925\n",
            "Epoch 18/20\n",
            "493/493 [==============================] - 1s 3ms/step - loss: 0.2563 - accuracy: 0.9077 - val_loss: 0.2991 - val_accuracy: 0.8929\n",
            "Epoch 19/20\n",
            "493/493 [==============================] - 1s 3ms/step - loss: 0.2546 - accuracy: 0.9069 - val_loss: 0.3018 - val_accuracy: 0.8907\n",
            "Epoch 20/20\n",
            "493/493 [==============================] - 1s 2ms/step - loss: 0.2533 - accuracy: 0.9078 - val_loss: 0.3058 - val_accuracy: 0.8894\n",
            "247/247 [==============================] - 0s 1ms/step\n",
            "Before Handling Imbalanced Classes with Neural Network:\n",
            "Accuracy: 0.8893541428752696\n",
            "Classification Report:\n",
            "               precision    recall  f1-score   support\n",
            "\n",
            "           0       0.91      0.97      0.94      6963\n",
            "           1       0.55      0.28      0.37       918\n",
            "\n",
            "    accuracy                           0.89      7881\n",
            "   macro avg       0.73      0.62      0.65      7881\n",
            "weighted avg       0.87      0.89      0.87      7881\n",
            "\n",
            "Confusion Matrix:\n",
            " [[6753  210]\n",
            " [ 662  256]]\n",
            "Epoch 1/20\n",
            "115/115 [==============================] - 1s 5ms/step - loss: 0.5626 - accuracy: 0.7159 - val_loss: 0.5397 - val_accuracy: 0.7924\n",
            "Epoch 2/20\n",
            "115/115 [==============================] - 0s 3ms/step - loss: 0.5348 - accuracy: 0.7393 - val_loss: 0.5180 - val_accuracy: 0.8249\n",
            "Epoch 3/20\n",
            "115/115 [==============================] - 1s 5ms/step - loss: 0.5274 - accuracy: 0.7406 - val_loss: 0.5471 - val_accuracy: 0.7918\n",
            "Epoch 4/20\n",
            "115/115 [==============================] - 0s 4ms/step - loss: 0.5230 - accuracy: 0.7446 - val_loss: 0.5163 - val_accuracy: 0.8098\n",
            "Epoch 5/20\n",
            "115/115 [==============================] - 0s 3ms/step - loss: 0.5192 - accuracy: 0.7429 - val_loss: 0.5399 - val_accuracy: 0.7955\n",
            "Epoch 6/20\n",
            "115/115 [==============================] - 1s 5ms/step - loss: 0.5130 - accuracy: 0.7493 - val_loss: 0.4965 - val_accuracy: 0.8197\n",
            "Epoch 7/20\n",
            "115/115 [==============================] - 1s 5ms/step - loss: 0.5095 - accuracy: 0.7505 - val_loss: 0.5171 - val_accuracy: 0.8170\n",
            "Epoch 8/20\n",
            "115/115 [==============================] - 0s 4ms/step - loss: 0.5049 - accuracy: 0.7533 - val_loss: 0.5130 - val_accuracy: 0.8142\n",
            "Epoch 9/20\n",
            "115/115 [==============================] - 1s 5ms/step - loss: 0.5002 - accuracy: 0.7587 - val_loss: 0.5591 - val_accuracy: 0.7880\n",
            "Epoch 10/20\n",
            "115/115 [==============================] - 1s 6ms/step - loss: 0.4966 - accuracy: 0.7628 - val_loss: 0.5347 - val_accuracy: 0.7994\n",
            "Epoch 11/20\n",
            "115/115 [==============================] - 1s 6ms/step - loss: 0.4914 - accuracy: 0.7603 - val_loss: 0.5495 - val_accuracy: 0.7994\n",
            "Epoch 12/20\n",
            "115/115 [==============================] - 1s 6ms/step - loss: 0.4890 - accuracy: 0.7622 - val_loss: 0.5182 - val_accuracy: 0.8089\n",
            "Epoch 13/20\n",
            "115/115 [==============================] - 1s 6ms/step - loss: 0.4841 - accuracy: 0.7648 - val_loss: 0.5186 - val_accuracy: 0.8012\n",
            "Epoch 14/20\n",
            "115/115 [==============================] - 1s 6ms/step - loss: 0.4804 - accuracy: 0.7645 - val_loss: 0.5773 - val_accuracy: 0.7684\n",
            "Epoch 15/20\n",
            "115/115 [==============================] - 1s 5ms/step - loss: 0.4747 - accuracy: 0.7701 - val_loss: 0.5420 - val_accuracy: 0.8065\n",
            "Epoch 16/20\n",
            "115/115 [==============================] - 0s 4ms/step - loss: 0.4706 - accuracy: 0.7696 - val_loss: 0.5336 - val_accuracy: 0.7900\n",
            "Epoch 17/20\n",
            "115/115 [==============================] - 0s 3ms/step - loss: 0.4677 - accuracy: 0.7773 - val_loss: 0.5461 - val_accuracy: 0.7967\n",
            "Epoch 18/20\n",
            "115/115 [==============================] - 1s 5ms/step - loss: 0.4610 - accuracy: 0.7796 - val_loss: 0.5701 - val_accuracy: 0.7771\n",
            "Epoch 19/20\n",
            "115/115 [==============================] - 1s 5ms/step - loss: 0.4583 - accuracy: 0.7811 - val_loss: 0.5541 - val_accuracy: 0.7785\n",
            "Epoch 20/20\n",
            "115/115 [==============================] - 1s 5ms/step - loss: 0.4557 - accuracy: 0.7849 - val_loss: 0.5453 - val_accuracy: 0.7829\n",
            "247/247 [==============================] - 0s 1ms/step\n",
            "\n",
            "After Handling Imbalanced Classes with Neural Network:\n",
            "Accuracy: 0.782895571627966\n",
            "Classification Report:\n",
            "               precision    recall  f1-score   support\n",
            "\n",
            "           0       0.94      0.80      0.87      6963\n",
            "           1       0.29      0.62      0.40       918\n",
            "\n",
            "    accuracy                           0.78      7881\n",
            "   macro avg       0.62      0.71      0.63      7881\n",
            "weighted avg       0.87      0.78      0.81      7881\n",
            "\n",
            "Confusion Matrix:\n",
            " [[5604 1359]\n",
            " [ 352  566]]\n"
          ]
        }
      ],
      "source": [
        "from keras.models import Sequential\n",
        "from keras.layers import Dense\n",
        "from sklearn.metrics import accuracy_score, classification_report, confusion_matrix\n",
        "from imblearn.under_sampling import RandomUnderSampler\n",
        "from sklearn.preprocessing import StandardScaler\n",
        "\n",
        "# Before handling imbalanced classes with Neural Network\n",
        "model_before = Sequential()\n",
        "model_before.add(Dense(units=128, activation='relu', input_dim=X_train_scaled.shape[1]))\n",
        "model_before.add(Dense(units=64, activation='relu'))\n",
        "model_before.add(Dense(units=32, activation='relu'))\n",
        "model_before.add(Dense(units=1, activation='sigmoid'))\n",
        "\n",
        "model_before.compile(optimizer='adam', loss='binary_crossentropy', metrics=['accuracy'])\n",
        "\n",
        "history_before = model_before.fit(X_train_scaled, y_train, epochs=20, batch_size=64, validation_data=(X_test_scaled, y_test))\n",
        "\n",
        "# Evaluate the Neural Network before handling\n",
        "y_pred_prob_before = model_before.predict(X_test_scaled)\n",
        "y_pred_nn_before = (y_pred_prob_before > 0.5).astype(int).flatten()\n",
        "\n",
        "accuracy_nn_before = accuracy_score(y_test, y_pred_nn_before)\n",
        "classification_rep_nn_before = classification_report(y_test, y_pred_nn_before)\n",
        "conf_matrix_nn_before = confusion_matrix(y_test, y_pred_nn_before)\n",
        "\n",
        "print(\"Before Handling Imbalanced Classes with Neural Network:\")\n",
        "print(f\"Accuracy: {accuracy_nn_before}\")\n",
        "print(\"Classification Report:\\n\", classification_rep_nn_before)\n",
        "print(\"Confusion Matrix:\\n\", conf_matrix_nn_before)\n",
        "\n",
        "# Apply RandomUnderSampler to handle imbalanced classes\n",
        "sampler = RandomUnderSampler(random_state=20)\n",
        "X_resampled_nn, y_resampled_nn = sampler.fit_resample(X_train_scaled, y_train)\n",
        "\n",
        "# Train Neural Network after handling imbalanced classes\n",
        "model_after = Sequential()\n",
        "model_after.add(Dense(units=128, activation='relu', input_dim=X_train_scaled.shape[1]))\n",
        "model_after.add(Dense(units=64, activation='relu'))\n",
        "model_after.add(Dense(units=32, activation='relu'))\n",
        "model_after.add(Dense(units=1, activation='sigmoid'))\n",
        "\n",
        "model_after.compile(optimizer='adam', loss='binary_crossentropy', metrics=['accuracy'])\n",
        "\n",
        "history_after = model_after.fit(X_resampled_nn, y_resampled_nn, epochs=20, batch_size=64, validation_data=(X_test_scaled, y_test))\n",
        "\n",
        "# Evaluate the Neural Network after handling\n",
        "y_pred_prob_after = model_after.predict(X_test_scaled)\n",
        "y_pred_nn_after = (y_pred_prob_after > 0.5).astype(int).flatten()\n",
        "\n",
        "accuracy_nn_after = accuracy_score(y_test, y_pred_nn_after)\n",
        "classification_rep_nn_after = classification_report(y_test, y_pred_nn_after)\n",
        "conf_matrix_nn_after = confusion_matrix(y_test, y_pred_nn_after)\n",
        "\n",
        "print(\"\\nAfter Handling Imbalanced Classes with Neural Network:\")\n",
        "print(f\"Accuracy: {accuracy_nn_after}\")\n",
        "print(\"Classification Report:\\n\", classification_rep_nn_after)\n",
        "print(\"Confusion Matrix:\\n\", conf_matrix_nn_after)\n"
      ]
    },
    {
      "cell_type": "code",
      "source": [
        "from keras.callbacks import EarlyStopping\n",
        "\n",
        "\n",
        "# Before handling imbalanced classes with Neural Network\n",
        "model_before = Sequential()\n",
        "model_before.add(Dense(units=128, activation='relu', input_dim=X_train_scaled.shape[1]))\n",
        "model_before.add(Dense(units=64, activation='relu'))\n",
        "model_before.add(Dense(units=32, activation='relu'))\n",
        "model_before.add(Dense(units=1, activation='sigmoid'))\n",
        "\n",
        "model_before.compile(optimizer='adam', loss='binary_crossentropy', metrics=['accuracy'])\n",
        "\n",
        "# Add EarlyStopping callback\n",
        "early_stopping = EarlyStopping(monitor='val_loss', patience=3, restore_best_weights=True)\n",
        "\n",
        "history_before = model_before.fit(X_train_scaled, y_train, epochs=200, batch_size=64,\n",
        "                                  validation_data=(X_test_scaled, y_test),\n",
        "                                  callbacks=[early_stopping])\n",
        "\n",
        "# Evaluate the Neural Network before handling\n",
        "y_pred_prob_before = model_before.predict(X_test_scaled)\n",
        "y_pred_nn_before = (y_pred_prob_before > 0.5).astype(int).flatten()\n",
        "\n",
        "accuracy_nn_before = accuracy_score(y_test, y_pred_nn_before)\n",
        "classification_rep_nn_before = classification_report(y_test, y_pred_nn_before)\n",
        "conf_matrix_nn_before = confusion_matrix(y_test, y_pred_nn_before)\n",
        "\n",
        "print(\"Before Handling Imbalanced Classes with Neural Network:\")\n",
        "print(f\"Accuracy: {accuracy_nn_before}\")\n",
        "print(\"Classification Report:\\n\", classification_rep_nn_before)\n",
        "print(\"Confusion Matrix:\\n\", conf_matrix_nn_before)\n",
        "\n",
        "# Apply RandomUnderSampler to handle imbalanced classes\n",
        "sampler = RandomUnderSampler(random_state=20)\n",
        "X_resampled_nn, y_resampled_nn = sampler.fit_resample(X_train_scaled, y_train)\n",
        "\n",
        "# Train Neural Network after handling imbalanced classes\n",
        "model_after = Sequential()\n",
        "model_after.add(Dense(units=128, activation='relu', input_dim=X_train_scaled.shape[1]))\n",
        "model_after.add(Dense(units=64, activation='relu'))\n",
        "model_after.add(Dense(units=32, activation='relu'))\n",
        "model_after.add(Dense(units=1, activation='sigmoid'))\n",
        "\n",
        "model_after.compile(optimizer='adam', loss='binary_crossentropy', metrics=['accuracy'])\n",
        "\n",
        "# Add EarlyStopping callback\n",
        "history_after = model_after.fit(X_resampled_nn, y_resampled_nn, epochs=20, batch_size=64,\n",
        "                                validation_data=(X_test_scaled, y_test),\n",
        "                                callbacks=[early_stopping])\n",
        "\n",
        "# Evaluate the Neural Network after handling\n",
        "y_pred_prob_after = model_after.predict(X_test_scaled)\n",
        "y_pred_nn_after = (y_pred_prob_after > 0.5).astype(int).flatten()\n",
        "\n",
        "accuracy_nn_after = accuracy_score(y_test, y_pred_nn_after)\n",
        "classification_rep_nn_after = classification_report(y_test, y_pred_nn_after)\n",
        "conf_matrix_nn_after = confusion_matrix(y_test, y_pred_nn_after)\n",
        "\n",
        "print(\"\\nAfter Handling Imbalanced Classes with Neural Network:\")\n",
        "print(f\"Accuracy: {accuracy_nn_after}\")\n",
        "print(\"Classification Report:\\n\", classification_rep_nn_after)\n",
        "print(\"Confusion Matrix:\\n\", conf_matrix_nn_after)\n"
      ],
      "metadata": {
        "id": "clwcdByzG9XH",
        "colab": {
          "base_uri": "https://localhost:8080/"
        },
        "outputId": "88390c12-2579-4887-9e32-c1e61dc133be"
      },
      "execution_count": 71,
      "outputs": [
        {
          "output_type": "stream",
          "name": "stdout",
          "text": [
            "Epoch 1/200\n",
            "493/493 [==============================] - 2s 3ms/step - loss: 0.3012 - accuracy: 0.8933 - val_loss: 0.2948 - val_accuracy: 0.8958\n",
            "Epoch 2/200\n",
            "493/493 [==============================] - 1s 3ms/step - loss: 0.2861 - accuracy: 0.8974 - val_loss: 0.2924 - val_accuracy: 0.8951\n",
            "Epoch 3/200\n",
            "493/493 [==============================] - 1s 2ms/step - loss: 0.2827 - accuracy: 0.8977 - val_loss: 0.2935 - val_accuracy: 0.8968\n",
            "Epoch 4/200\n",
            "493/493 [==============================] - 1s 3ms/step - loss: 0.2812 - accuracy: 0.8980 - val_loss: 0.2894 - val_accuracy: 0.8965\n",
            "Epoch 5/200\n",
            "493/493 [==============================] - 2s 4ms/step - loss: 0.2789 - accuracy: 0.8991 - val_loss: 0.2917 - val_accuracy: 0.8956\n",
            "Epoch 6/200\n",
            "493/493 [==============================] - 2s 4ms/step - loss: 0.2772 - accuracy: 0.8992 - val_loss: 0.2976 - val_accuracy: 0.8958\n",
            "Epoch 7/200\n",
            "493/493 [==============================] - 1s 3ms/step - loss: 0.2760 - accuracy: 0.8992 - val_loss: 0.2918 - val_accuracy: 0.8949\n",
            "247/247 [==============================] - 0s 1ms/step\n",
            "Before Handling Imbalanced Classes with Neural Network:\n",
            "Accuracy: 0.8964598401218119\n",
            "Classification Report:\n",
            "               precision    recall  f1-score   support\n",
            "\n",
            "           0       0.90      0.99      0.94      6963\n",
            "           1       0.68      0.21      0.32       918\n",
            "\n",
            "    accuracy                           0.90      7881\n",
            "   macro avg       0.79      0.60      0.63      7881\n",
            "weighted avg       0.88      0.90      0.87      7881\n",
            "\n",
            "Confusion Matrix:\n",
            " [[6872   91]\n",
            " [ 725  193]]\n",
            "Epoch 1/20\n",
            "115/115 [==============================] - 1s 5ms/step - loss: 0.5625 - accuracy: 0.7186 - val_loss: 0.5454 - val_accuracy: 0.8109\n",
            "Epoch 2/20\n",
            "115/115 [==============================] - 1s 5ms/step - loss: 0.5359 - accuracy: 0.7372 - val_loss: 0.5485 - val_accuracy: 0.8029\n",
            "Epoch 3/20\n",
            "115/115 [==============================] - 1s 5ms/step - loss: 0.5311 - accuracy: 0.7387 - val_loss: 0.5243 - val_accuracy: 0.8104\n",
            "Epoch 4/20\n",
            "115/115 [==============================] - 0s 4ms/step - loss: 0.5226 - accuracy: 0.7414 - val_loss: 0.4970 - val_accuracy: 0.8250\n",
            "Epoch 5/20\n",
            "115/115 [==============================] - 0s 4ms/step - loss: 0.5186 - accuracy: 0.7452 - val_loss: 0.6165 - val_accuracy: 0.7376\n",
            "Epoch 6/20\n",
            "115/115 [==============================] - 1s 5ms/step - loss: 0.5169 - accuracy: 0.7490 - val_loss: 0.4635 - val_accuracy: 0.8371\n",
            "Epoch 7/20\n",
            "115/115 [==============================] - 0s 4ms/step - loss: 0.5120 - accuracy: 0.7499 - val_loss: 0.5776 - val_accuracy: 0.7854\n",
            "Epoch 8/20\n",
            "115/115 [==============================] - 0s 4ms/step - loss: 0.5073 - accuracy: 0.7518 - val_loss: 0.4990 - val_accuracy: 0.8296\n",
            "Epoch 9/20\n",
            "115/115 [==============================] - 0s 4ms/step - loss: 0.5026 - accuracy: 0.7573 - val_loss: 0.5021 - val_accuracy: 0.8250\n",
            "247/247 [==============================] - 0s 1ms/step\n",
            "\n",
            "After Handling Imbalanced Classes with Neural Network:\n",
            "Accuracy: 0.8370765131328511\n",
            "Classification Report:\n",
            "               precision    recall  f1-score   support\n",
            "\n",
            "           0       0.94      0.87      0.90      6963\n",
            "           1       0.37      0.57      0.45       918\n",
            "\n",
            "    accuracy                           0.84      7881\n",
            "   macro avg       0.66      0.72      0.68      7881\n",
            "weighted avg       0.87      0.84      0.85      7881\n",
            "\n",
            "Confusion Matrix:\n",
            " [[6071  892]\n",
            " [ 392  526]]\n"
          ]
        }
      ]
    },
    {
      "cell_type": "code",
      "execution_count": 72,
      "metadata": {
        "id": "Sbw5pm9ZzFpS",
        "colab": {
          "base_uri": "https://localhost:8080/",
          "height": 564
        },
        "outputId": "213cbeb3-ae8e-4408-87c8-fbefda5ead6a"
      },
      "outputs": [
        {
          "output_type": "display_data",
          "data": {
            "text/plain": [
              "<Figure size 800x600 with 2 Axes>"
            ],
            "image/png": "[encoded data removed]"
          },
          "metadata": {}
        }
      ],
      "source": [
        "from sklearn.metrics import confusion_matrix\n",
        "import matplotlib.pyplot as plt\n",
        "import seaborn as sns\n",
        "\n",
        "# Function to plot confusion matrix\n",
        "def plot_confusion_matrix_custom(y_true, y_pred, classes, cmap='Blues'):\n",
        "    cm = confusion_matrix(y_true, y_pred)\n",
        "    plt.figure(figsize=(8, 6))\n",
        "    sns.heatmap(cm, annot=True, fmt='d', cmap=cmap, xticklabels=classes, yticklabels=classes)\n",
        "    plt.title('Confusion Matrix')\n",
        "    plt.xlabel('Predicted')\n",
        "    plt.ylabel('True')\n",
        "    plt.show()\n",
        "\n",
        "# Usage example for Random Forest\n",
        "plot_confusion_matrix_custom(y_test, y_pred, classes=['Not Subscribed', 'Subscribed'])\n"
      ]
    },
    {
      "cell_type": "code",
      "execution_count": 73,
      "metadata": {
        "id": "8OJ4ikELlCSx",
        "colab": {
          "base_uri": "https://localhost:8080/",
          "height": 1000
        },
        "outputId": "0fe63a54-9248-4a0c-cf83-8f0baabd8538"
      },
      "outputs": [
        {
          "output_type": "display_data",
          "data": {
            "text/plain": [
              "<Figure size 1000x600 with 1 Axes>"
            ],
            "image/png": "[encoded data removed]"
          },
          "metadata": {}
        },
        {
          "output_type": "stream",
          "name": "stdout",
          "text": [
            "Model: Random Forest\n",
            "\n",
            "              precision    recall  f1-score   support\n",
            "\n",
            "           0       0.90      0.98      0.94      6963\n",
            "           1       0.64      0.21      0.32       918\n",
            "\n",
            "    accuracy                           0.89      7881\n",
            "   macro avg       0.77      0.60      0.63      7881\n",
            "weighted avg       0.87      0.89      0.87      7881\n",
            "\n",
            "----------------------------------------------\n",
            "Model: SVM\n",
            "\n",
            "              precision    recall  f1-score   support\n",
            "\n",
            "           0       0.90      0.98      0.94      6963\n",
            "           1       0.60      0.19      0.29       918\n",
            "\n",
            "    accuracy                           0.89      7881\n",
            "   macro avg       0.75      0.59      0.62      7881\n",
            "weighted avg       0.87      0.89      0.87      7881\n",
            "\n",
            "----------------------------------------------\n",
            "Model: Neural Network\n",
            "\n",
            "              precision    recall  f1-score   support\n",
            "\n",
            "           0       0.91      0.98      0.94      6963\n",
            "           1       0.63      0.24      0.35       918\n",
            "\n",
            "    accuracy                           0.89      7881\n",
            "   macro avg       0.77      0.61      0.65      7881\n",
            "weighted avg       0.87      0.89      0.87      7881\n",
            "\n",
            "----------------------------------------------\n",
            "Model: Logistic Regression\n",
            "\n",
            "              precision    recall  f1-score   support\n",
            "\n",
            "           0       0.94      0.82      0.88      6963\n",
            "           1       0.32      0.63      0.42       918\n",
            "\n",
            "    accuracy                           0.80      7881\n",
            "   macro avg       0.63      0.72      0.65      7881\n",
            "weighted avg       0.87      0.80      0.82      7881\n",
            "\n",
            "----------------------------------------------\n",
            "Model: Random Forest\n",
            "\n",
            "[[6855  108]\n",
            " [ 726  192]]\n",
            "----------------------------------------------\n",
            "Model: SVM\n",
            "\n",
            "[[6846  117]\n",
            " [ 740  178]]\n",
            "----------------------------------------------\n",
            "Model: Neural Network\n",
            "\n",
            "[[6830  133]\n",
            " [ 695  223]]\n",
            "----------------------------------------------\n",
            "Model: Logistic Regression\n",
            "\n",
            "[[5716 1247]\n",
            " [ 344  574]]\n",
            "----------------------------------------------\n"
          ]
        }
      ],
      "source": [
        "import matplotlib.pyplot as plt\n",
        "\n",
        "# List of models and their corresponding accuracy scores\n",
        "models = ['Random Forest', 'SVM', 'Neural Network', 'Logistic Regression']\n",
        "accuracy_scores = [accuracy, accuracy_svm, accuracy_nn, accuracy_after_lr]\n",
        "\n",
        "# Create a bar plot for accuracy comparison\n",
        "plt.figure(figsize=(10, 6))\n",
        "plt.bar(models, accuracy_scores, color=['blue', 'green', 'orange', 'purple'])\n",
        "plt.xlabel('Models')\n",
        "plt.ylabel('Accuracy')\n",
        "plt.title('Model Accuracy Comparison Before Handling Imbalanced Classes')\n",
        "plt.show()\n",
        "\n",
        "# Visualize classification report comparison\n",
        "classification_reports = [classification_rep, classification_rep_svm, classification_rep_nn, classification_rep_after_lr]\n",
        "\n",
        "for model, report in zip(models, classification_reports):\n",
        "    print(f\"Model: {model}\\n\")\n",
        "    print(report)\n",
        "    print(\"----------------------------------------------\")\n",
        "\n",
        "# Confusion matrix comparison\n",
        "confusion_matrices = [conf_matrix, conf_matrix_svm, conf_matrix_nn, conf_matrix_after_lr]\n",
        "\n",
        "for model, matrix in zip(models, confusion_matrices):\n",
        "    print(f\"Model: {model}\\n\")\n",
        "    print(matrix)\n",
        "    print(\"----------------------------------------------\")\n"
      ]
    },
    {
      "cell_type": "code",
      "source": [
        "import matplotlib.pyplot as plt\n",
        "\n",
        "# List of models and their corresponding accuracy scores\n",
        "models = ['Random Forest', 'SVM', 'Logistic Regression', 'Neural Network']\n",
        "accuracy_scores = [accuracy_after, accuracy_after_svm, accuracy_after_lr, accuracy_nn_after]\n",
        "\n",
        "# Create a bar plot\n",
        "plt.figure(figsize=(10, 6))\n",
        "plt.bar(models, accuracy_scores, color=['blue', 'green', 'purple', 'orange'])\n",
        "plt.xlabel('Models')\n",
        "plt.ylabel('Accuracy')\n",
        "plt.title('Model Accuracy Comparison After Handling Imbalanced Classes')\n",
        "plt.ylim(0, 1)  # Set the y-axis range from 0 to 1 for accuracy values\n",
        "plt.show()\n"
      ],
      "metadata": {
        "id": "HaAk31pWVo6m",
        "colab": {
          "base_uri": "https://localhost:8080/",
          "height": 564
        },
        "outputId": "d2a72c99-358d-4f36-a617-9307782d22a4"
      },
      "execution_count": 74,
      "outputs": [
        {
          "output_type": "display_data",
          "data": {
            "text/plain": [
              "<Figure size 1000x600 with 1 Axes>"
            ],
            "image/png": "[encoded data removed]"
          },
          "metadata": {}
        }
      ]
    },
    {
      "cell_type": "code",
      "source": [
        "import matplotlib.pyplot as plt\n",
        "\n",
        "# List of models and their corresponding accuracy scores\n",
        "models = ['Random Forest', 'SVM', 'Logistic Regression', 'Neural Network']\n",
        "accuracy_scores = [accuracy_after, accuracy_after_svm, accuracy_after_lr, accuracy_nn_after]\n",
        "\n",
        "# Convert accuracy scores to percentages\n",
        "accuracy_percentages = [score * 100 for score in accuracy_scores]\n",
        "\n",
        "# Create a bar plot\n",
        "plt.figure(figsize=(10, 6))\n",
        "bars = plt.bar(models, accuracy_percentages, color=['blue', 'green', 'purple', 'orange'])\n",
        "plt.xlabel('Models')\n",
        "plt.ylabel('Accuracy (%)')\n",
        "plt.title('Model Accuracy Comparison After Handling Imbalanced Classes')\n",
        "plt.ylim(0, 100)  # Set the y-axis range from 0 to 100 for percentage values\n",
        "\n",
        "# Add percentage labels on top of each bar\n",
        "for bar, percentage in zip(bars, accuracy_percentages):\n",
        "    plt.text(bar.get_x() + bar.get_width() / 2 - 0.15, bar.get_height() + 1,\n",
        "             f'{percentage:.2f}%', ha='center', va='bottom', color='black')\n",
        "\n",
        "plt.show()\n"
      ],
      "metadata": {
        "colab": {
          "base_uri": "https://localhost:8080/",
          "height": 564
        },
        "id": "WGa1Iqt5tYS7",
        "outputId": "aca1a96f-9149-4780-ef2a-c738167c95c1"
      },
      "execution_count": 75,
      "outputs": [
        {
          "output_type": "display_data",
          "data": {
            "text/plain": [
              "<Figure size 1000x600 with 1 Axes>"
            ],
            "image/png": "[encoded data removed]"
          },
          "metadata": {}
        }
      ]
    }
  ],
  "metadata": {
    "colab": {
      "provenance": []
    },
    "kernelspec": {
      "display_name": "Python 3",
      "name": "python3"
    },
    "language_info": {
      "name": "python"
    }
  },
  "nbformat": 4,
  "nbformat_minor": 0
}